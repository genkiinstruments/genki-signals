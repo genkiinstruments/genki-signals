{
 "cells": [
  {
   "attachments": {},
   "cell_type": "markdown",
   "metadata": {},
   "source": [
    "# Arduino"
   ]
  },
  {
   "attachments": {},
   "cell_type": "markdown",
   "metadata": {},
   "source": [
    "Let's say we want to train a model for our Arduino (We are using Arduino Nano 33 BLE Sense Rev2 for this example).\n",
    "\n",
    "First we would need some data. There are two fundemental ways to stream data from the arduino to our computer.\n",
    "\n",
    "    1. Using the serial port\n",
    "    2. Using the BLE"
   ]
  },
  {
   "attachments": {},
   "cell_type": "markdown",
   "metadata": {},
   "source": [
    "# Is the BLESignalSource only Arduino compatible ?"
   ]
  },
  {
   "attachments": {},
   "cell_type": "markdown",
   "metadata": {},
   "source": [
    "Let's first look at the serial port."
   ]
  },
  {
   "cell_type": "code",
   "execution_count": 1,
   "metadata": {},
   "outputs": [],
   "source": [
    "import os\n",
    "\n",
    "os.chdir(\"../\")"
   ]
  },
  {
   "attachments": {},
   "cell_type": "markdown",
   "metadata": {},
   "source": [
    "Let's stream mic samples from the arduino board. \n",
    "\n",
    "We use the PDM library to sample our mic and then stream 256 samples (512 bytes) over the serial port at a time\n",
    "\n",
    "Then we need to create a SignalSource to receive these samples. Let's write this as a Sampler.\n",
    "\n",
    "A Sampler needs 3 methods\n",
    "    \n",
    "    1. start\n",
    "    2. stop\n",
    "    3. read\n",
    "\n",
    "start should open the serial port and start processing the samples in a seperate thread.\n",
    "\n",
    "stop should stop the processing, close the serial port and join the thread\n",
    "\n",
    "and read returns all the samples read so far.\n",
    "\n"
   ]
  },
  {
   "cell_type": "code",
   "execution_count": null,
   "metadata": {},
   "outputs": [],
   "source": [
    "from genki_signals.signal_sources.base import SamplerBase\n",
    "from genki_signals.buffers import DataBuffer\n",
    "import serial\n",
    "from threading import Thread\n",
    "import numpy as np\n",
    "import struct\n",
    "\n",
    "class AudioSignalSource(SamplerBase):\n",
    "    def __init__(self, port, baud_rate=115200, batch_size=256):\n",
    "        self.port = port\n",
    "        self.baud_rate = baud_rate\n",
    "        self.batch_size = batch_size\n",
    "        self.buffer = DataBuffer()\n",
    "    \n",
    "    def start(self):\n",
    "        self.is_active = True\n",
    "        self.serial = serial.Serial(self.port, baudrate=self.baud_rate, timeout=1)\n",
    "        self.thread = Thread(target=self.process_data)\n",
    "        self.thread.start()\n",
    "\n",
    "    def stop(self):\n",
    "        self.is_active = False\n",
    "        if self.thread is not None:\n",
    "            self.thread.join()\n",
    "        if self.serial is not None:\n",
    "            self.serial.close()\n",
    "\n",
    "    def process_data(self):\n",
    "        while self.is_active:\n",
    "            raw = self.serial.read(self.batch_size * 2)\n",
    "            values =  np.asarray(struct.unpack(f\"<{self.batch_size}h\", raw))\n",
    "            data = {\"audio\": values}\n",
    "            self.buffer.extend(data)\n",
    "        \n",
    "    def read(self):\n",
    "        value = self.buffer.copy()\n",
    "        self.buffer.clear()\n",
    "        return value\n",
    "\n",
    "\n",
    "source = AudioSignalSource('/dev/tty.usbmodem11401')\n",
    "source.start()"
   ]
  },
  {
   "cell_type": "code",
   "execution_count": null,
   "metadata": {},
   "outputs": [],
   "source": [
    "source.read()"
   ]
  },
  {
   "cell_type": "code",
   "execution_count": null,
   "metadata": {},
   "outputs": [],
   "source": [
    "source.stop()"
   ]
  },
  {
   "attachments": {},
   "cell_type": "markdown",
   "metadata": {},
   "source": [
    "We can also use BLE (Bluetooth Low Energy).\n",
    "\n",
    "We could create a SignalSource from scratch where we need to deal with threading and an asynchronous BLE packet receiver.\n",
    "\n",
    "Or we can use the BLESignalSource where we only need to create a subclass of BLEProtocol.\n",
    "\n",
    "Our subclass needs to define an async function, data_received(self, packet), that receives a packet and transforms them into samples. \n",
    "\n",
    "Finally we need to put them into an async queue (defined in superclass)\n",
    "\n",
    "The BLESignalSource should do the rest."
   ]
  },
  {
   "cell_type": "code",
   "execution_count": 92,
   "metadata": {},
   "outputs": [
    {
     "name": "stdout",
     "output_type": "stream",
     "text": [
      "Connecting to device at address 5A37ABD2-264A-F991-6352-697F09DE0AFD\n"
     ]
    }
   ],
   "source": [
    "import time\n",
    "import struct\n",
    "import numpy as np\n",
    "\n",
    "from genki_signals.signal_sources import BLESignalSource, BLEProtocol\n",
    "\n",
    "ble_address = \"5A37ABD2-264A-F991-6352-697F09DE0AFD\" #replace with your BLE Address\n",
    "char_uuid = \"19b10001-e8f2-537e-4f6c-d104768a1214\" #replace with your Characteristic UUID\n",
    "\n",
    "class MyArduinoBLEProtocol(BLEProtocol):\n",
    "    def __init__(self):\n",
    "        super().__init__()\n",
    "\n",
    "    # This function receives data_packets from BLE and puts them in an asyncio queue\n",
    "    # No encoding\n",
    "    # Single sample per packet\n",
    "    async def packet_received(self, packet) -> None:\n",
    "        values = struct.unpack('<11f', packet)\n",
    "        data_dict = {\n",
    "            \"timestamp\": np.array([time.time()]), \n",
    "            \"acc\": np.expand_dims(values[:3], axis=1),\n",
    "            \"gyro\": np.expand_dims(values[3:6], axis=1),\n",
    "            \"color\": np.expand_dims(values[6:10], axis=1),\n",
    "            \"proximity\": np.array(values[10:11]),\n",
    "        }\n",
    "        await self.queue.put(data_dict)\n",
    "        \n",
    "\n",
    "source = BLESignalSource(ble_address, char_uuid, MyArduinoBLEProtocol)\n",
    "source.start()"
   ]
  },
  {
   "cell_type": "code",
   "execution_count": 105,
   "metadata": {},
   "outputs": [
    {
     "data": {
      "text/plain": [
       "DataBuffer(max_size=None, data=timestamp: (99,)\n",
       "acc: (3, 99)\n",
       "gyro: (3, 99)\n",
       "color: (4, 99)\n",
       "proximity: (99,))"
      ]
     },
     "execution_count": 105,
     "metadata": {},
     "output_type": "execute_result"
    }
   ],
   "source": [
    "source.read()"
   ]
  },
  {
   "cell_type": "code",
   "execution_count": 104,
   "metadata": {},
   "outputs": [
    {
     "name": "stdout",
     "output_type": "stream",
     "text": [
      "Got a cancel message, exiting.\n"
     ]
    }
   ],
   "source": [
    "source.stop()"
   ]
  }
 ],
 "metadata": {
  "kernelspec": {
   "display_name": "genki",
   "language": "python",
   "name": "python3"
  },
  "language_info": {
   "codemirror_mode": {
    "name": "ipython",
    "version": 3
   },
   "file_extension": ".py",
   "mimetype": "text/x-python",
   "name": "python",
   "nbconvert_exporter": "python",
   "pygments_lexer": "ipython3",
   "version": "3.9.12 | packaged by conda-forge | (main, Mar 24 2022, 23:25:14) \n[Clang 12.0.1 ]"
  },
  "orig_nbformat": 4,
  "vscode": {
   "interpreter": {
    "hash": "5d1ca8cbf69155084332556ae3352aa9e7bf4a96dd6bb5cc51f4289812d36157"
   }
  }
 },
 "nbformat": 4,
 "nbformat_minor": 2
}
