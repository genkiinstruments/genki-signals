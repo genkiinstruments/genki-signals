{
 "cells": [
  {
   "cell_type": "code",
   "execution_count": 31,
   "id": "237ef10f-485e-4e6b-ad7a-bcb67db8af77",
   "metadata": {
    "tags": []
   },
   "outputs": [],
   "source": [
    "import os \n",
    "os.chdir('/Users/egill/dev/genki/genki-signals')\n",
    "\n",
    "import time\n",
    "import numpy as np\n",
    "from threading import Thread\n",
    "\n",
    "from genki_signals.buffers import DataBuffer\n",
    "from genki_signals.signal_sources import WaveSignalSource\n",
    "import genki_signals.signal_functions as sf\n",
    "from genki_signals.signal_system import SignalSystem"
   ]
  },
  {
   "cell_type": "code",
   "execution_count": 32,
   "id": "a715a409-eec0-405e-979a-bcd80da9ea2a",
   "metadata": {
    "tags": []
   },
   "outputs": [],
   "source": [
    "wave_source = WaveSignalSource(ble_address='7CEF8BE3-F544-99C9-B25A-3C6DD1281491', spectrogram=True)"
   ]
  },
  {
   "cell_type": "code",
   "execution_count": 33,
   "id": "a0b53902-16f9-4a27-ab68-eef7b3db59e3",
   "metadata": {
    "tags": []
   },
   "outputs": [
    {
     "name": "stdout",
     "output_type": "stream",
     "text": [
      "Connecting to wave at address 7CEF8BE3-F544-99C9-B25A-3C6DD1281491\n",
      "Connected to Wave\n"
     ]
    }
   ],
   "source": [
    "derived = [\n",
    "    sf.Concatenate(['acc_x', 'acc_y', 'acc_z', 'gyro_x', 'gyro_y', 'gyro_z'], name='concat'),\n",
    "    sf.Reshape('concat', shape=(6, 16), name='model_input'),\n",
    "    sf.Inference(\n",
    "        'genki_signals/models/is_touching_model/model.onnx', \n",
    "        'model_input', \n",
    "        stateful=True, \n",
    "        name='is_touching_inference',\n",
    "        init_state = np.zeros((1,512))\n",
    "    )\n",
    "]\n",
    "\n",
    "system = SignalSystem(wave_source, derived_signals=derived)\n",
    "buffer = DataBuffer(maxlen=400)\n",
    "\n",
    "def run_system():\n",
    "    system.start()\n",
    "    while True:\n",
    "        buffer.extend(system.read())\n",
    "        time.sleep(1 / 50)\n",
    "        if not system.is_active:\n",
    "            return\n",
    "\n",
    "t = Thread(target=run_system)\n",
    "t.start()"
   ]
  },
  {
   "cell_type": "code",
   "execution_count": 34,
   "id": "05e69edc-a81c-476e-8b17-323bff444775",
   "metadata": {
    "tags": []
   },
   "outputs": [
    {
     "data": {
      "application/vnd.jupyter.widget-view+json": {
       "model_id": "a5dd5db71ea447c8aa906c9324aaceac",
       "version_major": 2,
       "version_minor": 0
      },
      "text/plain": [
       "Figure(axes=[Axis(scale=OrdinalScale()), Axis(label='Probability', orientation='vertical', scale=LinearScale()…"
      ]
     },
     "metadata": {},
     "output_type": "display_data"
    }
   ],
   "source": [
    "buffer.plot('is_touching_inference', plot_type='histogram', class_names=['touching_still', 'touching_moving', 'in_air_still', 'in_air_moving'])"
   ]
  },
  {
   "cell_type": "code",
   "execution_count": 35,
   "id": "ff8f9e29-046b-4d5f-8dd9-d93451661cab",
   "metadata": {
    "tags": []
   },
   "outputs": [
    {
     "name": "stdout",
     "output_type": "stream",
     "text": [
      "Got a cancel message, exiting.\n"
     ]
    }
   ],
   "source": [
    "system.stop(); t.join()"
   ]
  },
  {
   "cell_type": "code",
   "execution_count": 36,
   "id": "5215ad40-da14-49bc-aa04-47794fc88ee1",
   "metadata": {
    "tags": []
   },
   "outputs": [
    {
     "name": "stdout",
     "output_type": "stream",
     "text": [
      "The Zen of Python, by Tim Peters\n",
      "\n",
      "Beautiful is better than ugly.\n",
      "Explicit is better than implicit.\n",
      "Simple is better than complex.\n",
      "Complex is better than complicated.\n",
      "Flat is better than nested.\n",
      "Sparse is better than dense.\n",
      "Readability counts.\n",
      "Special cases aren't special enough to break the rules.\n",
      "Although practicality beats purity.\n",
      "Errors should never pass silently.\n",
      "Unless explicitly silenced.\n",
      "In the face of ambiguity, refuse the temptation to guess.\n",
      "There should be one-- and preferably only one --obvious way to do it.\n",
      "Although that way may not be obvious at first unless you're Dutch.\n",
      "Now is better than never.\n",
      "Although never is often better than *right* now.\n",
      "If the implementation is hard to explain, it's a bad idea.\n",
      "If the implementation is easy to explain, it may be a good idea.\n",
      "Namespaces are one honking great idea -- let's do more of those!\n"
     ]
    }
   ],
   "source": [
    "import this"
   ]
  },
  {
   "cell_type": "code",
   "execution_count": null,
   "id": "312b0548-7d8a-4f3a-a55c-818a417b76e8",
   "metadata": {},
   "outputs": [],
   "source": []
  }
 ],
 "metadata": {
  "kernelspec": {
   "display_name": "Python 3 (ipykernel)",
   "language": "python",
   "name": "python3"
  },
  "language_info": {
   "codemirror_mode": {
    "name": "ipython",
    "version": 3
   },
   "file_extension": ".py",
   "mimetype": "text/x-python",
   "name": "python",
   "nbconvert_exporter": "python",
   "pygments_lexer": "ipython3",
   "version": "3.9.12"
  }
 },
 "nbformat": 4,
 "nbformat_minor": 5
}
