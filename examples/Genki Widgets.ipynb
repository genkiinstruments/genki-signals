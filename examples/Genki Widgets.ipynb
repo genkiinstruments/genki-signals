{
 "cells": [
  {
   "cell_type": "markdown",
   "metadata": {},
   "source": [
    "# Introduction to Genki Widgets\n",
    "\n",
    "A small plotting library which provides a python interface via jupyter widgets to the frontend application we are developing."
   ]
  },
  {
   "cell_type": "code",
   "execution_count": 1,
   "metadata": {},
   "outputs": [],
   "source": [
    "import genki_widgets as gw\n",
    "\n",
    "import os \n",
    "os.chdir('/Users/bjarnihaukurbjarnason/documents/genki-signals')\n",
    "\n",
    "import genki_signals.signals as s\n",
    "from genki_signals.buffers import DataBuffer\n",
    "from genki_signals.data_sources import Sampler"
   ]
  },
  {
   "cell_type": "code",
   "execution_count": 2,
   "metadata": {},
   "outputs": [],
   "source": [
    "\n",
    "import time\n",
    "from threading import Thread\n",
    "\n",
    "from genki_signals.data_sources import SineWave\n",
    "\n",
    "sine_buffer = DataBuffer(max_size=400)\n",
    "sine_wave = SineWave(frequency=1, amplitude=5, phase=0)\n",
    "sine_source = Sampler(sources={'sine': sine_wave}, sample_rate=100)\n",
    "\n",
    "def run_source(buffer, source):\n",
    "    source.start()\n",
    "    while True:\n",
    "        buffer.extend(source.read())\n",
    "        time.sleep(1 / 50)\n",
    "        if not source.is_active:\n",
    "            return\n",
    "        \n",
    "t1 = Thread(target=run_source, args=(sine_buffer, sine_source))\n",
    "t1.start()"
   ]
  },
  {
   "cell_type": "code",
   "execution_count": 3,
   "metadata": {},
   "outputs": [
    {
     "data": {
      "text/plain": [
       "DataBuffer(max_size=400, data=timestamp: (130,)\n",
       "sine: (130,))"
      ]
     },
     "execution_count": 3,
     "metadata": {},
     "output_type": "execute_result"
    }
   ],
   "source": [
    "sine_buffer"
   ]
  },
  {
   "cell_type": "code",
   "execution_count": 4,
   "metadata": {},
   "outputs": [
    {
     "data": {
      "application/vnd.jupyter.widget-view+json": {
       "model_id": "1fcd1bf86a46461389d858b8b69cfe7c",
       "version_major": 2,
       "version_minor": 0
      },
      "text/plain": [
       "Line(n_visible_points=300, sig_x={'key': 'timestamp', 'idx': 0, 'name': ''}, sig_y=[{'key': 'sine', 'idx': 0, …"
      ]
     },
     "metadata": {},
     "output_type": "display_data"
    }
   ],
   "source": [
    "# create a simple line plot\n",
    "\n",
    "line = gw.Line((\"timestamp\", 0), (\"sine\", 0), x_axis_visible=False, n_visible_points=300)\n",
    "line"
   ]
  },
  {
   "cell_type": "code",
   "execution_count": 5,
   "metadata": {},
   "outputs": [],
   "source": [
    "sine_buffer.add_callback(line.update)\n"
   ]
  },
  {
   "cell_type": "code",
   "execution_count": 6,
   "metadata": {},
   "outputs": [],
   "source": [
    "# sine_source.stop(); t1.join()"
   ]
  },
  {
   "cell_type": "code",
   "execution_count": 7,
   "metadata": {},
   "outputs": [],
   "source": [
    "from genki_signals.data_sources import MouseDataSource\n",
    "\n",
    "\n",
    "mouse_buffer = DataBuffer(max_size=100)\n",
    "mouse_source = Sampler({'mouse_position': MouseDataSource()}, sample_rate=100)\n",
    "\n",
    "t2 = Thread(target=run_source, args=(mouse_buffer, mouse_source))\n",
    "t2.start()"
   ]
  },
  {
   "cell_type": "markdown",
   "metadata": {},
   "source": [
    "Each chart can display itself or it can be wrapped in a `gw.Dashboard` widget which enables us to have many charts in the same window."
   ]
  },
  {
   "cell_type": "code",
   "execution_count": 8,
   "metadata": {
    "scrolled": false
   },
   "outputs": [
    {
     "data": {
      "application/vnd.jupyter.widget-view+json": {
       "model_id": "5f2f0a83028145d2b480ade2777bb170",
       "version_major": 2,
       "version_minor": 0
      },
      "text/plain": [
       "Dashboard(plot_widgets=[Line(sig_x={'key': 'timestamp', 'idx': 0, 'name': ''}, sig_y=[{'key': 'mouse_position'…"
      ]
     },
     "metadata": {},
     "output_type": "display_data"
    }
   ],
   "source": [
    "sig_x = (\"timestamp\", 0)\n",
    "sig_y = [\n",
    "    (\"mouse_position\", 0, \"x\"),\n",
    "    (\"mouse_position\", 1, \"y\"),\n",
    "]\n",
    "\n",
    "line = gw.Line(sig_x, sig_y, x_axis_visible=False)\n",
    "bar = gw.Bar(sig_y)\n",
    "\n",
    "dashboard = gw.Dashboard([line, bar])\n",
    "dashboard"
   ]
  },
  {
   "cell_type": "code",
   "execution_count": 9,
   "metadata": {},
   "outputs": [],
   "source": [
    "mouse_buffer.add_callback(dashboard.update)"
   ]
  },
  {
   "cell_type": "code",
   "execution_count": 10,
   "metadata": {},
   "outputs": [],
   "source": [
    "line.x_axis_flipped = True"
   ]
  },
  {
   "cell_type": "code",
   "execution_count": 11,
   "metadata": {},
   "outputs": [
    {
     "data": {
      "application/vnd.jupyter.widget-view+json": {
       "model_id": "266dbb13a2294806a1a81edb556326ea",
       "version_major": 2,
       "version_minor": 0
      },
      "text/plain": [
       "Line(sig_x={'key': 'timestamp', 'idx': 0, 'name': ''}, sig_y=[{'key': 'mouse_position', 'idx': 0, 'name': 'x'}…"
      ]
     },
     "metadata": {},
     "output_type": "display_data"
    }
   ],
   "source": [
    "line"
   ]
  },
  {
   "cell_type": "code",
   "execution_count": 12,
   "metadata": {},
   "outputs": [],
   "source": [
    "mouse_buffer.add_callback(line.update)"
   ]
  },
  {
   "cell_type": "markdown",
   "metadata": {},
   "source": [
    "This library can also handle an incredible throughput of data. A good example of which is the `gw.Spectrogram` widget."
   ]
  },
  {
   "cell_type": "code",
   "execution_count": 13,
   "metadata": {},
   "outputs": [
    {
     "data": {
      "application/vnd.jupyter.widget-view+json": {
       "model_id": "6e12cf7b3f40435fb22600e28efc915e",
       "version_major": 2,
       "version_minor": 0
      },
      "text/plain": [
       "Line(sig_x={'key': 'timestamp', 'idx': 0, 'name': ''}, sig_y=[{'key': 'mouse_position', 'idx': 0, 'name': 'x'}…"
      ]
     },
     "metadata": {},
     "output_type": "display_data"
    }
   ],
   "source": [
    "line3 = gw.Line(sig_x, sig_y, x_axis_visible=False)\n",
    "line3"
   ]
  },
  {
   "cell_type": "code",
   "execution_count": 14,
   "metadata": {},
   "outputs": [],
   "source": [
    "mouse_buffer.add_callback(line3.update)"
   ]
  },
  {
   "cell_type": "code",
   "execution_count": 15,
   "metadata": {},
   "outputs": [],
   "source": [
    "from genki_signals.system import System\n",
    "from genki_signals.data_sources import MicDataSource\n",
    "\n",
    "audio_buffer = DataBuffer(400)\n",
    "mic_source = MicDataSource()\n",
    "derived = [\n",
    "    s.FourierTransform('audio', name='spectro', window_size=2048, window_overlap=1024)\n",
    "]\n",
    "\n",
    "system = System(\n",
    "    mic_source,\n",
    "    derived\n",
    ")"
   ]
  },
  {
   "cell_type": "code",
   "execution_count": 16,
   "metadata": {},
   "outputs": [],
   "source": [
    "import time\n",
    "from threading import Thread\n",
    "\n",
    "def run_system():\n",
    "    system.start()\n",
    "    while True:\n",
    "        audio_buffer.extend(system.read())\n",
    "        time.sleep(1 / 25)\n",
    "        if not system.running: \n",
    "            return\n",
    "        \n",
    "t3 = Thread(target=run_system)\n",
    "t3.start()"
   ]
  },
  {
   "cell_type": "code",
   "execution_count": 17,
   "metadata": {
    "scrolled": true
   },
   "outputs": [
    {
     "data": {
      "text/plain": [
       "DataBuffer(max_size=400, data=audio: (400,)\n",
       "spectro: (1025, 400))"
      ]
     },
     "execution_count": 17,
     "metadata": {},
     "output_type": "execute_result"
    }
   ],
   "source": [
    "audio_buffer"
   ]
  },
  {
   "cell_type": "markdown",
   "metadata": {},
   "source": [
    "Here we create the aforementioned spectrogram which contains `1025x500=512.500` datapoints!"
   ]
  },
  {
   "cell_type": "code",
   "execution_count": 18,
   "metadata": {},
   "outputs": [
    {
     "data": {
      "application/vnd.jupyter.widget-view+json": {
       "model_id": "9a581093ca084f658adee69a660da503",
       "version_major": 2,
       "version_minor": 0
      },
      "text/plain": [
       "Spectrogram(colormap_max=3.0, n_visible_windows=500, sig_x={'key': '', 'idx': 0, 'name': ''}, sig_y=[{'key': '…"
      ]
     },
     "metadata": {},
     "output_type": "display_data"
    }
   ],
   "source": [
    "spectro = gw.Spectrogram(\n",
    "    (\"spectro\", 0),\n",
    "    window_size = 2048,\n",
    "    sampling_rate = mic_source.sample_rate,\n",
    "    n_visible_windows = 500,\n",
    "    colormap_max = 3,\n",
    ")\n",
    "spectro"
   ]
  },
  {
   "cell_type": "code",
   "execution_count": 19,
   "metadata": {},
   "outputs": [],
   "source": [
    "audio_buffer.add_callback(spectro.update)\n"
   ]
  },
  {
   "cell_type": "code",
   "execution_count": null,
   "metadata": {},
   "outputs": [],
   "source": [
    "1-1"
   ]
  }
 ],
 "metadata": {
  "kernelspec": {
   "display_name": "Python 3 (ipykernel)",
   "language": "python",
   "name": "python3"
  },
  "language_info": {
   "codemirror_mode": {
    "name": "ipython",
    "version": 3
   },
   "file_extension": ".py",
   "mimetype": "text/x-python",
   "name": "python",
   "nbconvert_exporter": "python",
   "pygments_lexer": "ipython3",
   "version": "3.9.12"
  },
  "vscode": {
   "interpreter": {
    "hash": "093bda236b70e6c9cc2e31bb4161d497733f8840734c7a60848633791519c525"
   }
  }
 },
 "nbformat": 4,
 "nbformat_minor": 2
}
