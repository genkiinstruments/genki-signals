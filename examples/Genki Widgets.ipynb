{
 "cells": [
  {
   "cell_type": "markdown",
   "metadata": {},
   "source": [
    "# Introduction to Genki Widgets\n",
    "\n",
    "A small plotting library which provides a python interface via jupyter widgets to the frontend application we are developing."
   ]
  },
  {
   "cell_type": "code",
   "execution_count": null,
   "metadata": {},
   "outputs": [],
   "source": [
    "import genki_widgets as gw\n",
    "\n",
    "import os \n",
    "os.chdir('/Users/bjarnihaukurbjarnason/documents/genki-signals')\n",
    "\n",
    "import genki_signals.signals as s\n",
    "from genki_signals.buffers import DataBuffer\n",
    "from genki_signals.data_sources import Sampler"
   ]
  },
  {
   "cell_type": "code",
   "execution_count": null,
   "metadata": {},
   "outputs": [],
   "source": [
    "import time\n",
    "from threading import Thread\n",
    "\n",
    "from genki_signals.data_sources import SineWave\n",
    "\n",
    "buffer = DataBuffer(max_size=400)\n",
    "sine_wave = SineWave(frequency=1, amplitude=5, phase=0)\n",
    "source = Sampler(sources={'sine': sine_wave}, sample_rate=100)\n",
    "\n",
    "def run_source(buffer, source):\n",
    "    source.start()\n",
    "    while True:\n",
    "        buffer.extend(source.read())\n",
    "        time.sleep(1 / 50)\n",
    "        if not source.is_active:\n",
    "            return\n",
    "        \n",
    "t = Thread(target=run_source, args=(buffer, source))\n",
    "t.start()"
   ]
  },
  {
   "cell_type": "code",
   "execution_count": null,
   "metadata": {},
   "outputs": [],
   "source": [
    "buffer"
   ]
  },
  {
   "cell_type": "code",
   "execution_count": null,
   "metadata": {},
   "outputs": [],
   "source": [
    "# create a simple line plot\n",
    "sig_x = {'key': 'timestamp', 'idx': 0}\n",
    "sig_y = [{'key': 'sine', 'idx': 0}]\n",
    "line = gw.Line(sig_x=sig_x, sig_y=sig_y, partial_options={'x_axis_visible': False, 'n_visible_points': 300})\n",
    "line"
   ]
  },
  {
   "cell_type": "code",
   "execution_count": null,
   "metadata": {},
   "outputs": [],
   "source": [
    "buffer.add_callback(line.update)"
   ]
  },
  {
   "cell_type": "code",
   "execution_count": null,
   "metadata": {},
   "outputs": [],
   "source": [
    "# source.stop(); t.join()"
   ]
  },
  {
   "cell_type": "code",
   "execution_count": null,
   "metadata": {},
   "outputs": [],
   "source": [
    "from genki_signals.data_sources import MouseDataSource\n",
    "\n",
    "\n",
    "buffer = DataBuffer(max_size=100)\n",
    "mouse_source = Sampler({'mouse_position': MouseDataSource()}, sample_rate=1000)\n",
    "\n",
    "t = Thread(target=run_source, args=(buffer, mouse_source))\n",
    "t.start()"
   ]
  },
  {
   "cell_type": "markdown",
   "metadata": {},
   "source": [
    "Each chart can display itself or it can be wrapped in a `gw.Dashboard` widget which enables us to have many charts in the same window."
   ]
  },
  {
   "cell_type": "code",
   "execution_count": null,
   "metadata": {},
   "outputs": [],
   "source": [
    "sig_x = {'key': 'timestamp', 'idx': 0}\n",
    "sig_y = [\n",
    "    {'key': 'mouse_position', 'idx': 0, 'name': 'y'},\n",
    "    {'key': 'mouse_position', 'idx': 1, 'name': 'x'}\n",
    "]\n",
    "\n",
    "line = gw.Line(sig_x=sig_x, sig_y=sig_y, partial_options={'x_axis_visible': False})\n",
    "bar = gw.Bar(sig_x=sig_x, sig_y=sig_y)\n",
    "\n",
    "dashboard = gw.Dashboard(plots=[line, bar])\n",
    "dashboard"
   ]
  },
  {
   "cell_type": "code",
   "execution_count": null,
   "metadata": {},
   "outputs": [],
   "source": [
    "buffer.add_callback(dashboard.update)"
   ]
  },
  {
   "cell_type": "markdown",
   "metadata": {},
   "source": [
    "This library can also handle an incredible throughput of data. A good example of which is the `gw.Spectrogram` widget."
   ]
  },
  {
   "cell_type": "code",
   "execution_count": null,
   "metadata": {},
   "outputs": [],
   "source": [
    "from genki_signals.system import System\n",
    "from genki_signals.data_sources import MicDataSource\n",
    "\n",
    "buffer = DataBuffer(400)\n",
    "mic_source = MicDataSource()\n",
    "derived = [\n",
    "    s.FourierTransform('audio', name='spectro', window_size=2048, window_overlap=1024)\n",
    "]\n",
    "\n",
    "system = System(\n",
    "    mic_source,\n",
    "    derived\n",
    ")"
   ]
  },
  {
   "cell_type": "code",
   "execution_count": null,
   "metadata": {},
   "outputs": [],
   "source": [
    "import time\n",
    "from threading import Thread\n",
    "\n",
    "def run_system():\n",
    "    system.start()\n",
    "    while True:\n",
    "        buffer.extend(system.read())\n",
    "        time.sleep(1 / 25)\n",
    "        if not system.running: \n",
    "            return\n",
    "        \n",
    "t = Thread(target=run_system)\n",
    "t.start()"
   ]
  },
  {
   "cell_type": "code",
   "execution_count": null,
   "metadata": {
    "scrolled": true
   },
   "outputs": [],
   "source": [
    "buffer"
   ]
  },
  {
   "cell_type": "markdown",
   "metadata": {},
   "source": [
    "Here we create the aforementioned spectrogram which contains `1025x500=512.500` datapoints!"
   ]
  },
  {
   "cell_type": "code",
   "execution_count": null,
   "metadata": {},
   "outputs": [],
   "source": [
    "sig_y = [{'key': 'spectro', 'idx': -1}]\n",
    "\n",
    "spectro = gw.Spectrogram(\n",
    "    sig_y=sig_y,\n",
    "    partial_options = {\n",
    "        'window_size': 2048,\n",
    "        'sampling_rate': mic_source.sample_rate,\n",
    "        'n_visible_windows': 500,\n",
    "        'colormap_max': 3,\n",
    "    }\n",
    ")\n",
    "spectro"
   ]
  },
  {
   "cell_type": "code",
   "execution_count": null,
   "metadata": {},
   "outputs": [],
   "source": [
    "buffer.add_callback(spectro.update)\n"
   ]
  },
  {
   "cell_type": "code",
   "execution_count": null,
   "metadata": {},
   "outputs": [],
   "source": [
    "1-1"
   ]
  },
  {
   "cell_type": "code",
   "execution_count": null,
   "metadata": {},
   "outputs": [],
   "source": []
  }
 ],
 "metadata": {
  "kernelspec": {
   "display_name": "genki",
   "language": "python",
   "name": "python3"
  },
  "language_info": {
   "codemirror_mode": {
    "name": "ipython",
    "version": 3
   },
   "file_extension": ".py",
   "mimetype": "text/x-python",
   "name": "python",
   "nbconvert_exporter": "python",
   "pygments_lexer": "ipython3",
   "version": "3.9.12"
  },
  "vscode": {
   "interpreter": {
    "hash": "093bda236b70e6c9cc2e31bb4161d497733f8840734c7a60848633791519c525"
   }
  }
 },
 "nbformat": 4,
 "nbformat_minor": 2
}
