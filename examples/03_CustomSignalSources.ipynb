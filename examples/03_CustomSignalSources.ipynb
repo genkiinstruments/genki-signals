{
 "cells": [
  {
   "attachments": {},
   "cell_type": "markdown",
   "metadata": {},
   "source": [
    "# Custom SignalSources (I don't know what to put here either)"
   ]
  },
  {
   "attachments": {},
   "cell_type": "markdown",
   "metadata": {},
   "source": [
    "Often we need to gather data from an origin that this library does not support implicitly.\n",
    "\n",
    "But do not worry. We can simply extend our SignalSources to receive this data."
   ]
  },
  {
   "cell_type": "code",
   "execution_count": null,
   "metadata": {},
   "outputs": [],
   "source": [
    "from genki_signals.signal_sources.base import SignalSource, SamplerBase\n",
    "\n",
    "class MyCustomSignalSource(SignalSource):\n",
    "    def __init__(self, param1, param2):\n",
    "        # do whatever\n",
    "        pass\n",
    "\n",
    "    def __call__(self, t):\n",
    "        return #something"
   ]
  },
  {
   "attachments": {},
   "cell_type": "markdown",
   "metadata": {},
   "source": [
    "Note that SignalSources can also be samplers"
   ]
  }
 ],
 "metadata": {
  "kernelspec": {
   "display_name": "genki",
   "language": "python",
   "name": "python3"
  },
  "language_info": {
   "name": "python",
   "version": "3.9.12 | packaged by conda-forge | (main, Mar 24 2022, 23:25:14) \n[Clang 12.0.1 ]"
  },
  "orig_nbformat": 4,
  "vscode": {
   "interpreter": {
    "hash": "5d1ca8cbf69155084332556ae3352aa9e7bf4a96dd6bb5cc51f4289812d36157"
   }
  }
 },
 "nbformat": 4,
 "nbformat_minor": 2
}
