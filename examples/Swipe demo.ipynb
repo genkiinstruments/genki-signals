{
 "cells": [
  {
   "cell_type": "code",
   "execution_count": 1,
   "id": "3316f770-b936-4813-afcc-804dba93c9f8",
   "metadata": {
    "tags": []
   },
   "outputs": [],
   "source": [
    "%load_ext autoreload\n",
    "%autoreload 2"
   ]
  },
  {
   "cell_type": "code",
   "execution_count": 7,
   "id": "5a5b8d80-b608-4f7f-bdd6-25102cc567f8",
   "metadata": {
    "tags": []
   },
   "outputs": [],
   "source": [
    "import os \n",
    "os.chdir('/Users/egill/dev/genki/genki-signals')\n",
    "\n",
    "import time\n",
    "from threading import Thread\n",
    "\n",
    "from genki_signals.buffers import DataBuffer\n",
    "from genki_signals.signal_sources import WaveSignalSource\n",
    "import genki_signals.signal_functions as sf\n",
    "from genki_signals.signal_system import SignalSystem"
   ]
  },
  {
   "cell_type": "code",
   "execution_count": 8,
   "id": "0f47fa67-6131-417a-aeb6-7412d64ca7d5",
   "metadata": {
    "tags": []
   },
   "outputs": [],
   "source": [
    "wave_source = WaveSignalSource(ble_address='5C72E785-DAF5-1E32-599D-EBF56B8ECD5B')"
   ]
  },
  {
   "cell_type": "code",
   "execution_count": 39,
   "id": "f91d0da8-5d11-4fc0-bc50-3b807bf670de",
   "metadata": {
    "tags": []
   },
   "outputs": [
    {
     "name": "stdout",
     "output_type": "stream",
     "text": [
      "Connecting to wave at address 5C72E785-DAF5-1E32-599D-EBF56B8ECD5B\n",
      "Connected to Wave\n",
      "Left!\n",
      "\n",
      "Left!\n",
      "\n",
      "Left!\n",
      "\n",
      "Right!\n",
      "\n"
     ]
    }
   ],
   "source": [
    "def respond(cls_idx):\n",
    "    if cls_idx == 1:\n",
    "        print(\"Left!\\n\")\n",
    "    elif cls_idx == 2:\n",
    "        print(\"Right!\\n\")\n",
    "        \n",
    "\n",
    "\n",
    "derived = [\n",
    "    sf.Concatenate(['gyro', 'acc'], name='model_input'),\n",
    "    \n",
    "    sf.WindowedInference(\n",
    "        'genki_signals/models/swipe_model/model.onnx', \n",
    "        'model_input',\n",
    "        name='swipe_inference', \n",
    "        window_size=128, \n",
    "        window_overlap=96, \n",
    "        output_shape=(3,)),\n",
    "    sf.ObjectTracker('swipe_inference', name='tracker', output_shape=(3,), callback=respond, window_size=16)\n",
    "]\n",
    "\n",
    "system = SignalSystem(wave_source, derived_signals=derived)\n",
    "buffer = DataBuffer(maxlen=400)\n",
    "\n",
    "def run_system():\n",
    "    system.start()\n",
    "    while True:\n",
    "        buffer.extend(system.read())\n",
    "        time.sleep(1 / 50)\n",
    "        if not system.is_active:\n",
    "            return\n",
    "\n",
    "t = Thread(target=run_system)\n",
    "t.start()"
   ]
  },
  {
   "cell_type": "code",
   "execution_count": 50,
   "id": "d274d455-f8ac-4692-a40a-37d32167ced2",
   "metadata": {
    "tags": []
   },
   "outputs": [
    {
     "name": "stdout",
     "output_type": "stream",
     "text": [
      "Got a cancel message, exiting.\n"
     ]
    }
   ],
   "source": [
    "system.stop(); t.join()"
   ]
  },
  {
   "cell_type": "code",
   "execution_count": 43,
   "id": "e0a0ec44-f560-471e-bc70-a6111866c993",
   "metadata": {
    "tags": []
   },
   "outputs": [
    {
     "data": {
      "application/vnd.jupyter.widget-view+json": {
       "model_id": "90f00669af8b4f96ae4f563032a5104c",
       "version_major": 2,
       "version_minor": 0
      },
      "text/plain": [
       "Figure(axes=[Axis(label='t', scale=LinearScale()), Axis(label='swipe_inference', orientation='vertical', scale…"
      ]
     },
     "metadata": {},
     "output_type": "display_data"
    }
   ],
   "source": [
    "buffer.plot('swipe_inference')"
   ]
  },
  {
   "cell_type": "code",
   "execution_count": null,
   "id": "c1b91d7d-2f04-4e74-8d7d-81b08cd554ed",
   "metadata": {},
   "outputs": [],
   "source": []
  }
 ],
 "metadata": {
  "kernelspec": {
   "display_name": "Python 3 (ipykernel)",
   "language": "python",
   "name": "python3"
  },
  "language_info": {
   "codemirror_mode": {
    "name": "ipython",
    "version": 3
   },
   "file_extension": ".py",
   "mimetype": "text/x-python",
   "name": "python",
   "nbconvert_exporter": "python",
   "pygments_lexer": "ipython3",
   "version": "3.9.12"
  }
 },
 "nbformat": 4,
 "nbformat_minor": 5
}
