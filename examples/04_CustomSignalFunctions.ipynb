{
 "cells": [
  {
   "cell_type": "code",
   "execution_count": 2,
   "metadata": {},
   "outputs": [],
   "source": [
    "import os\n",
    "\n",
    "os.chdir('../')"
   ]
  },
  {
   "cell_type": "code",
   "execution_count": 3,
   "metadata": {},
   "outputs": [],
   "source": [
    "from genki_signals.signal_functions.base import SignalFunction\n",
    "\n",
    "class MyCustomSignalFunction(SignalFunction):\n",
    "    def __init__(self, input_a, input_b, name, alpha, beta):\n",
    "        # this is done fore serialization purposes\n",
    "        super().__init__(input_a, input_b, name=name, params={\"alpha\": alpha, \"beta\": beta})\n",
    "        self.alpha = alpha\n",
    "        self.beta = beta\n",
    "\n",
    "    def __call__(self, a, b):\n",
    "        return self.alpha*a + self.beta*b"
   ]
  },
  {
   "cell_type": "code",
   "execution_count": 45,
   "metadata": {},
   "outputs": [],
   "source": [
    "# SHOULD THIS BE HERE, UGLY :/\n",
    "\n",
    "\n",
    "from genki_signals.signal_functions.base import SignalFunction\n",
    "from genki_signals.signal_functions import Scale, Sum\n",
    "\n",
    "class CompoundSignalFunction(SignalFunction):\n",
    "    def __init__(self, input_a, input_b, name, alpha, beta):\n",
    "        # this is done fore serialization purposes\n",
    "        super().__init__(input_a, input_b, name=name, params={\"alpha\": alpha, \"beta\": beta})\n",
    "        self.scale_a = Scale(\"whatever\", alpha, \"doesn't matter\")\n",
    "        self.scale_b = Scale(\"???\", beta, \"also doesn't matter\")\n",
    "        self.sum = Sum(\"x\", \"y\", \"sum\")\n",
    "\n",
    "    def __call__(self, a, b):\n",
    "        return self.sum(self.scale_a(a), self.scale_b(b))"
   ]
  },
  {
   "cell_type": "code",
   "execution_count": 46,
   "metadata": {},
   "outputs": [
    {
     "ename": "TypeError",
     "evalue": "__init__() missing 1 required keyword-only argument: 'name'",
     "output_type": "error",
     "traceback": [
      "\u001b[0;31m---------------------------------------------------------------------------\u001b[0m",
      "\u001b[0;31mTypeError\u001b[0m                                 Traceback (most recent call last)",
      "\u001b[1;32m/Users/arnibjarnsteinsson/genki/genki-signals/examples/04_CustomSignalFunctions.ipynb Cell 4\u001b[0m in \u001b[0;36m<cell line: 2>\u001b[0;34m()\u001b[0m\n\u001b[1;32m      <a href='vscode-notebook-cell:/Users/arnibjarnsteinsson/genki/genki-signals/examples/04_CustomSignalFunctions.ipynb#W3sZmlsZQ%3D%3D?line=0'>1</a>\u001b[0m custom1 \u001b[39m=\u001b[39m MyCustomSignalFunction(\u001b[39m\"\u001b[39m\u001b[39mmouse\u001b[39m\u001b[39m\"\u001b[39m, \u001b[39m\"\u001b[39m\u001b[39mmouse\u001b[39m\u001b[39m\"\u001b[39m, \u001b[39m\"\u001b[39m\u001b[39mmouse_sum\u001b[39m\u001b[39m\"\u001b[39m, \u001b[39m2\u001b[39m, \u001b[39m3\u001b[39m)\n\u001b[0;32m----> <a href='vscode-notebook-cell:/Users/arnibjarnsteinsson/genki/genki-signals/examples/04_CustomSignalFunctions.ipynb#W3sZmlsZQ%3D%3D?line=1'>2</a>\u001b[0m custom2 \u001b[39m=\u001b[39m CompoundSignalFunction(\u001b[39m\"\u001b[39;49m\u001b[39mmouse\u001b[39;49m\u001b[39m\"\u001b[39;49m, \u001b[39m\"\u001b[39;49m\u001b[39mmouse_sum\u001b[39;49m\u001b[39m\"\u001b[39;49m, \u001b[39m\"\u001b[39;49m\u001b[39mmouse_double_sum\u001b[39;49m\u001b[39m\"\u001b[39;49m, \u001b[39m1\u001b[39;49m, \u001b[39m2\u001b[39;49m)\n",
      "\u001b[1;32m/Users/arnibjarnsteinsson/genki/genki-signals/examples/04_CustomSignalFunctions.ipynb Cell 4\u001b[0m in \u001b[0;36mCompoundSignalFunction.__init__\u001b[0;34m(self, input_a, input_b, name, alpha, beta)\u001b[0m\n\u001b[1;32m      <a href='vscode-notebook-cell:/Users/arnibjarnsteinsson/genki/genki-signals/examples/04_CustomSignalFunctions.ipynb#W3sZmlsZQ%3D%3D?line=7'>8</a>\u001b[0m \u001b[39mself\u001b[39m\u001b[39m.\u001b[39mscale_a \u001b[39m=\u001b[39m Scale(\u001b[39m\"\u001b[39m\u001b[39mwhatever\u001b[39m\u001b[39m\"\u001b[39m, alpha, \u001b[39m\"\u001b[39m\u001b[39mdoesn\u001b[39m\u001b[39m'\u001b[39m\u001b[39mt matter\u001b[39m\u001b[39m\"\u001b[39m)\n\u001b[1;32m      <a href='vscode-notebook-cell:/Users/arnibjarnsteinsson/genki/genki-signals/examples/04_CustomSignalFunctions.ipynb#W3sZmlsZQ%3D%3D?line=8'>9</a>\u001b[0m \u001b[39mself\u001b[39m\u001b[39m.\u001b[39mscale_b \u001b[39m=\u001b[39m Scale(\u001b[39m\"\u001b[39m\u001b[39m???\u001b[39m\u001b[39m\"\u001b[39m, beta, \u001b[39m\"\u001b[39m\u001b[39malso doesn\u001b[39m\u001b[39m'\u001b[39m\u001b[39mt matter\u001b[39m\u001b[39m\"\u001b[39m)\n\u001b[0;32m---> <a href='vscode-notebook-cell:/Users/arnibjarnsteinsson/genki/genki-signals/examples/04_CustomSignalFunctions.ipynb#W3sZmlsZQ%3D%3D?line=9'>10</a>\u001b[0m \u001b[39mself\u001b[39m\u001b[39m.\u001b[39msum \u001b[39m=\u001b[39m Sum(\u001b[39m\"\u001b[39;49m\u001b[39mx\u001b[39;49m\u001b[39m\"\u001b[39;49m, \u001b[39m\"\u001b[39;49m\u001b[39my\u001b[39;49m\u001b[39m\"\u001b[39;49m, \u001b[39m\"\u001b[39;49m\u001b[39msum\u001b[39;49m\u001b[39m\"\u001b[39;49m)\n",
      "\u001b[0;31mTypeError\u001b[0m: __init__() missing 1 required keyword-only argument: 'name'"
     ]
    }
   ],
   "source": [
    "custom1 = MyCustomSignalFunction(\"mouse\", \"mouse\", \"mouse_sum\", 2, 3)\n",
    "custom2 = CompoundSignalFunction(\"mouse\", \"mouse_sum\", \"mouse_double_sum\", 1, 2)"
   ]
  },
  {
   "cell_type": "code",
   "execution_count": 42,
   "metadata": {},
   "outputs": [],
   "source": [
    "from genki_signals.signal_sources import MouseSignalSource, Sampler\n",
    "from genki_signals.signal_system import SignalSystem\n",
    "\n",
    "source = MouseSignalSource()\n",
    "sampler = Sampler({\"mouse\": source}, 100)\n",
    "system = SignalSystem(sampler, [custom1, custom2])"
   ]
  },
  {
   "cell_type": "code",
   "execution_count": 22,
   "metadata": {},
   "outputs": [],
   "source": [
    "system.start()"
   ]
  },
  {
   "cell_type": "code",
   "execution_count": 35,
   "metadata": {},
   "outputs": [
    {
     "data": {
      "text/plain": [
       "DataBuffer(max_size=None, data=timestamp: (13,)\n",
       "mouse: (2, 13)\n",
       "mouse_sum: (2, 13)\n",
       "mouse_double_sum: (2, 13))"
      ]
     },
     "execution_count": 35,
     "metadata": {},
     "output_type": "execute_result"
    }
   ],
   "source": [
    "system.read()"
   ]
  }
 ],
 "metadata": {
  "kernelspec": {
   "display_name": "genki",
   "language": "python",
   "name": "python3"
  },
  "language_info": {
   "codemirror_mode": {
    "name": "ipython",
    "version": 3
   },
   "file_extension": ".py",
   "mimetype": "text/x-python",
   "name": "python",
   "nbconvert_exporter": "python",
   "pygments_lexer": "ipython3",
   "version": "3.9.12"
  },
  "orig_nbformat": 4,
  "vscode": {
   "interpreter": {
    "hash": "5d1ca8cbf69155084332556ae3352aa9e7bf4a96dd6bb5cc51f4289812d36157"
   }
  }
 },
 "nbformat": 4,
 "nbformat_minor": 2
}
