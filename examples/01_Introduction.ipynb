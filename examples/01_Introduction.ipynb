{
 "cells": [
  {
   "cell_type": "markdown",
   "metadata": {},
   "source": [
    "# Signal Sources"
   ]
  },
  {
   "cell_type": "code",
   "execution_count": 1,
   "metadata": {},
   "outputs": [],
   "source": [
    "import os\n",
    "\n",
    "# this isn't required with library pip installed\n",
    "os.chdir('../')\n"
   ]
  },
  {
   "cell_type": "markdown",
   "metadata": {},
   "source": [
    "The first building block of Genki Signals is the `SignalSource`\n",
    "\n",
    "SignalSource is a callable that returns the current value of that Signal. It can be a function or a class with a `__call__` method. One example is the `MouseSignalSource` that gives the current position of the pointer:"
   ]
  },
  {
   "cell_type": "code",
   "execution_count": 11,
   "metadata": {},
   "outputs": [
    {
     "data": {
      "text/plain": [
       "array([1511.98046875,  981.98046875])"
      ]
     },
     "execution_count": 11,
     "metadata": {},
     "output_type": "execute_result"
    }
   ],
   "source": [
    "from genki_signals.signal_sources import MouseSignalSource\n",
    "\n",
    "source = MouseSignalSource()\n",
    "source()"
   ]
  },
  {
   "cell_type": "markdown",
   "metadata": {},
   "source": [
    "Obviously we want to gather multiple samples of this signal. For that we need a `Sampler`.\n",
    "\n",
    "A Sampler simply samples one or many SignalSources at a given _sample rate_:"
   ]
  },
  {
   "cell_type": "code",
   "execution_count": 14,
   "metadata": {},
   "outputs": [],
   "source": [
    "from genki_signals.signal_sources import Sampler\n",
    "\n",
    "# sources is a dictionary mapping names to signal esources\n",
    "sampler = Sampler(sources = {\"mouse\": source}, sample_rate=100)\n",
    "\n",
    "# start gathering samples\n",
    "sampler.start()"
   ]
  },
  {
   "cell_type": "markdown",
   "metadata": {},
   "source": [
    "Now the sampler samples the mouse position at a rate of 100 samples / second (hz) (This happens in a separate thread so the cell still returns and the main thread is unblocked.)"
   ]
  },
  {
   "cell_type": "markdown",
   "metadata": {},
   "source": [
    "We might want to do some processing on these samples. \n",
    "\n",
    "This is where SignalFunctions come in. SignalFunctions are functions that take in one or more signals and return another signal.\n",
    "\n",
    "There is a collection of SignalFunctions available in `genki_signals.signal_functions` and they all have a similar structure, to create one you need to specify some _input names_ and also a name for the output signal: "
   ]
  },
  {
   "cell_type": "code",
   "execution_count": 15,
   "metadata": {},
   "outputs": [],
   "source": [
    "import genki_signals.signal_functions as sf\n",
    "\n",
    "# diff differentiates the \"mouse\" signals with regard to the \"timestamp\" and returns the signal \"mouse_vel\"\n",
    "# the \"mouse\" signal is the one we created and \"timestamp\" is created automatically by the sampler\n",
    "diff = sf.Differentiate(input_a=\"mouse\", input_b=\"timestamp\", name=\"mouse_vel\")"
   ]
  },
  {
   "cell_type": "markdown",
   "metadata": {},
   "source": [
    "We need to introduce one more concept to connect all of this together: the SignalSystem.\n",
    "\n",
    "SignalSystem takes in a Sampler/SignalSource and a list of SignalFunctions"
   ]
  },
  {
   "cell_type": "code",
   "execution_count": 17,
   "metadata": {},
   "outputs": [],
   "source": [
    "from genki_signals.signal_system import SignalSystem\n",
    "\n",
    "system = SignalSystem(sampler, [diff])\n",
    "\n",
    "system.start()"
   ]
  },
  {
   "cell_type": "markdown",
   "metadata": {},
   "source": [
    "This is the minimal setup we need. With a system, we can add signal functions to do all kinds of processing, and we can do data recording to start building a dataset. However, probably the most useful part of Genki Signals is the real-time visualization. For that we need a frontend: "
   ]
  },
  {
   "cell_type": "code",
   "execution_count": null,
   "metadata": {},
   "outputs": [],
   "source": []
  },
  {
   "cell_type": "markdown",
   "metadata": {},
   "source": [
    "# Hard to explain well ?\n",
    "\n",
    "SignalSystem also has a parameter called update_rate which defines how often we fetch samples from our Sampler.\n",
    "\n",
    "We can then forward these samples to other places in our program, e.g. a buffer, a plotting class or saving to a file.\n",
    "\n",
    "This is usefull since batched processing (saving a file / updating plot) is more efficient"
   ]
  },
  {
   "cell_type": "code",
   "execution_count": 17,
   "metadata": {},
   "outputs": [],
   "source": [
    "# This is how we can stream data into a buffer\n",
    "\n",
    "from genki_signals.buffers import DataBuffer\n",
    "\n",
    "buffer = DataBuffer()\n",
    "\n",
    "system.register_data_feed(id(buffer), lambda data: buffer.extend(data))"
   ]
  },
  {
   "cell_type": "code",
   "execution_count": 89,
   "metadata": {},
   "outputs": [
    {
     "data": {
      "text/plain": [
       "DataBuffer(max_size=None, data=timestamp: (18818,)\n",
       "mouse: (2, 18820)\n",
       "mouse_vel: (2, 18879))"
      ]
     },
     "execution_count": 89,
     "metadata": {},
     "output_type": "execute_result"
    }
   ],
   "source": [
    "buffer"
   ]
  },
  {
   "cell_type": "markdown",
   "metadata": {},
   "source": [
    "Now everytime we call read we get the mouse_positions we have seen before and the mouse velocity at that time."
   ]
  },
  {
   "cell_type": "markdown",
   "metadata": {},
   "source": [
    "Now we might want to visualize our Signals to make sure they are how they are supposed to be or to see how they behave in different circumstances.\n",
    "\n",
    "# TODO: continue with visualization\n",
    "For that we can use ..."
   ]
  },
  {
   "cell_type": "markdown",
   "metadata": {},
   "source": [
    "To train a model on these samples it is good practice to store them somewhere.\n",
    "\n",
    "That brings us to recording.\n",
    "\n",
    "# What if we don't call read(). then we try to save all samples at once (when stop_recording is called)\n",
    "We just call system.start_recording(folder_path) which stores the signal samples in a file everytime system.read() is called."
   ]
  },
  {
   "cell_type": "code",
   "execution_count": 39,
   "metadata": {},
   "outputs": [
    {
     "ename": "FileExistsError",
     "evalue": "[Errno 17] File exists: 'data/introduction_data'",
     "output_type": "error",
     "traceback": [
      "\u001b[0;31m---------------------------------------------------------------------------\u001b[0m",
      "\u001b[0;31mFileExistsError\u001b[0m                           Traceback (most recent call last)",
      "\u001b[1;32m/Users/arnibjarnsteinsson/genki/genki-signals/examples/01_Introduction.ipynb Cell 19\u001b[0m in \u001b[0;36m<cell line: 1>\u001b[0;34m()\u001b[0m\n\u001b[0;32m----> <a href='vscode-notebook-cell:/Users/arnibjarnsteinsson/genki/genki-signals/examples/01_Introduction.ipynb#X21sZmlsZQ%3D%3D?line=0'>1</a>\u001b[0m system\u001b[39m.\u001b[39;49mstart_recording(\u001b[39m\"\u001b[39;49m\u001b[39mdata/introduction_data/\u001b[39;49m\u001b[39m\"\u001b[39;49m)\n",
      "File \u001b[0;32m~/genki/genki-signals/genki_signals/signal_system.py:73\u001b[0m, in \u001b[0;36mSignalSystem.start_recording\u001b[0;34m(self, path, recorder, **metadata)\u001b[0m\n\u001b[1;32m     71\u001b[0m \u001b[39mdef\u001b[39;00m \u001b[39mstart_recording\u001b[39m(\u001b[39mself\u001b[39m, path, recorder\u001b[39m=\u001b[39m\u001b[39mNone\u001b[39;00m, \u001b[39m*\u001b[39m\u001b[39m*\u001b[39mmetadata):\n\u001b[1;32m     72\u001b[0m     path \u001b[39m=\u001b[39m Path(path)\n\u001b[0;32m---> 73\u001b[0m     Session\u001b[39m.\u001b[39;49mcreate_session(path, \u001b[39mself\u001b[39;49m, metadata)\n\u001b[1;32m     75\u001b[0m     \u001b[39mif\u001b[39;00m recorder \u001b[39mis\u001b[39;00m \u001b[39mNone\u001b[39;00m:\n\u001b[1;32m     76\u001b[0m         \u001b[39mif\u001b[39;00m \u001b[39misinstance\u001b[39m(\u001b[39mself\u001b[39m\u001b[39m.\u001b[39msource, MicSignalSource):\n",
      "File \u001b[0;32m~/genki/genki-signals/genki_signals/session.py:67\u001b[0m, in \u001b[0;36mSession.create_session\u001b[0;34m(cls, path, system, metadata)\u001b[0m\n\u001b[1;32m     62\u001b[0m \u001b[39m\u001b[39m\u001b[39m\"\"\"\u001b[39;00m\n\u001b[1;32m     63\u001b[0m \u001b[39mCreate an empty session, sets up directory structure but writes no\u001b[39;00m\n\u001b[1;32m     64\u001b[0m \u001b[39mraw data file, just metadata.\u001b[39;00m\n\u001b[1;32m     65\u001b[0m \u001b[39m\"\"\"\u001b[39;00m\n\u001b[1;32m     66\u001b[0m path \u001b[39m=\u001b[39m Path(path)\n\u001b[0;32m---> 67\u001b[0m path\u001b[39m.\u001b[39;49mmkdir(parents\u001b[39m=\u001b[39;49m\u001b[39mTrue\u001b[39;49;00m, exist_ok\u001b[39m=\u001b[39;49m\u001b[39mFalse\u001b[39;49;00m)\n\u001b[1;32m     69\u001b[0m metadata[\u001b[39m\"\u001b[39m\u001b[39msession_name\u001b[39m\u001b[39m\"\u001b[39m] \u001b[39m=\u001b[39m path\u001b[39m.\u001b[39mname\n\u001b[1;32m     70\u001b[0m metadata[\u001b[39m\"\u001b[39m\u001b[39msystem_user\u001b[39m\u001b[39m\"\u001b[39m] \u001b[39m=\u001b[39m getpass\u001b[39m.\u001b[39mgetuser()\n",
      "File \u001b[0;32m~/miniconda3/envs/genki/lib/python3.9/pathlib.py:1323\u001b[0m, in \u001b[0;36mPath.mkdir\u001b[0;34m(self, mode, parents, exist_ok)\u001b[0m\n\u001b[1;32m   1319\u001b[0m \u001b[39m\u001b[39m\u001b[39m\"\"\"\u001b[39;00m\n\u001b[1;32m   1320\u001b[0m \u001b[39mCreate a new directory at this given path.\u001b[39;00m\n\u001b[1;32m   1321\u001b[0m \u001b[39m\"\"\"\u001b[39;00m\n\u001b[1;32m   1322\u001b[0m \u001b[39mtry\u001b[39;00m:\n\u001b[0;32m-> 1323\u001b[0m     \u001b[39mself\u001b[39;49m\u001b[39m.\u001b[39;49m_accessor\u001b[39m.\u001b[39;49mmkdir(\u001b[39mself\u001b[39;49m, mode)\n\u001b[1;32m   1324\u001b[0m \u001b[39mexcept\u001b[39;00m \u001b[39mFileNotFoundError\u001b[39;00m:\n\u001b[1;32m   1325\u001b[0m     \u001b[39mif\u001b[39;00m \u001b[39mnot\u001b[39;00m parents \u001b[39mor\u001b[39;00m \u001b[39mself\u001b[39m\u001b[39m.\u001b[39mparent \u001b[39m==\u001b[39m \u001b[39mself\u001b[39m:\n",
      "\u001b[0;31mFileExistsError\u001b[0m: [Errno 17] File exists: 'data/introduction_data'"
     ]
    }
   ],
   "source": [
    "system.start_recording(\"data/introduction_data/\")"
   ]
  },
  {
   "cell_type": "markdown",
   "metadata": {},
   "source": [
    "and system.stop_recording() when we want to stop"
   ]
  },
  {
   "cell_type": "code",
   "execution_count": 40,
   "metadata": {},
   "outputs": [
    {
     "ename": "AttributeError",
     "evalue": "'NoneType' object has no attribute 'stop'",
     "output_type": "error",
     "traceback": [
      "\u001b[0;31m---------------------------------------------------------------------------\u001b[0m",
      "\u001b[0;31mAttributeError\u001b[0m                            Traceback (most recent call last)",
      "\u001b[1;32m/Users/arnibjarnsteinsson/genki/genki-signals/examples/01_Introduction.ipynb Cell 21\u001b[0m in \u001b[0;36m<cell line: 1>\u001b[0;34m()\u001b[0m\n\u001b[0;32m----> <a href='vscode-notebook-cell:/Users/arnibjarnsteinsson/genki/genki-signals/examples/01_Introduction.ipynb#X22sZmlsZQ%3D%3D?line=0'>1</a>\u001b[0m system\u001b[39m.\u001b[39;49mstop_recording()\n\u001b[1;32m      <a href='vscode-notebook-cell:/Users/arnibjarnsteinsson/genki/genki-signals/examples/01_Introduction.ipynb#X22sZmlsZQ%3D%3D?line=1'>2</a>\u001b[0m system\u001b[39m.\u001b[39mstop()\n",
      "File \u001b[0;32m~/genki/genki-signals/genki_signals/signal_system.py:86\u001b[0m, in \u001b[0;36mSignalSystem.stop_recording\u001b[0;34m(self)\u001b[0m\n\u001b[1;32m     85\u001b[0m \u001b[39mdef\u001b[39;00m \u001b[39mstop_recording\u001b[39m(\u001b[39mself\u001b[39m):\n\u001b[0;32m---> 86\u001b[0m     \u001b[39mself\u001b[39;49m\u001b[39m.\u001b[39;49mrecorder\u001b[39m.\u001b[39;49mstop()\n\u001b[1;32m     87\u001b[0m     \u001b[39mself\u001b[39m\u001b[39m.\u001b[39mrecorder \u001b[39m=\u001b[39m \u001b[39mNone\u001b[39;00m\n\u001b[1;32m     88\u001b[0m     \u001b[39mself\u001b[39m\u001b[39m.\u001b[39mis_recording \u001b[39m=\u001b[39m \u001b[39mFalse\u001b[39;00m\n",
      "\u001b[0;31mAttributeError\u001b[0m: 'NoneType' object has no attribute 'stop'"
     ]
    }
   ],
   "source": [
    "system.stop_recording()\n",
    "system.stop()"
   ]
  },
  {
   "cell_type": "markdown",
   "metadata": {},
   "source": [
    "Then we can load this session (stored data + metadata about recording) as follows:"
   ]
  },
  {
   "cell_type": "code",
   "execution_count": 11,
   "metadata": {},
   "outputs": [],
   "source": [
    "from genki_signals.session import Session\n",
    "\n",
    "session = Session.from_filename(\"data/introduction_data/\")"
   ]
  },
  {
   "cell_type": "markdown",
   "metadata": {},
   "source": [
    "session now includes our recorded data as well as metadata about the recording."
   ]
  },
  {
   "cell_type": "markdown",
   "metadata": {},
   "source": [
    "# Should Session have a toDataframe() method (data + signalFunctions)"
   ]
  },
  {
   "cell_type": "code",
   "execution_count": 23,
   "metadata": {},
   "outputs": [
    {
     "data": {
      "text/plain": [
       "DataBuffer(max_size=None, data=timestamp: (475,)\n",
       "mouse: (2, 475))"
      ]
     },
     "execution_count": 23,
     "metadata": {},
     "output_type": "execute_result"
    }
   ],
   "source": [
    "session.data"
   ]
  }
 ],
 "metadata": {
  "kernelspec": {
   "display_name": "Python 3 (ipykernel)",
   "language": "python",
   "name": "python3"
  },
  "language_info": {
   "codemirror_mode": {
    "name": "ipython",
    "version": 3
   },
   "file_extension": ".py",
   "mimetype": "text/x-python",
   "name": "python",
   "nbconvert_exporter": "python",
   "pygments_lexer": "ipython3",
   "version": "3.9.12"
  },
  "vscode": {
   "interpreter": {
    "hash": "5d1ca8cbf69155084332556ae3352aa9e7bf4a96dd6bb5cc51f4289812d36157"
   }
  }
 },
 "nbformat": 4,
 "nbformat_minor": 2
}
