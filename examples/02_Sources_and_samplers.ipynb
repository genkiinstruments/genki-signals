{
 "cells": [
  {
   "cell_type": "markdown",
   "id": "e5fda75f",
   "metadata": {
    "deletable": true,
    "editable": true,
    "heading_collapsed": false,
    "hidden": false
   },
   "source": [
    "# Signal sources and Samplers"
   ]
  },
  {
   "cell_type": "markdown",
   "id": "82fe9ae4",
   "metadata": {
    "deletable": true,
    "editable": true,
    "heading_collapsed": false,
    "hidden": false
   },
   "source": [
    "As we saw before, a `SignalSource` is simply a callable that takes no argument and returns some data point. Examples of `SignalSource`s included in the library are current mouse position, camera snapshot, random noise, and keyboard information (is the user pressing a given key?) "
   ]
  },
  {
   "cell_type": "code",
   "execution_count": null,
   "id": "ae028e6d",
   "metadata": {
    "deletable": true,
    "editable": true,
    "heading_collapsed": false,
    "hidden": false
   },
   "outputs": [],
   "source": [
    "from genki_signals.sources import MouseSource, CameraSource, RandomNoise, KeyboardSource\n",
    "\n",
    "cam = CameraSource()\n",
    "cam.start()\n",
    "img = cam()\n",
    "\n",
    "print(img.shape)\n",
    "\n",
    "noise = RandomNoise()   \n",
    "noise.start()\n",
    "print(noise())\n",
    "\n",
    "kb = KeyboardSource(keys=['enter'])\n",
    "kb.start()\n",
    "print(kb())"
   ]
  },
  {
   "cell_type": "markdown",
   "id": "26291d52",
   "metadata": {
    "deletable": true,
    "editable": true,
    "heading_collapsed": false,
    "hidden": false
   },
   "source": [
    "We also introduced the `Sampler` to sample from these sources at a given rate. However, there are also devices that act as a `SignalSource` but also contain their own `Sampler`. An example of this is the microphone, which defines its own sample rate which we have no control over:"
   ]
  },
  {
   "cell_type": "code",
   "execution_count": null,
   "id": "6d4a9dd2",
   "metadata": {
    "deletable": true,
    "editable": true,
    "heading_collapsed": false,
    "hidden": false
   },
   "outputs": [],
   "source": [
    "from genki_signals.sources import MicSource\n",
    "\n",
    "mic = MicSource()\n",
    "mic.sample_rate"
   ]
  },
  {
   "cell_type": "markdown",
   "id": "46930cdb",
   "metadata": {
    "deletable": true,
    "editable": true,
    "heading_collapsed": false,
    "hidden": false
   },
   "source": [
    "This distinction is somewhat arbitrary - we could, theoretically, sample a single value from the microphone and then wrap it in a Sampler. But A) such a single sample is extremely unlikely to be useful and B) the `Sampler` will not be able to reach such a high sample rate because of how it is implemented (samples a single data point at a time and then tries to sleep for the right amount of time). The `MicSource` has `chunk_size` with a default value of 1024 that delegates the complex sampling process to lower level software and only receives data chunks of that size.\n",
    "\n",
    "On the other hand, we could also have called the camera a `Sampler` - to record video there is a limit to how many frames per second we can reasonably record. But for a camera it might be quite useful to grab a single frame on some other (slower) schedule.\n",
    "\n",
    "The distinction between `SignalSource` and `Sampler` is mostly useful to combine separate sources into one. Suppose we have some external device that we are streaming data from - e.g. a chip with an IMU sensor, and we want to create a labelled dataset of some movements for machine learning. We can use the keyboard to label the data: we press some key when we do the movement. So we want to combine some bluetooth signal source with the keyboard one, and we need to synchronise their timestamps somehow. Clocks in a distributed system are notoriously hard to deal with so in a situation like this it is best to mark one device as the master clock. We make the bluetooth source the sampler and each time we receive a data point we query the keyboard source for a value.\n",
    "\n",
    "In the following example we use a single `Sampler` object to combine data from the mouse and the keyboard."
   ]
  },
  {
   "cell_type": "code",
   "execution_count": null,
   "id": "0e966e1f",
   "metadata": {
    "deletable": true,
    "editable": true,
    "heading_collapsed": false,
    "hidden": false
   },
   "outputs": [],
   "source": [
    "from genki_signals.sources import Sampler\n",
    "from genki_signals.system import System\n",
    "from genki_signals.frontends import WidgetDashboard, Line\n",
    "\n",
    "kb = KeyboardSource(keys=['shift_r'])\n",
    "mouse = MouseSource()\n",
    "\n",
    "sampler = Sampler({\n",
    "    'mouse': mouse,\n",
    "    'keyboard': kb\n",
    "}, sample_rate=30)\n",
    "\n",
    "system = System(sampler)\n",
    "system.start()\n",
    "\n",
    "\n",
    "WidgetDashboard(widgets=[\n",
    "    Line(system, \"timestamp\", \"mouse\"),\n",
    "    Line(system, \"timestamp\", \"keyboard_pressing_shift_r\")\n",
    "])"
   ]
  },
  {
   "cell_type": "code",
   "execution_count": null,
   "id": "84b148b7",
   "metadata": {
    "deletable": true,
    "editable": true,
    "heading_collapsed": false,
    "hidden": false
   },
   "outputs": [],
   "source": [
    "system.stop()"
   ]
  },
  {
   "cell_type": "markdown",
   "id": "26a6d260",
   "metadata": {
    "deletable": true,
    "editable": true,
    "heading_collapsed": false,
    "hidden": false
   },
   "source": [
    "### The `DataBuffer`\n",
    "\n",
    "At this point it is worth introducing one of the key data structures underlying Genki Signals, the `DataBuffer`. The `DataBuffer` is similar to a pandas `DataFrame`, it acts as a mapping from names to sequences. There are two major differences between a `DataBuffer` and a `DataFrame`: \n",
    "* `DataBuffer`s are implemented in numpy and generally much faster than `DataFrames`\n",
    "* Series in `DataBuffer`s can be n-dimensional. \n",
    "\n",
    "Having signals be n-dimensional can be very useful. For example, if we have a 3D signal from a gyroscope we can stream it into a buffer and use the name `'gyro'` - using a `DataFrame` we would have to separate into e.g. `'gyro_x'`, `'gyro_y'`, and `'gyro_z'`. An even better example is the camera: a video signal might have the shape `(height, width, n_channels, t)` which we can store under a single name in a `DataBuffer`. Each entry in a `DataBuffer` is just a numpy `ndarray`, and they are synced over the last dimension which is assumed to be time.\n",
    "\n",
    "A `DataBuffer` can be arbitrarily large or have a maximum length in which case it acts as a circular buffer."
   ]
  },
  {
   "cell_type": "code",
   "execution_count": null,
   "id": "dbb0534a",
   "metadata": {
    "deletable": true,
    "editable": true,
    "heading_collapsed": false,
    "hidden": false
   },
   "outputs": [],
   "source": [
    "from genki_signals.buffers import DataBuffer\n",
    "import numpy as np\n",
    "\n",
    "buffer = DataBuffer(maxlen=400)\n",
    "\n",
    "buffer['3d_signal'] = np.random.rand(3, 200)\n",
    "buffer"
   ]
  },
  {
   "cell_type": "code",
   "execution_count": null,
   "id": "dedf713f",
   "metadata": {
    "deletable": true,
    "editable": true,
    "heading_collapsed": false,
    "hidden": false
   },
   "outputs": [],
   "source": [
    "for i in range(300):\n",
    "    buffer.append({'3d_signal': np.array([1,2,3])})\n",
    "\n",
    "buffer"
   ]
  },
  {
   "cell_type": "code",
   "execution_count": null,
   "id": "dff5d07b",
   "metadata": {
    "deletable": true,
    "editable": true,
    "heading_collapsed": false,
    "hidden": false
   },
   "outputs": [],
   "source": [
    "buffer.extend({'3d_signal': np.ones((3, 200))})\n",
    "buffer"
   ]
  },
  {
   "cell_type": "markdown",
   "id": "66d3b913",
   "metadata": {
    "deletable": true,
    "editable": true,
    "heading_collapsed": false,
    "hidden": false
   },
   "source": [
    "Data buffers may be useful in their own right, but the reason we have introduced them here is that they are an important part of the inner workings of Genki Signals. For example, the way most signal sources work is that they run a separate thread for collecting data, and their API consists only of one function: `read()` that returns all data points collected since the last call to `read()`, and it returns those points in a `DataBuffer`:"
   ]
  },
  {
   "cell_type": "code",
   "execution_count": null,
   "id": "fc00d656",
   "metadata": {
    "deletable": true,
    "editable": true,
    "heading_collapsed": false,
    "hidden": false
   },
   "outputs": [],
   "source": [
    "import time\n",
    "\n",
    "mouse = Sampler({'mouse': MouseSource()}, sample_rate=100)\n",
    "mouse.start()\n",
    "\n",
    "time.sleep(3)\n",
    "collected_data = mouse.read()\n",
    "collected_data"
   ]
  },
  {
   "cell_type": "markdown",
   "id": "b1d5572c",
   "metadata": {
    "deletable": true,
    "editable": true,
    "heading_collapsed": false,
    "hidden": false
   },
   "source": [
    "## Creating a custom SignalSource / Sampler"
   ]
  },
  {
   "cell_type": "markdown",
   "id": "01ecdc04",
   "metadata": {
    "deletable": true,
    "editable": true,
    "heading_collapsed": false,
    "hidden": false
   },
   "source": [
    "Creating your own `SignalSource` is easy: you just need some callable that takes no arguments and returns a data point. Then you can wrap it in the basic `Sampler`. \n",
    "\n",
    "Creating your own `Sampler` is slightly more complicated, but still quite easy. In this example we create a `Sampler` that checks for the current exchange rate between the icelandic króna and some other currency using the API at http://apis.is/currency/m5 - We want to do this as fast as we can, so it acts as its own sampler, where the sample rate depends on factors such as network speed etc. "
   ]
  },
  {
   "cell_type": "code",
   "execution_count": null,
   "id": "8997a617",
   "metadata": {
    "deletable": true,
    "editable": true,
    "heading_collapsed": false,
    "hidden": false
   },
   "outputs": [],
   "source": [
    "import requests\n",
    "import json\n",
    "from queue import Queue\n",
    "import time\n",
    "from threading import Thread\n",
    "\n",
    "from genki_signals.sources.sampler import SamplerBase\n",
    "\n",
    "class ExchangeRateSource(SamplerBase):\n",
    "    def __init__(self, currency):\n",
    "        self.is_active = False\n",
    "        # reading / writing happen in separate threads so we \n",
    "        # need a thread-safe queue for intermediate results\n",
    "        self.queue = Queue()\n",
    "        self.currency = currency\n",
    "    \n",
    "    def _run(self):\n",
    "        while self.is_active:\n",
    "            r = requests.get('http://apis.is/currency/m5')\n",
    "            currency_data = json.loads(r.text).get('results') or []\n",
    "            for c in currency_data:\n",
    "                if c.get('shortName') == self.currency:\n",
    "                    data_point = {\n",
    "                        'timestamp': time.time(),\n",
    "                        f'{self.currency}_exchange_rate': c['value']\n",
    "                    }\n",
    "                    self.queue.put(data_point)\n",
    "    \n",
    "    def read(self):\n",
    "        data = DataBuffer()\n",
    "        while not self.queue.empty():\n",
    "            data.append(self.queue.get())\n",
    "        return data\n",
    "                    \n",
    "    def start(self):\n",
    "        self.is_active = True\n",
    "        self.main_thread = Thread(target=self._run)\n",
    "        self.main_thread.start()\n",
    "        \n",
    "    def stop(self):\n",
    "        self.is_active = False\n",
    "        self.main_thread.join() "
   ]
  },
  {
   "cell_type": "markdown",
   "id": "c87edee1",
   "metadata": {
    "deletable": true,
    "editable": true,
    "heading_collapsed": false,
    "hidden": false
   },
   "source": [
    "We inherit from `SamplerBase`, and need to implement `start()`, `stop()`, and `read()`.\n",
    "\n",
    "Let's try using this to get a stream of exchange rates for the Japanese Yen (JPY):"
   ]
  },
  {
   "cell_type": "code",
   "execution_count": null,
   "id": "f112cbc7",
   "metadata": {
    "deletable": true,
    "editable": true,
    "heading_collapsed": false,
    "hidden": false
   },
   "outputs": [],
   "source": [
    "jpy_source = ExchangeRateSource('JPY')\n",
    "jpy_source.start()\n",
    "\n",
    "time.sleep(1)\n",
    "data = jpy_source.read()"
   ]
  },
  {
   "cell_type": "code",
   "execution_count": null,
   "id": "f1ffbb88",
   "metadata": {
    "deletable": true,
    "editable": true,
    "heading_collapsed": false,
    "hidden": false,
    "scrolled": true
   },
   "outputs": [],
   "source": [
    "data['JPY_exchange_rate']"
   ]
  },
  {
   "cell_type": "markdown",
   "id": "24756519",
   "metadata": {
    "deletable": true,
    "editable": true,
    "heading_collapsed": false,
    "hidden": false
   },
   "source": [
    "It works! Although the exchange rate probably moves slower than we can query the API, and we are being impolite to the API providers which might block our requests as spam if we keep this up."
   ]
  },
  {
   "cell_type": "code",
   "execution_count": null,
   "id": "47a65d71",
   "metadata": {
    "deletable": true,
    "editable": true,
    "heading_collapsed": false,
    "hidden": false
   },
   "outputs": [],
   "source": [
    "jpy_source.stop()"
   ]
  }
 ],
 "metadata": {
  "kernelspec": {
   "display_name": "Python 3 (ipykernel)",
   "language": "python",
   "name": "python3"
  },
  "language_info": {
   "codemirror_mode": {
    "name": "ipython",
    "version": 3
   },
   "file_extension": ".py",
   "mimetype": "text/x-python",
   "name": "python",
   "nbconvert_exporter": "python",
   "pygments_lexer": "ipython3",
   "version": "3.9.12"
  },
  "vscode": {
   "interpreter": {
    "hash": "5d1ca8cbf69155084332556ae3352aa9e7bf4a96dd6bb5cc51f4289812d36157"
   }
  }
 },
 "nbformat": 4,
 "nbformat_minor": 5
}
