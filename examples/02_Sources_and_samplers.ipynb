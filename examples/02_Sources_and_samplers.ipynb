{
 "cells": [
  {
   "cell_type": "markdown",
   "id": "e5fda75f",
   "metadata": {},
   "source": [
    "# Signal sources and Samplers"
   ]
  },
  {
   "cell_type": "code",
   "execution_count": 1,
   "id": "97566802",
   "metadata": {},
   "outputs": [],
   "source": [
    "import os\n",
    "\n",
    "# NOTE: this isn't required when the library has been installed from PyPI\n",
    "os.chdir('../')"
   ]
  },
  {
   "cell_type": "markdown",
   "id": "82fe9ae4",
   "metadata": {},
   "source": [
    "As we saw before, a `SignalSource` is simply a callable that takes no argument and returns some data point. Examples of `SignalSource`s included in the library are current mouse position, camera snapshot, random noise, and keyboard information (is the user pressing a given key?) "
   ]
  },
  {
   "cell_type": "code",
   "execution_count": 2,
   "id": "ae028e6d",
   "metadata": {},
   "outputs": [
    {
     "name": "stdout",
     "output_type": "stream",
     "text": [
      "(480, 720, 3)\n",
      "0.5400714303161473\n",
      "{'pressing_enter': 0}\n"
     ]
    }
   ],
   "source": [
    "from genki_signals.signal_sources import MouseSignalSource, CameraSignalSource, RandomNoise, KeyboardSignalSource\n",
    "\n",
    "cam = CameraSignalSource()\n",
    "cam.start()\n",
    "img = cam()\n",
    "\n",
    "print(img.shape)\n",
    "\n",
    "noise = RandomNoise()   \n",
    "noise.start()\n",
    "print(noise())\n",
    "\n",
    "kb = KeyboardSignalSource(keys=['enter'])\n",
    "kb.start()\n",
    "print(kb())"
   ]
  },
  {
   "cell_type": "markdown",
   "id": "26291d52",
   "metadata": {},
   "source": [
    "We also introduced the `Sampler` to sample from these sources at a given rate. However, there are also devices that act as a `SignalSource` but also contain their own `Sampler`. An example of this is the microphone, which defines its own sample rate which we have no control over:"
   ]
  },
  {
   "cell_type": "code",
   "execution_count": 3,
   "id": "6d4a9dd2",
   "metadata": {},
   "outputs": [
    {
     "data": {
      "text/plain": [
       "8000"
      ]
     },
     "execution_count": 3,
     "metadata": {},
     "output_type": "execute_result"
    }
   ],
   "source": [
    "from genki_signals.signal_sources import MicSignalSource\n",
    "\n",
    "mic = MicSignalSource()\n",
    "mic.sample_rate"
   ]
  },
  {
   "cell_type": "markdown",
   "id": "46930cdb",
   "metadata": {},
   "source": [
    "This distinction is somewhat arbitrary - we could, theoretically, sample a single value from the microphone and then wrap it in a Sampler. But A) such a single sample is extremely unlikely to be useful and B) the `Sampler` will not be able to reach such a high sample rate because of how it is implemented (samples a single data point at a time and then tries to sleep for the right amount of time). The `MicSignalSource` has `chunk_size` with a default value of 1024 that delegates the complex sampling process to lower level software and only receives data chunks of that size.\n",
    "\n",
    "On the other hand, we could also have called the camera a `Sampler` - to record video there is a limit to how many frames per second we can reasonably record. But for a camera it might be quite useful to grab a single frame on some other (slower) schedule.\n",
    "\n",
    "The distinction between `SignalSource` and `Sampler` is mostly useful to combine separate sources into one. Suppose we have some external device that we are streaming data from - e.g. a chip with an IMU sensor, and we want to create a labelled dataset of some movements for machine learning. We can use the keyboard to label the data: we press some key when we do the movement. So we want to combine some bluetooth signal source with the keyboard one, and we need to synchronise their timestamps somehow. Clocks in a distributed system are notoriously hard to deal with so in a situation like this it is best to mark one device as the master clock. We make the bluetooth source the sampler and each time we receive a data point we query the keyboard source for a value.\n",
    "\n",
    "In the following example we demonstrate this with the mouse and the keyboard."
   ]
  },
  {
   "cell_type": "code",
   "execution_count": 15,
   "id": "0e966e1f",
   "metadata": {},
   "outputs": [
    {
     "data": {
      "application/vnd.jupyter.widget-view+json": {
       "model_id": "c12ecda628484a6ca5088f6fc32854d1",
       "version_major": 2,
       "version_minor": 0
      },
      "text/plain": [
       "VBox(children=(HBox(children=(Figure(axes=[Axis(label='timestamp', scale=LinearScale()), Axis(label='mouse', o…"
      ]
     },
     "metadata": {},
     "output_type": "display_data"
    }
   ],
   "source": [
    "from genki_signals.signal_sources import Sampler\n",
    "from genki_signals.signal_system import SignalSystem\n",
    "from genki_signals.signal_frontends import WidgetFrontend, Line\n",
    "\n",
    "kb = KeyboardSignalSource(keys=['shift_r'])\n",
    "mouse = MouseSignalSource()\n",
    "\n",
    "sampler = Sampler({\n",
    "    'mouse': mouse,\n",
    "    'keyboard': kb\n",
    "}, sample_rate=30)\n",
    "\n",
    "system = SignalSystem(sampler)\n",
    "system.start()\n",
    "\n",
    "\n",
    "WidgetFrontend(system, widgets=[\n",
    "    Line(\"timestamp\", \"mouse\"),\n",
    "    Line(\"timestamp\", \"keyboard_pressing_shift_r\")\n",
    "])"
   ]
  },
  {
   "cell_type": "code",
   "execution_count": 16,
   "id": "84b148b7",
   "metadata": {},
   "outputs": [],
   "source": [
    "system.stop()"
   ]
  },
  {
   "cell_type": "markdown",
   "id": "26a6d260",
   "metadata": {},
   "source": [
    "### The `DataBuffer`\n",
    "\n",
    "At this point it is worth introducing one of the key data structures underlying Genki Signals, the `DataBuffer`. The `DataBuffer` is similar to a pandas `DataFrame`, it acts as a mapping from names to sequences. There are two major differences between a `DataBuffer` and a `DataFrame`: \n",
    "* `DataBuffer`s are implemented in numpy and thus more performant than `DataFrames`\n",
    "* Series in `DataBuffer`s can be n-dimensional in general. \n",
    "\n",
    "Having signals be n-dimensional can be very useful. For example, if we have a 3D signal from a gyroscope we can stream it into a buffer and use the name `'gyro'` - using a `DataFrame` we would have to separate into e.g. `'gyro_x'`, `'gyro_y'`, and `'gyro_z'`. An even better example is the camera: a video signal might have the shape `(height, width, n_channels, t)` which we can store under a single name in a `DataBuffer`. Each entry in a `DataBuffer` is just a numpy `ndarray`, and they are synced over the last dimension which is assumed to be time.\n",
    "\n",
    "A `DataBuffer` can be arbitrarily large or have a maximum length in which case it acts as a circular buffer."
   ]
  },
  {
   "cell_type": "code",
   "execution_count": 22,
   "id": "dbb0534a",
   "metadata": {},
   "outputs": [
    {
     "data": {
      "text/plain": [
       "DataBuffer(max_size=400, data=3d_signal: (3, 200))"
      ]
     },
     "execution_count": 22,
     "metadata": {},
     "output_type": "execute_result"
    }
   ],
   "source": [
    "from genki_signals.buffers import DataBuffer\n",
    "import numpy as np\n",
    "\n",
    "buffer = DataBuffer(maxlen=400)\n",
    "\n",
    "buffer['3d_signal'] = np.random.rand(3, 200)\n",
    "buffer"
   ]
  },
  {
   "cell_type": "code",
   "execution_count": 23,
   "id": "dedf713f",
   "metadata": {},
   "outputs": [
    {
     "data": {
      "text/plain": [
       "DataBuffer(max_size=400, data=3d_signal: (3, 400))"
      ]
     },
     "execution_count": 23,
     "metadata": {},
     "output_type": "execute_result"
    }
   ],
   "source": [
    "for i in range(300):\n",
    "    buffer.append({'3d_signal': np.array([1,2,3])})\n",
    "\n",
    "buffer"
   ]
  },
  {
   "cell_type": "code",
   "execution_count": 26,
   "id": "dff5d07b",
   "metadata": {},
   "outputs": [
    {
     "data": {
      "text/plain": [
       "DataBuffer(max_size=400, data=3d_signal: (3, 400))"
      ]
     },
     "execution_count": 26,
     "metadata": {},
     "output_type": "execute_result"
    }
   ],
   "source": [
    "buffer.extend({'3d_signal': np.ones((3, 200))})\n",
    "buffer"
   ]
  },
  {
   "cell_type": "markdown",
   "id": "66d3b913",
   "metadata": {},
   "source": [
    "Data buffers may be useful in their own right, but the reason we have introduced them here is that they are an important part of the inner workings of Genki Signals. For example, the way most signal sources work is that they run a separate thread for collecting data, and their API consists only of one function: `read()` that returns all data points collected since the last call to `read()`, and it returns those points in a `DataBuffer`:"
   ]
  },
  {
   "cell_type": "code",
   "execution_count": 28,
   "id": "fc00d656",
   "metadata": {},
   "outputs": [
    {
     "data": {
      "text/plain": [
       "DataBuffer(max_size=None, data=timestamp: (301,)\n",
       "mouse: (2, 301))"
      ]
     },
     "execution_count": 28,
     "metadata": {},
     "output_type": "execute_result"
    }
   ],
   "source": [
    "import time\n",
    "\n",
    "mouse = Sampler({'mouse': MouseSignalSource()}, sample_rate=100)\n",
    "mouse.start()\n",
    "\n",
    "time.sleep(3)\n",
    "collected_data = mouse.read()\n",
    "collected_data"
   ]
  },
  {
   "cell_type": "markdown",
   "id": "b1d5572c",
   "metadata": {},
   "source": [
    "## Creating a custom SignalSource / Sampler"
   ]
  },
  {
   "cell_type": "markdown",
   "id": "01ecdc04",
   "metadata": {},
   "source": [
    "Creating your own `SignalSource` is easy: you just need some callable that takes no arguments and returns a data point. Then you can wrap it in the basic `Sampler`. \n",
    "\n",
    "Creating your own `Sampler` is slightly more complicated, but still quite easy. In this example we create a `Sampler` that checks for the current exchange rate between the icelandic króna and some other currency using the API at http://apis.is/currency/m5 - We want to do this as fast as we can, so it acts as its own sampler, where the sample rate depends on factors such as network speed etc. "
   ]
  },
  {
   "cell_type": "code",
   "execution_count": 56,
   "id": "8997a617",
   "metadata": {},
   "outputs": [],
   "source": [
    "import requests\n",
    "import json\n",
    "from queue import Queue\n",
    "import time\n",
    "from threading import Thread\n",
    "\n",
    "from genki_signals.signal_sources.sampler import SamplerBase\n",
    "\n",
    "class ExchangeRateSource(SamplerBase):\n",
    "    def __init__(self, currency):\n",
    "        self.is_active = False\n",
    "        self.queue = Queue()\n",
    "        self.currency = currency\n",
    "    \n",
    "    def _run(self):\n",
    "        while self.is_active:\n",
    "            r = requests.get('http://apis.is/currency/m5')\n",
    "            currency_data = json.loads(r.text).get('results') or []\n",
    "            for c in currency_data:\n",
    "                if c.get('shortName') == self.currency:\n",
    "                    data_point = {\n",
    "                        'timestamp': time.time(),\n",
    "                        f'{self.currency}_exchange_rate': c['value']\n",
    "                    }\n",
    "                    self.queue.put(data_point)\n",
    "    \n",
    "    def read(self):\n",
    "        data = DataBuffer()\n",
    "        while not self.queue.empty():\n",
    "            data.append(self.queue.get())\n",
    "        return data\n",
    "                    \n",
    "    def start(self):\n",
    "        self.is_active = True\n",
    "        self.main_thread = Thread(target=self._run)\n",
    "        self.main_thread.start()\n",
    "        \n",
    "    def stop(self):\n",
    "        self.is_active = False\n",
    "        self.main_thread.join() "
   ]
  },
  {
   "cell_type": "markdown",
   "id": "c87edee1",
   "metadata": {},
   "source": [
    "We inherit from `SamplerBase`, and need to implement `start()`, `stop()`, and `read()`.\n",
    "\n",
    "Let's try using this to get a stream of exchange rates for the Japanese Yen (JPY):"
   ]
  },
  {
   "cell_type": "code",
   "execution_count": 60,
   "id": "f112cbc7",
   "metadata": {},
   "outputs": [],
   "source": [
    "jpy_source = ExchangeRateSource('JPY')\n",
    "jpy_source.start()\n",
    "\n",
    "time.sleep(1)\n",
    "data = jpy_source.read()"
   ]
  },
  {
   "cell_type": "code",
   "execution_count": 64,
   "id": "f1ffbb88",
   "metadata": {
    "scrolled": true
   },
   "outputs": [
    {
     "data": {
      "text/plain": [
       "array([1.0156, 1.0156, 1.0156])"
      ]
     },
     "execution_count": 64,
     "metadata": {},
     "output_type": "execute_result"
    }
   ],
   "source": [
    "data['JPY_exchange_rate']"
   ]
  },
  {
   "cell_type": "markdown",
   "id": "24756519",
   "metadata": {},
   "source": [
    "It works! Although the exchange rate probably moves slower than we can query the API, and the API providers might block our requests as spam if we keep this up."
   ]
  },
  {
   "cell_type": "code",
   "execution_count": 65,
   "id": "47a65d71",
   "metadata": {},
   "outputs": [],
   "source": [
    "jpy_source.stop()"
   ]
  }
 ],
 "metadata": {
  "kernelspec": {
   "display_name": "Python 3 (ipykernel)",
   "language": "python",
   "name": "python3"
  },
  "language_info": {
   "codemirror_mode": {
    "name": "ipython",
    "version": 3
   },
   "file_extension": ".py",
   "mimetype": "text/x-python",
   "name": "python",
   "nbconvert_exporter": "python",
   "pygments_lexer": "ipython3",
   "version": "3.9.12"
  }
 },
 "nbformat": 4,
 "nbformat_minor": 5
}
