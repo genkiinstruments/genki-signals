{
 "cells": [
  {
   "cell_type": "code",
   "execution_count": 1,
   "id": "8da7abaf-5594-4324-86bf-748b47c95426",
   "metadata": {
    "tags": []
   },
   "outputs": [],
   "source": [
    "import os \n",
    "os.chdir('/Users/egill/dev/genki/genki-signals')\n",
    "\n",
    "from genki_signals.buffers import DataBuffer\n",
    "\n",
    "buffer = DataBuffer(maxlen=400)"
   ]
  },
  {
   "cell_type": "code",
   "execution_count": 43,
   "id": "6ecb9088-958e-4a98-80be-42781df783e9",
   "metadata": {
    "tags": []
   },
   "outputs": [],
   "source": [
    "from genki_signals.signal_sources import Sampler, RandomNoise, SineWave\n",
    "import numpy as np\n",
    "\n",
    "sine_2 = SineWave(amplitude=8, frequency=7, phase=0)\n",
    "\n",
    "source = Sampler(\n",
    "    {\n",
    "        'sine_1': lambda t: 5 * np.sin(2 * np.pi * (3/2) * t),\n",
    "        'sine_2': sine_2,\n",
    "        'noise': RandomNoise(),\n",
    "    },\n",
    "    sample_rate=100)"
   ]
  },
  {
   "cell_type": "code",
   "execution_count": 44,
   "id": "f9a73aeb-13f5-42ea-85bd-14676c0a65bb",
   "metadata": {
    "tags": []
   },
   "outputs": [],
   "source": [
    "import time\n",
    "from threading import Thread\n",
    "\n",
    "def run_source(source, buffer):\n",
    "    source.start()\n",
    "    while source.is_active:\n",
    "        buffer.extend(source.read())\n",
    "        time.sleep(1 / 25)\n",
    "        \n"
   ]
  },
  {
   "cell_type": "code",
   "execution_count": 45,
   "id": "c2179a74-5c48-4c4a-89ef-9e118a7ce4f6",
   "metadata": {
    "tags": []
   },
   "outputs": [],
   "source": [
    "t = Thread(target=run_source, args=(source, buffer))\n",
    "t.start()"
   ]
  },
  {
   "cell_type": "code",
   "execution_count": 46,
   "id": "940c0f5c-2ece-40c7-9bff-e53f88e68ccb",
   "metadata": {
    "tags": []
   },
   "outputs": [
    {
     "data": {
      "application/vnd.jupyter.widget-view+json": {
       "model_id": "2ab8d213e5e84e41b1ed903fab747fe4",
       "version_major": 2,
       "version_minor": 0
      },
      "text/plain": [
       "Figure(axes=[Axis(label='t', scale=LinearScale()), Axis(label='sine_1', orientation='vertical', scale=LinearSc…"
      ]
     },
     "metadata": {},
     "output_type": "display_data"
    }
   ],
   "source": [
    "buffer.plot('sine_1')"
   ]
  },
  {
   "cell_type": "code",
   "execution_count": 47,
   "id": "f75c9c25-4c02-419a-bfc7-6ca8695ac764",
   "metadata": {
    "tags": []
   },
   "outputs": [
    {
     "data": {
      "application/vnd.jupyter.widget-view+json": {
       "model_id": "4aa7928f0701451c8bc2b9f72414003b",
       "version_major": 2,
       "version_minor": 0
      },
      "text/plain": [
       "interactive(children=(FloatSlider(value=5.0, description='amplitude', max=5.0, min=1.0, step=0.5), IntSlider(v…"
      ]
     },
     "metadata": {},
     "output_type": "display_data"
    }
   ],
   "source": [
    "from ipywidgets import interact, IntSlider, FloatSlider\n",
    "\n",
    "@interact(amplitude=FloatSlider(min=1, max=5, step=0.5, value=5), frequency=IntSlider(min=1, max=10, value=3))\n",
    "def set_wave_params(amplitude, frequency):\n",
    "    sine_2.amplitude = amplitude\n",
    "    sine_2.frequency = frequency"
   ]
  },
  {
   "cell_type": "code",
   "execution_count": 49,
   "id": "e5591027-1d70-4406-9ab5-4a55f70c1c94",
   "metadata": {
    "tags": []
   },
   "outputs": [],
   "source": [
    "source.stop(); t.join()"
   ]
  },
  {
   "cell_type": "code",
   "execution_count": 50,
   "id": "d9ea49f5-b052-4211-874e-dd298cd7248c",
   "metadata": {
    "tags": []
   },
   "outputs": [],
   "source": [
    "import genki_signals.signal_functions as sfions as s\n",
    "from genki_signals.signal_system import SignalSystem\n",
    "\n",
    "derived = [\n",
    "    sf.Sum('sine_1', 'sine_2', name='sines_sum'),\n",
    "    sf.Sum('sines_sum', 'noise', name='wave_with_noise'),\n",
    "    sf.FourierTransform('wave_with_noise', name='spectrum', window_size=128, window_overlap=64)\n",
    "]\n",
    "\n",
    "buffer = DataBuffer(maxlen=400)\n",
    "system = SignalSystem(source, derived)"
   ]
  },
  {
   "cell_type": "code",
   "execution_count": 51,
   "id": "bbbbdce2-3535-4794-897b-290a44d3922f",
   "metadata": {
    "tags": []
   },
   "outputs": [],
   "source": [
    "t = Thread(target=run_source, args=(system, buffer))\n",
    "t.start()"
   ]
  },
  {
   "cell_type": "code",
   "execution_count": 52,
   "id": "f4aa9b95-e1e4-48a9-a2dd-6ab76b71ffe5",
   "metadata": {
    "tags": []
   },
   "outputs": [
    {
     "data": {
      "text/plain": [
       "DataBuffer(max_size=400, data=timestamp: (75,)\n",
       "sine_1: (75,)\n",
       "sine_2: (75,)\n",
       "noise: (75,)\n",
       "sines_sum: (75,)\n",
       "wave_with_noise: (75,)\n",
       "spectrum: (65, 0))"
      ]
     },
     "execution_count": 52,
     "metadata": {},
     "output_type": "execute_result"
    }
   ],
   "source": [
    "buffer"
   ]
  },
  {
   "cell_type": "code",
   "execution_count": 53,
   "id": "3eda27cc-ead3-492f-8a88-7a4e97569a94",
   "metadata": {
    "tags": []
   },
   "outputs": [
    {
     "data": {
      "application/vnd.jupyter.widget-view+json": {
       "model_id": "d34447a3629f4dfa91914dcadbc646df",
       "version_major": 2,
       "version_minor": 0
      },
      "text/plain": [
       "Figure(axes=[Axis(label='t', scale=LinearScale()), Axis(label='wave_with_noise', orientation='vertical', scale…"
      ]
     },
     "metadata": {},
     "output_type": "display_data"
    }
   ],
   "source": [
    "buffer.plot('wave_with_noise')"
   ]
  },
  {
   "cell_type": "code",
   "execution_count": 54,
   "id": "25bbef51-4ce6-48c2-a3df-5b7e903297b6",
   "metadata": {
    "tags": []
   },
   "outputs": [
    {
     "data": {
      "application/vnd.jupyter.widget-view+json": {
       "model_id": "2300ec3afb5a492f8ce1fd5803f44d4c",
       "version_major": 2,
       "version_minor": 0
      },
      "text/plain": [
       "Figure(axes=[Axis(label='Hz', scale=LinearScale()), Axis(label='db', orientation='vertical', scale=LinearScale…"
      ]
     },
     "metadata": {},
     "output_type": "display_data"
    }
   ],
   "source": [
    "buffer.plot('spectrum', plot_type='spectrogram', window_size=128, sample_rate=100)"
   ]
  },
  {
   "cell_type": "code",
   "execution_count": 58,
   "id": "375d1ef2-767c-4056-94a5-f8fd0a00b583",
   "metadata": {
    "tags": []
   },
   "outputs": [],
   "source": [
    "system.stop(); t.join()"
   ]
  },
  {
   "cell_type": "code",
   "execution_count": 30,
   "id": "b44a3db4-955c-4b5b-9de5-574f401cfcae",
   "metadata": {
    "tags": []
   },
   "outputs": [],
   "source": [
    "from genki_signals.signal_sources import WaveDataSource\n",
    "\n",
    "wave = WaveDataSource(ble_address='7CEF8BE3-F544-99C9-B25A-3C6DD1281491')\n",
    "\n",
    "buffer = DataBuffer(maxlen=400)\n",
    "system = SignalSystem(wave, [])"
   ]
  },
  {
   "cell_type": "code",
   "execution_count": 31,
   "id": "b291987e-71c3-4e59-adee-300e6fdbf085",
   "metadata": {
    "tags": []
   },
   "outputs": [
    {
     "name": "stdout",
     "output_type": "stream",
     "text": [
      "Connecting to wave at address 7CEF8BE3-F544-99C9-B25A-3C6DD1281491\n",
      "Connected to Wave\n"
     ]
    }
   ],
   "source": [
    "t = Thread(target=run_source, args=(system, buffer))\n",
    "t.start()"
   ]
  },
  {
   "cell_type": "code",
   "execution_count": 33,
   "id": "1fab4069-e6df-4f69-b95b-739cd50a12a0",
   "metadata": {
    "tags": []
   },
   "outputs": [
    {
     "data": {
      "application/vnd.jupyter.widget-view+json": {
       "model_id": "b298a0e4458d4409aba66c5a0aa23fec",
       "version_major": 2,
       "version_minor": 0
      },
      "text/plain": [
       "Figure(axes=[Axis(label='t', scale=LinearScale()), Axis(label='gyro', orientation='vertical', scale=LinearScal…"
      ]
     },
     "metadata": {},
     "output_type": "display_data"
    }
   ],
   "source": [
    "buffer.plot('gyro')"
   ]
  },
  {
   "cell_type": "code",
   "execution_count": null,
   "id": "623f4fd3-e172-4674-b8ef-8564f82227e5",
   "metadata": {},
   "outputs": [],
   "source": []
  }
 ],
 "metadata": {
  "kernelspec": {
   "display_name": "Python 3 (ipykernel)",
   "language": "python",
   "name": "python3"
  },
  "language_info": {
   "codemirror_mode": {
    "name": "ipython",
    "version": 3
   },
   "file_extension": ".py",
   "mimetype": "text/x-python",
   "name": "python",
   "nbconvert_exporter": "python",
   "pygments_lexer": "ipython3",
   "version": "3.9.12"
  }
 },
 "nbformat": 4,
 "nbformat_minor": 5
}
