{
 "cells": [
  {
   "cell_type": "code",
   "execution_count": null,
   "id": "eba941f9",
   "metadata": {},
   "outputs": [],
   "source": [
    "%load_ext autoreload\n",
    "%autoreload 2"
   ]
  },
  {
   "cell_type": "code",
   "execution_count": null,
   "id": "8da7abaf-5594-4324-86bf-748b47c95426",
   "metadata": {
    "tags": []
   },
   "outputs": [],
   "source": [
    "import os \n",
    "os.chdir('/Users/bjarnihaukurbjarnason/Documents/genki-signals')\n",
    "\n",
    "from genki_signals.buffers import DataBuffer"
   ]
  },
  {
   "cell_type": "code",
   "execution_count": null,
   "id": "f9a73aeb-13f5-42ea-85bd-14676c0a65bb",
   "metadata": {
    "tags": []
   },
   "outputs": [],
   "source": [
    "import time\n",
    "from threading import Thread\n",
    "\n",
    "def run_source(source, buffer):\n",
    "    source.start()\n",
    "    while source.is_active:\n",
    "        buffer.extend(source.read())\n",
    "        time.sleep(1 / 25)"
   ]
  },
  {
   "cell_type": "code",
   "execution_count": null,
   "id": "e84b6c73",
   "metadata": {},
   "outputs": [],
   "source": [
    "from genki_signals.data_sources import CameraDataSource, Sampler\n",
    "\n",
    "buffer = DataBuffer(maxlen=1)\n",
    "\n",
    "resolution = (480, 360)\n",
    "\n",
    "camera = CameraDataSource(resolution=resolution)\n",
    "source = Sampler({\"camera\": camera}, sample_rate=29)\n",
    "\n",
    "t = Thread(target=run_source, args=(source, buffer))\n",
    "t.start()"
   ]
  },
  {
   "cell_type": "code",
   "execution_count": null,
   "id": "c37a8653",
   "metadata": {},
   "outputs": [],
   "source": [
    "buffer.keys()"
   ]
  },
  {
   "cell_type": "code",
   "execution_count": null,
   "id": "8abef655",
   "metadata": {},
   "outputs": [],
   "source": [
    "buffer[\"image\"].shape"
   ]
  },
  {
   "cell_type": "code",
   "execution_count": null,
   "id": "f6c1e368",
   "metadata": {
    "scrolled": false
   },
   "outputs": [],
   "source": [
    "buffer.plot(\"image\", plot_type=\"video\")"
   ]
  },
  {
   "cell_type": "code",
   "execution_count": null,
   "id": "e5591027-1d70-4406-9ab5-4a55f70c1c94",
   "metadata": {
    "tags": []
   },
   "outputs": [],
   "source": [
    "source.stop(); t.join()"
   ]
  },
  {
   "cell_type": "code",
   "execution_count": null,
   "id": "d9ea49f5-b052-4211-874e-dd298cd7248c",
   "metadata": {
    "tags": []
   },
   "outputs": [],
   "source": [
    "import genki_signals.signals as s\n",
    "from genki_signals.system import System\n",
    "\n",
    "derived = [\n",
    "    s.Sum('sine_1', 'sine_2', name='sines_sum'),\n",
    "    s.Sum('sines_sum', 'noise', name='wave_with_noise'),\n",
    "    s.FourierTransform('wave_with_noise', name='spectrum', window_size=128, window_overlap=64)\n",
    "]\n",
    "\n",
    "buffer = DataBuffer(maxlen=400)\n",
    "system = System(source, derived)"
   ]
  },
  {
   "cell_type": "code",
   "execution_count": null,
   "id": "bbbbdce2-3535-4794-897b-290a44d3922f",
   "metadata": {
    "tags": []
   },
   "outputs": [],
   "source": [
    "t = Thread(target=run_source, args=(system, buffer))\n",
    "t.start()"
   ]
  },
  {
   "cell_type": "code",
   "execution_count": null,
   "id": "f4aa9b95-e1e4-48a9-a2dd-6ab76b71ffe5",
   "metadata": {
    "tags": []
   },
   "outputs": [],
   "source": [
    "buffer"
   ]
  },
  {
   "cell_type": "code",
   "execution_count": null,
   "id": "3eda27cc-ead3-492f-8a88-7a4e97569a94",
   "metadata": {
    "tags": []
   },
   "outputs": [],
   "source": [
    "buffer.plot('wave_with_noise')"
   ]
  },
  {
   "cell_type": "code",
   "execution_count": null,
   "id": "25bbef51-4ce6-48c2-a3df-5b7e903297b6",
   "metadata": {
    "tags": []
   },
   "outputs": [],
   "source": [
    "buffer.plot('spectrum', plot_type='spectrogram', window_size=128, sample_rate=100)"
   ]
  },
  {
   "cell_type": "code",
   "execution_count": null,
   "id": "375d1ef2-767c-4056-94a5-f8fd0a00b583",
   "metadata": {
    "tags": []
   },
   "outputs": [],
   "source": [
    "system.stop(); t.join()"
   ]
  },
  {
   "cell_type": "code",
   "execution_count": null,
   "id": "b44a3db4-955c-4b5b-9de5-574f401cfcae",
   "metadata": {
    "tags": []
   },
   "outputs": [],
   "source": [
    "from genki_signals.data_sources import WaveDataSource\n",
    "\n",
    "wave = WaveDataSource(ble_address='7CEF8BE3-F544-99C9-B25A-3C6DD1281491')\n",
    "\n",
    "buffer = DataBuffer(maxlen=400)\n",
    "system = System(wave, [])"
   ]
  },
  {
   "cell_type": "code",
   "execution_count": null,
   "id": "b291987e-71c3-4e59-adee-300e6fdbf085",
   "metadata": {
    "tags": []
   },
   "outputs": [],
   "source": [
    "t = Thread(target=run_source, args=(system, buffer))\n",
    "t.start()"
   ]
  },
  {
   "cell_type": "code",
   "execution_count": null,
   "id": "1fab4069-e6df-4f69-b95b-739cd50a12a0",
   "metadata": {
    "tags": []
   },
   "outputs": [],
   "source": [
    "buffer.plot('gyro')"
   ]
  },
  {
   "cell_type": "code",
   "execution_count": null,
   "id": "623f4fd3-e172-4674-b8ef-8564f82227e5",
   "metadata": {},
   "outputs": [],
   "source": []
  }
 ],
 "metadata": {
  "kernelspec": {
   "display_name": "Python 3 (ipykernel)",
   "language": "python",
   "name": "python3"
  },
  "language_info": {
   "codemirror_mode": {
    "name": "ipython",
    "version": 3
   },
   "file_extension": ".py",
   "mimetype": "text/x-python",
   "name": "python",
   "nbconvert_exporter": "python",
   "pygments_lexer": "ipython3",
   "version": "3.9.12"
  }
 },
 "nbformat": 4,
 "nbformat_minor": 5
}
