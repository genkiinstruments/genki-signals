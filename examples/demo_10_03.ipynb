{
 "cells": [
  {
   "cell_type": "code",
   "execution_count": 1,
   "id": "9d6bf404-c007-4ba8-b001-2f74cc3c03f3",
   "metadata": {
    "tags": []
   },
   "outputs": [],
   "source": [
    "import os \n",
    "os.chdir('/Users/egill/dev/genki/genki-signals')"
   ]
  },
  {
   "cell_type": "code",
   "execution_count": 2,
   "id": "e9e8238a-8e4b-4647-b26f-9ef629874222",
   "metadata": {
    "tags": []
   },
   "outputs": [],
   "source": [
    "from genki_signals.buffers import DataBuffer\n",
    "\n",
    "buf = DataBuffer(max_size=100)"
   ]
  },
  {
   "cell_type": "code",
   "execution_count": 7,
   "id": "eeae32f6-101a-4bbc-a4c2-3263e8aed18e",
   "metadata": {
    "tags": []
   },
   "outputs": [],
   "source": [
    "for i in range(1000):\n",
    "    if i % 2 == 0:\n",
    "        buf.append({'a': i, 'b': i})\n",
    "    else:\n",
    "        buf.append({'a': i})"
   ]
  },
  {
   "cell_type": "code",
   "execution_count": 27,
   "id": "71ef39b4-04bd-4543-ac42-c9639ed9d272",
   "metadata": {
    "tags": []
   },
   "outputs": [],
   "source": [
    "import numpy as np\n",
    "from genki_signals.data_sources import SineWave\n",
    "\n",
    "sine = SineWave(amplitude=5, frequency=3, phase=0)"
   ]
  },
  {
   "cell_type": "code",
   "execution_count": 28,
   "id": "515ecf7c-d93f-4e43-b023-e8a2e70d8593",
   "metadata": {
    "tags": []
   },
   "outputs": [],
   "source": [
    "from genki_signals.data_sources import Sampler\n",
    "\n",
    "source = Sampler({'sine': sine}, sample_rate=100)"
   ]
  },
  {
   "cell_type": "code",
   "execution_count": 29,
   "id": "160de9ea-a018-44e3-a0e8-b5f719fb7a65",
   "metadata": {
    "tags": []
   },
   "outputs": [],
   "source": [
    "from threading import Thread\n",
    "import time\n",
    "\n",
    "buf = DataBuffer(max_size=400)\n",
    "\n",
    "def run_source(source, buffer):\n",
    "    source.start()\n",
    "    while True:\n",
    "        buffer.extend(source.read())\n",
    "        time.sleep(1 / 25)\n",
    "        if not source.is_active:\n",
    "            return\n",
    "        \n",
    "t = Thread(target=run_source, args=(source, buf))\n",
    "t.start()"
   ]
  },
  {
   "cell_type": "code",
   "execution_count": 30,
   "id": "f0aabb5f-f663-4593-8188-c42904e9b146",
   "metadata": {
    "tags": []
   },
   "outputs": [
    {
     "data": {
      "application/vnd.jupyter.widget-view+json": {
       "model_id": "1e292d29e64c45a3babdd8cff75fce16",
       "version_major": 2,
       "version_minor": 0
      },
      "text/plain": [
       "Figure(axes=[Axis(label='t', scale=LinearScale()), Axis(label='sine', orientation='vertical', scale=LinearScal…"
      ]
     },
     "metadata": {},
     "output_type": "display_data"
    }
   ],
   "source": [
    "buf.plot('sine')"
   ]
  },
  {
   "cell_type": "code",
   "execution_count": 32,
   "id": "eea9475b-6b25-4b4c-bc66-e9d37a884f01",
   "metadata": {
    "tags": []
   },
   "outputs": [
    {
     "data": {
      "application/vnd.jupyter.widget-view+json": {
       "model_id": "61d1b302105d4f8ba753c4330093567b",
       "version_major": 2,
       "version_minor": 0
      },
      "text/plain": [
       "interactive(children=(FloatSlider(value=5.0, description='amplitude', max=5.0, min=1.0, step=0.5), IntSlider(v…"
      ]
     },
     "metadata": {},
     "output_type": "display_data"
    }
   ],
   "source": [
    "from ipywidgets import interact, IntSlider, FloatSlider\n",
    "\n",
    "@interact(amplitude=FloatSlider(min=1, max=5, step=0.5, value=5), frequency=IntSlider(min=1, max=7, value=3))\n",
    "def set_wave_params(amplitude, frequency):\n",
    "    sine.amplitude = amplitude\n",
    "    sine.frequency = frequency"
   ]
  },
  {
   "cell_type": "code",
   "execution_count": 33,
   "id": "fc385f3e-033e-4050-8c73-f9a7b803b70f",
   "metadata": {
    "tags": []
   },
   "outputs": [],
   "source": [
    "source.stop()"
   ]
  },
  {
   "cell_type": "code",
   "execution_count": 35,
   "id": "b7945a3e-8c4d-40f0-b60e-8d529da83aa6",
   "metadata": {
    "tags": []
   },
   "outputs": [],
   "source": [
    "from genki_signals.data_sources import MicDataSource, WaveDataSource, MouseDataSource, KeyboardDataSource\n",
    "\n",
    "wave_source = WaveDataSource(ble_address='5C72E785-DAF5-1E32-599D-EBF56B8ECD5B')\n"
   ]
  },
  {
   "cell_type": "code",
   "execution_count": 36,
   "id": "04991e61-e17f-43d3-9249-b82152aa464f",
   "metadata": {
    "tags": []
   },
   "outputs": [
    {
     "name": "stdout",
     "output_type": "stream",
     "text": [
      "Connecting to wave at address 5C72E785-DAF5-1E32-599D-EBF56B8ECD5B\n",
      "Connected to Wave\n"
     ]
    }
   ],
   "source": [
    "buf = DataBuffer(max_size=400)\n",
    "\n",
    "t = Thread(target=run_source, args=(wave_source, buf))\n",
    "t.start()"
   ]
  },
  {
   "cell_type": "code",
   "execution_count": 39,
   "id": "f4e0999f-d8f2-45c3-9e04-b1bce46a2514",
   "metadata": {
    "tags": []
   },
   "outputs": [
    {
     "data": {
      "text/plain": [
       "DataBuffer(max_size=400, data=gyro: (3, 400)\n",
       "acc: (3, 400)\n",
       "mag: (3, 400)\n",
       "raw_pose: (4, 400)\n",
       "current_pose: (4, 400)\n",
       "euler: (3, 400)\n",
       "linacc: (3, 400)\n",
       "peak: (400,)\n",
       "peak_norm_velocity: (400,)\n",
       "timestamp_us: (400,)\n",
       "grav: (3, 400)\n",
       "acc_glob: (3, 400)\n",
       "linacc_glob: (3, 400))"
      ]
     },
     "execution_count": 39,
     "metadata": {},
     "output_type": "execute_result"
    }
   ],
   "source": [
    "buf"
   ]
  },
  {
   "cell_type": "code",
   "execution_count": 40,
   "id": "4503c732-d6b0-457b-b661-2ef5f7b77c13",
   "metadata": {
    "tags": []
   },
   "outputs": [
    {
     "data": {
      "application/vnd.jupyter.widget-view+json": {
       "model_id": "49f22f27f45b4bb3afd11ac989d4f0ed",
       "version_major": 2,
       "version_minor": 0
      },
      "text/plain": [
       "Figure(axes=[Axis(label='t', scale=LinearScale()), Axis(label='gyro', orientation='vertical', scale=LinearScal…"
      ]
     },
     "metadata": {},
     "output_type": "display_data"
    }
   ],
   "source": [
    "buf.plot('gyro')"
   ]
  },
  {
   "cell_type": "code",
   "execution_count": 41,
   "id": "c97f9957-3b0d-4f54-a532-91079d4e7db8",
   "metadata": {
    "tags": []
   },
   "outputs": [
    {
     "name": "stdout",
     "output_type": "stream",
     "text": [
      "Got a cancel message, exiting.\n"
     ]
    }
   ],
   "source": [
    "wave_source.stop()"
   ]
  },
  {
   "cell_type": "code",
   "execution_count": 42,
   "id": "dd85844e-b50c-4920-80ca-b5946f56b58c",
   "metadata": {
    "tags": []
   },
   "outputs": [],
   "source": [
    "from genki_signals.data_sources import RandomNoise\n",
    "\n",
    "noise_source = RandomNoise()\n",
    "\n",
    "source = Sampler({\n",
    "    'sine_1': SineWave(amplitude=5, frequency=3, phase=0),\n",
    "    'sine_2': SineWave(amplitude=3, frequency=7, phase=0.2),\n",
    "    'noise': noise_source\n",
    "}, sample_rate=100)"
   ]
  },
  {
   "cell_type": "code",
   "execution_count": 43,
   "id": "7e1ea6bc-524b-4025-994b-cf583dad4670",
   "metadata": {
    "tags": []
   },
   "outputs": [],
   "source": [
    "import genki_signals.signals as s\n",
    "\n",
    "derived_signals = [\n",
    "    s.Sum('sine_1', 'sine_2', name='composite_sine'),\n",
    "    s.Sum('composite_sine', 'noise', name='wave_with_noise'),\n",
    "    s.FourierTransform('wave_with_noise', name='wave_spectrum', window_size=256, window_overlap=64)\n",
    "]"
   ]
  },
  {
   "cell_type": "code",
   "execution_count": 44,
   "id": "a6cff9cc-43ab-4699-981e-4daa7ab809f5",
   "metadata": {
    "tags": []
   },
   "outputs": [],
   "source": [
    "from genki_signals.system import System\n",
    "\n",
    "sys_1 = System(source, derived_signals)"
   ]
  },
  {
   "cell_type": "code",
   "execution_count": 45,
   "id": "615a3cd3-9f70-4fa7-b3b2-c3dd50b11ffe",
   "metadata": {
    "tags": []
   },
   "outputs": [],
   "source": [
    "buf = DataBuffer(max_size=400)\n",
    "\n",
    "t = Thread(target=run_source, args=(sys_1, buf))\n",
    "t.start()"
   ]
  },
  {
   "cell_type": "code",
   "execution_count": 46,
   "id": "75433a50-beae-45e0-a561-04e1c5287c47",
   "metadata": {
    "tags": []
   },
   "outputs": [
    {
     "data": {
      "text/plain": [
       "DataBuffer(max_size=400, data=timestamp: (349,)\n",
       "sine_1: (349,)\n",
       "sine_2: (349,)\n",
       "noise: (349,)\n",
       "composite_sine: (349,)\n",
       "wave_with_noise: (349,)\n",
       "wave_spectrum: (129, 349))"
      ]
     },
     "execution_count": 46,
     "metadata": {},
     "output_type": "execute_result"
    }
   ],
   "source": [
    "buf"
   ]
  },
  {
   "cell_type": "code",
   "execution_count": 47,
   "id": "11206ecd-d520-480e-95a3-0dfd146cf5ad",
   "metadata": {
    "tags": []
   },
   "outputs": [
    {
     "data": {
      "application/vnd.jupyter.widget-view+json": {
       "model_id": "2b95fd5c50cb4c428cfb08f8096b8ebd",
       "version_major": 2,
       "version_minor": 0
      },
      "text/plain": [
       "Figure(axes=[Axis(label='t', scale=LinearScale()), Axis(label='wave_with_noise', orientation='vertical', scale…"
      ]
     },
     "metadata": {},
     "output_type": "display_data"
    }
   ],
   "source": [
    "buf.plot('wave_with_noise')"
   ]
  },
  {
   "cell_type": "code",
   "execution_count": 48,
   "id": "feaededb-a657-47b5-ac6c-df57fa6f37e4",
   "metadata": {
    "tags": []
   },
   "outputs": [
    {
     "data": {
      "application/vnd.jupyter.widget-view+json": {
       "model_id": "1f2b007c77c442eda61866122a41f9cb",
       "version_major": 2,
       "version_minor": 0
      },
      "text/plain": [
       "interactive(children=(FloatSlider(value=1.0, description='noise', max=3.0, min=0.1), Output()), _dom_classes=(…"
      ]
     },
     "metadata": {},
     "output_type": "display_data"
    }
   ],
   "source": [
    "from ipywidgets import interact, FloatSlider\n",
    "\n",
    "@interact(noise=FloatSlider(min=0.1, max=3.0, step=0.1, value=1))\n",
    "def set_noise(noise):\n",
    "    noise_source.amplitude = noise"
   ]
  },
  {
   "cell_type": "code",
   "execution_count": 53,
   "id": "f91c6102-4ebd-4da1-a860-7795f1373fba",
   "metadata": {
    "tags": []
   },
   "outputs": [
    {
     "data": {
      "application/vnd.jupyter.widget-view+json": {
       "model_id": "113c9f477e7844d09938457db6069c9a",
       "version_major": 2,
       "version_minor": 0
      },
      "text/plain": [
       "Figure(axes=[Axis(label='Hz', scale=LinearScale()), Axis(label='db', orientation='vertical', scale=LinearScale…"
      ]
     },
     "metadata": {},
     "output_type": "display_data"
    }
   ],
   "source": [
    "buf.plot('wave_spectrum', plot_type='spectrogram', window_size=256, sample_rate=100)"
   ]
  },
  {
   "cell_type": "code",
   "execution_count": 58,
   "id": "eec50178-b64f-4651-bcb7-3c6aea50ea0e",
   "metadata": {
    "tags": []
   },
   "outputs": [],
   "source": [
    "sys_1.stop()"
   ]
  },
  {
   "cell_type": "code",
   "execution_count": 55,
   "id": "38b69841-7c89-4b48-a0bf-80234ef55e16",
   "metadata": {
    "tags": []
   },
   "outputs": [],
   "source": [
    "mic_source = MicDataSource()\n",
    "\n",
    "sys_2 = System(mic_source, [])"
   ]
  },
  {
   "cell_type": "code",
   "execution_count": 59,
   "id": "2b2b123a-f88b-4276-b294-fd5806f512e7",
   "metadata": {
    "tags": []
   },
   "outputs": [],
   "source": [
    "buf = DataBuffer(max_size=400)\n",
    "\n",
    "t = Thread(target=run_source, args=(sys_2, buf))\n",
    "t.start()"
   ]
  },
  {
   "cell_type": "code",
   "execution_count": 61,
   "id": "b4013865-3ce2-48e6-bbf2-80c63e7c369d",
   "metadata": {
    "tags": []
   },
   "outputs": [],
   "source": [
    "sys_2.add_derived_signal(s.FourierTransform('audio', name='audio_spectrum', window_size=1024, window_overlap=0))"
   ]
  },
  {
   "cell_type": "code",
   "execution_count": 64,
   "id": "8460fc66-dd99-4bcf-8baa-1a36f220c71a",
   "metadata": {
    "tags": []
   },
   "outputs": [
    {
     "data": {
      "application/vnd.jupyter.widget-view+json": {
       "model_id": "f3b91a189ff9436db4f1e1ce8f842a91",
       "version_major": 2,
       "version_minor": 0
      },
      "text/plain": [
       "Figure(axes=[Axis(label='Hz', scale=LinearScale()), Axis(label='db', orientation='vertical', scale=LinearScale…"
      ]
     },
     "metadata": {},
     "output_type": "display_data"
    }
   ],
   "source": [
    "buf.plot('audio_spectrum', plot_type='spectrogram', window_size=1024, sample_rate=mic_source.sample_rate)"
   ]
  },
  {
   "cell_type": "code",
   "execution_count": 65,
   "id": "8f923575-3f92-44bd-8c7e-3d06db71e631",
   "metadata": {
    "tags": []
   },
   "outputs": [],
   "source": [
    "sys_2.stop()"
   ]
  },
  {
   "cell_type": "code",
   "execution_count": 66,
   "id": "4f53851f-a44f-44a3-b7f3-a0e7e02d51e2",
   "metadata": {
    "tags": []
   },
   "outputs": [],
   "source": [
    "mouse_source = Sampler({'mouse_position': MouseDataSource()}, sample_rate=100)\n",
    "\n",
    "buf = DataBuffer(max_size=400)\n",
    "\n",
    "sys_3 = System(mouse_source, derived_signals=[])\n",
    "\n",
    "t = Thread(target=run_source, args=(sys_3, buf))\n",
    "t.start()"
   ]
  },
  {
   "cell_type": "code",
   "execution_count": 68,
   "id": "ad20cb97-6134-478a-b2b4-43740d303796",
   "metadata": {
    "collapsed": true,
    "jupyter": {
     "outputs_hidden": true
    },
    "tags": []
   },
   "outputs": [
    {
     "data": {
      "application/vnd.jupyter.widget-view+json": {
       "model_id": "6168909ec1934fa38885119bd6563086",
       "version_major": 2,
       "version_minor": 0
      },
      "text/plain": [
       "Figure(axes=[Axis(label='x', scale=LinearScale()), Axis(label='y', orientation='vertical', scale=LinearScale()…"
      ]
     },
     "metadata": {},
     "output_type": "display_data"
    }
   ],
   "source": [
    "buf.plot('mouse_position', plot_type='trace2D')"
   ]
  },
  {
   "cell_type": "code",
   "execution_count": 69,
   "id": "1b5c3754-11f7-4bf8-9063-ab64a9b18fd2",
   "metadata": {
    "tags": []
   },
   "outputs": [],
   "source": [
    "sys_3.add_derived_signal(s.Differentiate('mouse_position', name='mouse_velocity'))"
   ]
  },
  {
   "cell_type": "code",
   "execution_count": 70,
   "id": "bf435d4e-86e2-4748-8850-51c302518efc",
   "metadata": {
    "tags": []
   },
   "outputs": [],
   "source": [
    "from genki_signals.models.letter_detection_model import SimpleGruModel\n",
    "\n",
    "example_rnn_model = SimpleGruModel.load_from_checkpoint(\"genki_signals/models/stc_detector_final-epoch=15-val_loss=0.53.ckpt\")"
   ]
  },
  {
   "cell_type": "code",
   "execution_count": 71,
   "id": "8cf4978c-0f94-4db6-b49e-1fa3cc3f462f",
   "metadata": {
    "tags": []
   },
   "outputs": [],
   "source": [
    "sys_3.add_derived_signal(s.Inference(example_rnn_model, input_signals=['mouse_velocity'], \n",
    "                                     stateful=True, name='model_inference'))"
   ]
  },
  {
   "cell_type": "code",
   "execution_count": 72,
   "id": "278d6b42-f337-40eb-aeb2-d3315e067ec6",
   "metadata": {
    "tags": []
   },
   "outputs": [
    {
     "data": {
      "text/plain": [
       "DataBuffer(max_size=400, data=timestamp: (400,)\n",
       "mouse_position: (2, 400)\n",
       "mouse_velocity: (2, 400)\n",
       "model_inference: (4, 231))"
      ]
     },
     "execution_count": 72,
     "metadata": {},
     "output_type": "execute_result"
    }
   ],
   "source": [
    "buf"
   ]
  },
  {
   "cell_type": "code",
   "execution_count": 75,
   "id": "bc379d3f-7fd7-4a33-ab4b-61f119655f51",
   "metadata": {
    "tags": []
   },
   "outputs": [
    {
     "data": {
      "application/vnd.jupyter.widget-view+json": {
       "model_id": "0866a7d00798430ab977983f50496bb4",
       "version_major": 2,
       "version_minor": 0
      },
      "text/plain": [
       "Figure(axes=[Axis(scale=OrdinalScale()), Axis(label='Probability', orientation='vertical', scale=LinearScale()…"
      ]
     },
     "metadata": {},
     "output_type": "display_data"
    }
   ],
   "source": [
    "class_names=['background', 'square', 'triangle', 'circle']\n",
    "\n",
    "buf.plot('model_inference', plot_type='histogram', class_names=class_names)"
   ]
  },
  {
   "cell_type": "code",
   "execution_count": 76,
   "id": "d685b3aa-2608-41f0-8528-b2b709fbce31",
   "metadata": {
    "tags": []
   },
   "outputs": [],
   "source": [
    "sys_3.stop()"
   ]
  },
  {
   "cell_type": "code",
   "execution_count": null,
   "id": "e6705f73-6bec-4163-be1d-aa8f3be0c901",
   "metadata": {},
   "outputs": [],
   "source": []
  }
 ],
 "metadata": {
  "kernelspec": {
   "display_name": "Python 3 (ipykernel)",
   "language": "python",
   "name": "python3"
  },
  "language_info": {
   "codemirror_mode": {
    "name": "ipython",
    "version": 3
   },
   "file_extension": ".py",
   "mimetype": "text/x-python",
   "name": "python",
   "nbconvert_exporter": "python",
   "pygments_lexer": "ipython3",
   "version": "3.9.12"
  }
 },
 "nbformat": 4,
 "nbformat_minor": 5
}
