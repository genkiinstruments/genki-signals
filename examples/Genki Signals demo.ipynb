{
 "cells": [
  {
   "cell_type": "markdown",
   "id": "a824d440",
   "metadata": {},
   "source": [
    "A fundamental concept in Genki Signals is the (circular) buffer:"
   ]
  },
  {
   "cell_type": "code",
   "execution_count": null,
   "id": "0e9c0b53",
   "metadata": {},
   "outputs": [],
   "source": [
    "from genki_signals.buffers import DataFrameBuffer\n",
    "\n",
    "buffer = DataFrameBuffer(size=400)"
   ]
  },
  {
   "cell_type": "markdown",
   "id": "845ad1f2",
   "metadata": {},
   "source": [
    "A `DataFrameBuffer` is similar to a `pandas` `DataFrame` apart from the finite size. If we add more than 400 elements to it, the first ones will be automatically deleted. Genki Signals also provides `ArrayBuffer` (similar to a `numpy` array) and `TensorBuffer` (like a `pytorch` tensor). "
   ]
  },
  {
   "cell_type": "markdown",
   "id": "b7e53bc0",
   "metadata": {},
   "source": [
    "A buffer without data is like a book without words, so let's generate some data! We'll make a simple sine wave generator to begin with:"
   ]
  },
  {
   "cell_type": "code",
   "execution_count": 1,
   "id": "77dfdcc8",
   "metadata": {
    "collapsed": true
   },
   "outputs": [
    {
     "ename": "ModuleNotFoundError",
     "evalue": "No module named 'genki_signals'",
     "output_type": "error",
     "traceback": [
      "\u001b[0;31m---------------------------------------------------------------------------\u001b[0m",
      "\u001b[0;31mModuleNotFoundError\u001b[0m                       Traceback (most recent call last)",
      "Cell \u001b[0;32mIn[1], line 1\u001b[0m\n\u001b[0;32m----> 1\u001b[0m \u001b[38;5;28;01mfrom\u001b[39;00m \u001b[38;5;21;01mgenki_signals\u001b[39;00m\u001b[38;5;21;01m.\u001b[39;00m\u001b[38;5;21;01mdata_sources\u001b[39;00m \u001b[38;5;28;01mimport\u001b[39;00m SineWave\n\u001b[1;32m      3\u001b[0m source \u001b[38;5;241m=\u001b[39m SineWave(\n\u001b[1;32m      4\u001b[0m     freq\u001b[38;5;241m=\u001b[39m[\u001b[38;5;241m1\u001b[39m, \u001b[38;5;241m3\u001b[39m],\n\u001b[1;32m      5\u001b[0m     amplitude\u001b[38;5;241m=\u001b[39m[\u001b[38;5;241m5\u001b[39m, \u001b[38;5;241m1\u001b[39m],\n\u001b[0;32m   (...)\u001b[0m\n\u001b[1;32m      8\u001b[0m     tensor_backend\u001b[38;5;241m=\u001b[39m\u001b[38;5;124m'\u001b[39m\u001b[38;5;124mnumpy\u001b[39m\u001b[38;5;124m'\u001b[39m\n\u001b[1;32m      9\u001b[0m )\n",
      "\u001b[0;31mModuleNotFoundError\u001b[0m: No module named 'genki_signals'"
     ]
    }
   ],
   "source": [
    "from genki_signals.data_sources import SineWave\n",
    "\n",
    "source = SineWave(\n",
    "    freq=3,\n",
    "    amplitude=5,\n",
    "    phase=0,\n",
    ")"
   ]
  },
  {
   "cell_type": "markdown",
   "id": "dc4b93ae",
   "metadata": {},
   "source": [
    "This should be fairly straightforward. The unit of `freq` is cycles and samples _per second_ (Hz).\n",
    "\n",
    "(Note that time here is not some abstract x-axis but actually real time. Once this data source is put in the right context and started it will generate a sine waves 3 cycles per second. This data will be generated in a separate thread, regardless of wether it is read or used for anything.)\n",
    "\n",
    "While the sine wave data source is useful as an example, data sources that are entirely deterministic are in general not very useful. Usually data sources represent some kind of _input_, e.g. mouse movements or Wave sensor readings:"
   ]
  },
  {
   "cell_type": "code",
   "execution_count": 10,
   "id": "7ddafe85",
   "metadata": {
    "collapsed": true
   },
   "outputs": [
    {
     "ename": "ModuleNotFoundError",
     "evalue": "No module named 'genki_signals'",
     "output_type": "error",
     "traceback": [
      "\u001b[0;31m---------------------------------------------------------------------------\u001b[0m",
      "\u001b[0;31mModuleNotFoundError\u001b[0m                       Traceback (most recent call last)",
      "Cell \u001b[0;32mIn[10], line 1\u001b[0m\n\u001b[0;32m----> 1\u001b[0m \u001b[38;5;28;01mfrom\u001b[39;00m \u001b[38;5;21;01mgenki_signals\u001b[39;00m\u001b[38;5;21;01m.\u001b[39;00m\u001b[38;5;21;01mdata_sources\u001b[39;00m \u001b[38;5;28;01mimport\u001b[39;00m MouseDataSource, WaveDataSource\n\u001b[1;32m      3\u001b[0m mouse_source \u001b[38;5;241m=\u001b[39m MouseDataSource()\n\u001b[1;32m      4\u001b[0m wave_source \u001b[38;5;241m=\u001b[39m WaveDataSource(ble_address)\n",
      "\u001b[0;31mModuleNotFoundError\u001b[0m: No module named 'genki_signals'"
     ]
    }
   ],
   "source": [
    "from genki_signals.data_sources import MouseDataSource, WaveDataSource\n",
    "\n",
    "mouse_source = MouseDataSource()\n",
    "wave_source = WaveDataSource(ble_address)"
   ]
  },
  {
   "cell_type": "markdown",
   "id": "802bb247",
   "metadata": {},
   "source": [
    "The `MouseDataSource` reads the position of the mouse, and the `WaveDataSource` streams sensor data from a Wave ring.\n",
    "\n",
    "More on these later - let's go back to the sine wave example. We currently have a data source and a dataframe buffer, but we haven't connected them. One way to do so is to make the data source populate the buffer in another thread to avoid blocking the main jupyter thread:"
   ]
  },
  {
   "cell_type": "code",
   "execution_count": 11,
   "id": "6edbbcae",
   "metadata": {
    "collapsed": true
   },
   "outputs": [
    {
     "ename": "NameError",
     "evalue": "name 'source' is not defined",
     "output_type": "error",
     "traceback": [
      "\u001b[0;31m---------------------------------------------------------------------------\u001b[0m",
      "\u001b[0;31mNameError\u001b[0m                                 Traceback (most recent call last)",
      "Cell \u001b[0;32mIn[11], line 11\u001b[0m\n\u001b[1;32m      8\u001b[0m         time\u001b[38;5;241m.\u001b[39msleep(\u001b[38;5;241m1\u001b[39m \u001b[38;5;241m/\u001b[39m \u001b[38;5;241m25\u001b[39m)\n\u001b[1;32m     10\u001b[0m t \u001b[38;5;241m=\u001b[39m Thread(target\u001b[38;5;241m=\u001b[39mrun_source)\n\u001b[0;32m---> 11\u001b[0m \u001b[43mt\u001b[49m\u001b[38;5;241;43m.\u001b[39;49m\u001b[43mrun\u001b[49m\u001b[43m(\u001b[49m\u001b[43m)\u001b[49m\n",
      "File \u001b[0;32m~/opt/miniconda3/envs/genki/lib/python3.9/threading.py:910\u001b[0m, in \u001b[0;36mThread.run\u001b[0;34m(self)\u001b[0m\n\u001b[1;32m    908\u001b[0m \u001b[38;5;28;01mtry\u001b[39;00m:\n\u001b[1;32m    909\u001b[0m     \u001b[38;5;28;01mif\u001b[39;00m \u001b[38;5;28mself\u001b[39m\u001b[38;5;241m.\u001b[39m_target:\n\u001b[0;32m--> 910\u001b[0m         \u001b[38;5;28;43mself\u001b[39;49m\u001b[38;5;241;43m.\u001b[39;49m\u001b[43m_target\u001b[49m\u001b[43m(\u001b[49m\u001b[38;5;241;43m*\u001b[39;49m\u001b[38;5;28;43mself\u001b[39;49m\u001b[38;5;241;43m.\u001b[39;49m\u001b[43m_args\u001b[49m\u001b[43m,\u001b[49m\u001b[43m \u001b[49m\u001b[38;5;241;43m*\u001b[39;49m\u001b[38;5;241;43m*\u001b[39;49m\u001b[38;5;28;43mself\u001b[39;49m\u001b[38;5;241;43m.\u001b[39;49m\u001b[43m_kwargs\u001b[49m\u001b[43m)\u001b[49m\n\u001b[1;32m    911\u001b[0m \u001b[38;5;28;01mfinally\u001b[39;00m:\n\u001b[1;32m    912\u001b[0m     \u001b[38;5;66;03m# Avoid a refcycle if the thread is running a function with\u001b[39;00m\n\u001b[1;32m    913\u001b[0m     \u001b[38;5;66;03m# an argument that has a member that points to the thread.\u001b[39;00m\n\u001b[1;32m    914\u001b[0m     \u001b[38;5;28;01mdel\u001b[39;00m \u001b[38;5;28mself\u001b[39m\u001b[38;5;241m.\u001b[39m_target, \u001b[38;5;28mself\u001b[39m\u001b[38;5;241m.\u001b[39m_args, \u001b[38;5;28mself\u001b[39m\u001b[38;5;241m.\u001b[39m_kwargs\n",
      "Cell \u001b[0;32mIn[11], line 5\u001b[0m, in \u001b[0;36mrun_source\u001b[0;34m()\u001b[0m\n\u001b[1;32m      4\u001b[0m \u001b[38;5;28;01mdef\u001b[39;00m \u001b[38;5;21mrun_source\u001b[39m():\n\u001b[0;32m----> 5\u001b[0m     \u001b[43msource\u001b[49m\u001b[38;5;241m.\u001b[39mstart(sampling_rate\u001b[38;5;241m=\u001b[39m\u001b[38;5;241m100\u001b[39m)\n\u001b[1;32m      6\u001b[0m     \u001b[38;5;28;01mwhile\u001b[39;00m \u001b[38;5;28;01mTrue\u001b[39;00m:\n\u001b[1;32m      7\u001b[0m         buffer\u001b[38;5;241m.\u001b[39mappend(source\u001b[38;5;241m.\u001b[39mread())\n",
      "\u001b[0;31mNameError\u001b[0m: name 'source' is not defined"
     ]
    }
   ],
   "source": [
    "import time\n",
    "from threading import Thread\n",
    "\n",
    "def run_source():\n",
    "    source.start(sampling_rate=100)\n",
    "    while True:\n",
    "        buffer.append(source.read())\n",
    "        time.sleep(1 / 25)\n",
    "        \n",
    "t = Thread(target=run_source)\n",
    "t.run()"
   ]
  },
  {
   "cell_type": "markdown",
   "id": "6c013ee5",
   "metadata": {},
   "source": [
    "As soon as the `start` method of the data source is called, it starts generating data on a sampling rate of 100 Hz. \n",
    "\n",
    "Calling `source.read()` returns all data that the source has generated since the last call to `read`. In this case we are calling `read` 25 times a second, but the data source is generating data at 100 Hz, so we should expect `read` to return 4 data points on average. \n",
    "\n",
    "Effectively, there are three frequencies at play here:\n",
    "* The sine wave frequenct (3 Hz)\n",
    "* The sampling rate (100 Hz)\n",
    "* The _update frequency_ (25 Hz)\n",
    "\n",
    "The distinction between sampling rate and update frequency is useful. For example, if we are streaming very high frequency data (e.g. audio) through a websocket, we can lower the update frequency and chunk the data to fewer TCP transmissions. This data is generally meant to be plotted in real time so the other limit of the update frequency is human perception: if graphs appear chunky, the update frequency can be increased to smooth the animation.\n",
    "\n",
    "Speaking of graphs, we can now visualise the data as it is generated:"
   ]
  },
  {
   "cell_type": "code",
   "execution_count": 4,
   "id": "3c8a341d",
   "metadata": {
    "collapsed": true
   },
   "outputs": [
    {
     "ename": "NameError",
     "evalue": "name 'buffer' is not defined",
     "output_type": "error",
     "traceback": [
      "\u001b[0;31m---------------------------------------------------------------------------\u001b[0m",
      "\u001b[0;31mNameError\u001b[0m                                 Traceback (most recent call last)",
      "Cell \u001b[0;32mIn[4], line 1\u001b[0m\n\u001b[0;32m----> 1\u001b[0m \u001b[43mbuffer\u001b[49m\u001b[38;5;241m.\u001b[39mplot() \u001b[38;5;66;03m# This should return a widget with a real-time line chart\u001b[39;00m\n",
      "\u001b[0;31mNameError\u001b[0m: name 'buffer' is not defined"
     ]
    }
   ],
   "source": [
    "buffer.plot() # This should return a widget with a real-time line chart"
   ]
  },
  {
   "cell_type": "markdown",
   "id": "504d6ea7",
   "metadata": {},
   "source": [
    "This is neat, but the real power of Genki Signals comes from using derived signals:"
   ]
  },
  {
   "cell_type": "code",
   "execution_count": 3,
   "id": "37584413",
   "metadata": {
    "collapsed": true
   },
   "outputs": [
    {
     "ename": "ModuleNotFoundError",
     "evalue": "No module named 'genki_signals'",
     "output_type": "error",
     "traceback": [
      "\u001b[0;31m---------------------------------------------------------------------------\u001b[0m",
      "\u001b[0;31mModuleNotFoundError\u001b[0m                       Traceback (most recent call last)",
      "Cell \u001b[0;32mIn[3], line 1\u001b[0m\n\u001b[0;32m----> 1\u001b[0m \u001b[38;5;28;01mimport\u001b[39;00m \u001b[38;5;21;01mgenki_signals\u001b[39;00m\u001b[38;5;21;01m.\u001b[39;00m\u001b[38;5;21;01msignals\u001b[39;00m \u001b[38;5;28;01mas\u001b[39;00m \u001b[38;5;21;01ms\u001b[39;00m\n\u001b[1;32m      3\u001b[0m derived_signals \u001b[38;5;241m=\u001b[39m [\n\u001b[1;32m      4\u001b[0m     s\u001b[38;5;241m.\u001b[39mSum(\u001b[38;5;124m'\u001b[39m\u001b[38;5;124msine_0\u001b[39m\u001b[38;5;124m'\u001b[39m, \u001b[38;5;124m'\u001b[39m\u001b[38;5;124msine_1\u001b[39m\u001b[38;5;124m'\u001b[39m, name\u001b[38;5;241m=\u001b[39m\u001b[38;5;124m'\u001b[39m\u001b[38;5;124mcomposite_sine\u001b[39m\u001b[38;5;124m'\u001b[39m)\n\u001b[1;32m      5\u001b[0m ]\n",
      "\u001b[0;31mModuleNotFoundError\u001b[0m: No module named 'genki_signals'"
     ]
    }
   ],
   "source": [
    "import genki_signals.signals as s\n",
    "\n",
    "derived_signals = [\n",
    "    s.Sum('sine_0', 'sine_1', name='composite_sine')\n",
    "    s.DFT('composite_sine', name='composite_sine_spectrum', window_size=128, window_overlap=32)\n",
    "]"
   ]
  },
  {
   "cell_type": "markdown",
   "id": "ee7500d8",
   "metadata": {},
   "source": [
    "What are `derived_signals`? It specifies a configuration of derived signals in the context of some data sources. Adding `sine_0` and `sine_1` is meaningless without knowing what `sine_0` and `sine_1` are. Where do the names `sine_0` and `sine_1` come from? We will answer that in a bit, but for now, imagine they are two separate sine waves.\n",
    "\n",
    "What do we want from an object like `derived_signals`?\n",
    "\n",
    "* It represents a DAG of time-series operations, each operation can take source signals or results of other operations as input. Names are important!\n",
    "* These should work both offline and online (real time). They are _causal_ in other words.\n",
    "* They should be deterministic - reproducible from the specification only and can only depend on local state.\n",
    "* Determinism means they are serializable to e.g. JSON - this will be passed from frontend to backend in a web app \n",
    "* We can create a torch module (and sklearn pipeline?) from it - which is then serializable as ONNX\n",
    "* This is tensor backend-agnostic. Each signal is capable of working with numpy arrays, torch tensors, etc.\n",
    "* Each signal in the list is a function that can operate independently given some data.\n",
    "\n",
    "We are still not computing any of the derived signals. If we want to start all of this - a thing which computes two sine waves, adds them together and computes the DFT, we could:\n",
    "\n",
    "* Create two SineWave data sources\n",
    "* Start them in separate threads\n",
    "* Syncrhonise their sampling rate\n",
    "* Manage all the names and compute all the derived signals at each step\n",
    "* Keep all the results in a buffer\n",
    "\n",
    "That sounds quite tedious, but thankfully this is exactly what a `System` does:"
   ]
  },
  {
   "cell_type": "code",
   "execution_count": 12,
   "id": "b1f86318",
   "metadata": {
    "collapsed": true
   },
   "outputs": [
    {
     "ename": "SyntaxError",
     "evalue": "invalid syntax (3260408991.py, line 10)",
     "output_type": "error",
     "traceback": [
      "\u001b[0;36m  Cell \u001b[0;32mIn[12], line 10\u001b[0;36m\u001b[0m\n\u001b[0;31m    buffer_len=400,\u001b[0m\n\u001b[0m    ^\u001b[0m\n\u001b[0;31mSyntaxError\u001b[0m\u001b[0;31m:\u001b[0m invalid syntax\n"
     ]
    }
   ],
   "source": [
    "from genki_signals.system import System\n",
    "\n",
    "sine_1 = SineWave(freq=3,amplitude=5,phase=0)\n",
    "sine_2 = SineWave(freq=7, amplitude=2, phase=0)\n",
    "\n",
    "system = System(\n",
    "    sources=[sine_1, sine_2],\n",
    "    derived_signals=derived_signals,\n",
    "    sampling_rate=100,\n",
    "    buffer_len=400,\n",
    "    tensor_backend='numpy'\n",
    ")"
   ]
  },
  {
   "cell_type": "markdown",
   "id": "b008640d",
   "metadata": {},
   "source": [
    "Most of this is straightforward, but notice the `tensor_backend`. Everything we have defined up to this point is agnostic as to which library is used for vectorised operations. The value of `tensor_backend` can be `'numpy'` for numpy arrays or `'pytorch'` for PyTorch tensors. "
   ]
  },
  {
   "cell_type": "code",
   "execution_count": 6,
   "id": "c81894be",
   "metadata": {
    "collapsed": true
   },
   "outputs": [
    {
     "ename": "NameError",
     "evalue": "name 'source' is not defined",
     "output_type": "error",
     "traceback": [
      "\u001b[0;31m---------------------------------------------------------------------------\u001b[0m",
      "\u001b[0;31mNameError\u001b[0m                                 Traceback (most recent call last)",
      "Cell \u001b[0;32mIn[6], line 1\u001b[0m\n\u001b[0;32m----> 1\u001b[0m \u001b[43msource\u001b[49m\u001b[38;5;241m.\u001b[39mstop() \u001b[38;5;66;03m# the source is currently running, we need to stop it to be able to start it again\u001b[39;00m\n\u001b[1;32m      2\u001b[0m system\u001b[38;5;241m.\u001b[39mstart()\n\u001b[1;32m      4\u001b[0m system\u001b[38;5;241m.\u001b[39mbuffer\u001b[38;5;241m.\u001b[39mplot(plot_type\u001b[38;5;241m=\u001b[39m\u001b[38;5;124m'\u001b[39m\u001b[38;5;124mspectrogram\u001b[39m\u001b[38;5;124m'\u001b[39m, signal\u001b[38;5;241m=\u001b[39m\u001b[38;5;124m'\u001b[39m\u001b[38;5;124mcompmosite_sine_spectrum\u001b[39m\u001b[38;5;124m'\u001b[39m)\n",
      "\u001b[0;31mNameError\u001b[0m: name 'source' is not defined"
     ]
    }
   ],
   "source": [
    "system.start()\n",
    "\n",
    "system.buffer.plot(plot_type='spectrogram', signal='compmosite_sine_spectrum')"
   ]
  },
  {
   "cell_type": "markdown",
   "id": "fab93c40",
   "metadata": {},
   "source": [
    "Setting `plot_type` changes the type of plot created. Genki signals includes a few widgets for data visualisation. Here are a few examles:"
   ]
  },
  {
   "cell_type": "code",
   "execution_count": 7,
   "id": "813f83f4",
   "metadata": {
    "collapsed": true
   },
   "outputs": [
    {
     "ename": "NameError",
     "evalue": "name 'System' is not defined",
     "output_type": "error",
     "traceback": [
      "\u001b[0;31m---------------------------------------------------------------------------\u001b[0m",
      "\u001b[0;31mNameError\u001b[0m                                 Traceback (most recent call last)",
      "Cell \u001b[0;32mIn[7], line 1\u001b[0m\n\u001b[0;32m----> 1\u001b[0m mouse_system \u001b[38;5;241m=\u001b[39m \u001b[43mSystem\u001b[49m(source\u001b[38;5;241m=\u001b[39mmouse_source)\n\u001b[1;32m      2\u001b[0m mouse_system\u001b[38;5;241m.\u001b[39mstart()\n\u001b[1;32m      3\u001b[0m mouse_system\u001b[38;5;241m.\u001b[39mbuffer\u001b[38;5;241m.\u001b[39mplot(ploy_type\u001b[38;5;241m=\u001b[39m\u001b[38;5;124m'\u001b[39m\u001b[38;5;124mtrace_2d\u001b[39m\u001b[38;5;124m'\u001b[39m)\n",
      "\u001b[0;31mNameError\u001b[0m: name 'System' is not defined"
     ]
    }
   ],
   "source": [
    "mouse_system = System(sources=[mouse_source], sampling_rate=100)\n",
    "\n",
    "mouse_system.start()\n",
    "mouse_system.buffer.plot(ploy_type='trace_2d')"
   ]
  },
  {
   "cell_type": "markdown",
   "id": "8179c0e1",
   "metadata": {},
   "source": [
    "The code for starting a system with Wave as a data source is a bit different:"
   ]
  },
  {
   "cell_type": "code",
   "execution_count": 8,
   "id": "291acdb4",
   "metadata": {
    "collapsed": true
   },
   "outputs": [
    {
     "ename": "NameError",
     "evalue": "name 'System' is not defined",
     "output_type": "error",
     "traceback": [
      "\u001b[0;31m---------------------------------------------------------------------------\u001b[0m",
      "\u001b[0;31mNameError\u001b[0m                                 Traceback (most recent call last)",
      "Cell \u001b[0;32mIn[8], line 1\u001b[0m\n\u001b[0;32m----> 1\u001b[0m wave_system \u001b[38;5;241m=\u001b[39m \u001b[43mSystem\u001b[49m(\n\u001b[1;32m      2\u001b[0m     source\u001b[38;5;241m=\u001b[39mwave_source,\n\u001b[1;32m      3\u001b[0m     derived_signals\u001b[38;5;241m=\u001b[39m[\n\u001b[1;32m      4\u001b[0m         s\u001b[38;5;241m.\u001b[39mSamplingRate(),\n\u001b[1;32m      5\u001b[0m         s\u001b[38;5;241m.\u001b[39mEulerAngle(\u001b[38;5;124m'\u001b[39m\u001b[38;5;124mcurrent_pose\u001b[39m\u001b[38;5;124m'\u001b[39m, name\u001b[38;5;241m=\u001b[39m\u001b[38;5;124m'\u001b[39m\u001b[38;5;124meuler_pose\u001b[39m\u001b[38;5;124m'\u001b[39m) \u001b[38;5;66;03m# Or whatever is needed for 3D cube to work\u001b[39;00m\n\u001b[1;32m      6\u001b[0m     ]\n\u001b[1;32m      7\u001b[0m )\n",
      "\u001b[0;31mNameError\u001b[0m: name 'System' is not defined"
     ]
    }
   ],
   "source": [
    "wave_system = System(\n",
    "    lead_source=wave_source,\n",
    "    sources=[],\n",
    "    derived_signals=[\n",
    "        s.SamplingRate(),\n",
    "        s.EulerAngle('current_pose', name='euler_pose') # Or whatever is needed for 3D cube to work\n",
    "    ]\n",
    ")\n",
    "\n",
    "wave_system.start()\n",
    "wave_system.buffer.plot(plot_type='format_text', signal='sampling_rate', text='Wave sampling rate: {}')"
   ]
  },
  {
   "cell_type": "markdown",
   "id": "39edf9c6",
   "metadata": {},
   "source": [
    "The reason for this is that Wave, unlike the other sources we have seen, has its own clock and works on a firmware-controlled sampling rate that we have no control over. If we tell the `System` that it is a _lead_ data source, we don't need to specify a sampling rate to the system, because the system will delegate the clock management to the lead. In this case, `sources` is empty, but if we include data sources, they will act as _following_ data sources, that is they are synchronised to Wave's clock."
   ]
  },
  {
   "cell_type": "code",
   "execution_count": 9,
   "id": "0a3ecd9b",
   "metadata": {
    "collapsed": true
   },
   "outputs": [
    {
     "ename": "NameError",
     "evalue": "name 'wave_system' is not defined",
     "output_type": "error",
     "traceback": [
      "\u001b[0;31m---------------------------------------------------------------------------\u001b[0m",
      "\u001b[0;31mNameError\u001b[0m                                 Traceback (most recent call last)",
      "Cell \u001b[0;32mIn[9], line 1\u001b[0m\n\u001b[0;32m----> 1\u001b[0m \u001b[43mwave_system\u001b[49m\u001b[38;5;241m.\u001b[39mbuffer\u001b[38;5;241m.\u001b[39mplot(plot_type\u001b[38;5;241m=\u001b[39m\u001b[38;5;124m'\u001b[39m\u001b[38;5;124mcube_3d\u001b[39m\u001b[38;5;124m'\u001b[39m, signal\u001b[38;5;241m=\u001b[39m\u001b[38;5;124m'\u001b[39m\u001b[38;5;124meuler_pose\u001b[39m\u001b[38;5;124m'\u001b[39m)\n",
      "\u001b[0;31mNameError\u001b[0m: name 'wave_system' is not defined"
     ]
    }
   ],
   "source": [
    "wave_system.buffer.plot(plot_type='cube_3d', signal='euler_pose')"
   ]
  },
  {
   "cell_type": "markdown",
   "id": "da50b5aa",
   "metadata": {},
   "source": [
    "Other things to add to demo:\n",
    "\n",
    "* Show model inference with histogram\n",
    "* Demonstrate signal spec serialisation to e.g. ONNX\n",
    "* Synthesise some complex data\n",
    "* More signal processing magic - e.g. modulate a signal with noise and delay and demodulate, custom filter design with interactive parameter sliders\n"
   ]
  },
  {
   "cell_type": "code",
   "execution_count": null,
   "id": "fe317d18",
   "metadata": {},
   "outputs": [],
   "source": []
  }
 ],
 "metadata": {
  "kernelspec": {
   "display_name": "Python 3 (ipykernel)",
   "language": "python",
   "name": "python3"
  },
  "language_info": {
   "codemirror_mode": {
    "name": "ipython",
    "version": 3
   },
   "file_extension": ".py",
   "mimetype": "text/x-python",
   "name": "python",
   "nbconvert_exporter": "python",
   "pygments_lexer": "ipython3",
   "version": "3.9.12"
  }
 },
 "nbformat": 4,
 "nbformat_minor": 5
}
