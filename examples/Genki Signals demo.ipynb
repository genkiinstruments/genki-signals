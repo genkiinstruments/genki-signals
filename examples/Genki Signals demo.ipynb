{
 "cells": [
  {
   "cell_type": "markdown",
   "id": "1d7da211",
   "metadata": {},
   "source": [
    "A fundamental concept in Genki Signals is the (circular) buffer:"
   ]
  },
  {
   "cell_type": "code",
   "execution_count": null,
   "id": "ae676f78",
   "metadata": {},
   "outputs": [],
   "source": [
    "from genki_signals.buffers import DataFrameBuffer\n",
    "\n",
    "buffer = DataFrameBuffer(size=400)"
   ]
  },
  {
   "cell_type": "markdown",
   "id": "7427fc81",
   "metadata": {},
   "source": [
    "A `DataFrameBuffer` is similar to a `pandas` `DataFrame` apart from the finite size. If we add more than 400 elements to it, the first ones will be automatically deleted. Genki Signals also provides `ArrayBuffer` (similar to a `numpy` array) and `TensorBuffer` (like a `pytorch` tensor). "
   ]
  },
  {
   "cell_type": "markdown",
   "id": "66d59128",
   "metadata": {},
   "source": [
    "A buffer without data is like a book without words, so let's generate some data! We'll make a simple sine wave generator to begin with:"
   ]
  },
  {
   "cell_type": "code",
   "execution_count": 1,
   "id": "f29ffae7",
   "metadata": {
    "collapsed": true
   },
   "outputs": [
    {
     "ename": "ModuleNotFoundError",
     "evalue": "No module named 'genki_signals'",
     "output_type": "error",
     "traceback": [
      "\u001b[0;31m---------------------------------------------------------------------------\u001b[0m",
      "\u001b[0;31mModuleNotFoundError\u001b[0m                       Traceback (most recent call last)",
      "Cell \u001b[0;32mIn[1], line 1\u001b[0m\n\u001b[0;32m----> 1\u001b[0m \u001b[38;5;28;01mfrom\u001b[39;00m \u001b[38;5;21;01mgenki_signals\u001b[39;00m\u001b[38;5;21;01m.\u001b[39;00m\u001b[38;5;21;01mdata_sources\u001b[39;00m \u001b[38;5;28;01mimport\u001b[39;00m SineWave\n\u001b[1;32m      3\u001b[0m source \u001b[38;5;241m=\u001b[39m SineWave(\n\u001b[1;32m      4\u001b[0m     freq\u001b[38;5;241m=\u001b[39m[\u001b[38;5;241m1\u001b[39m, \u001b[38;5;241m3\u001b[39m],\n\u001b[1;32m      5\u001b[0m     amplitude\u001b[38;5;241m=\u001b[39m[\u001b[38;5;241m5\u001b[39m, \u001b[38;5;241m1\u001b[39m],\n\u001b[0;32m   (...)\u001b[0m\n\u001b[1;32m      8\u001b[0m     tensor_backend\u001b[38;5;241m=\u001b[39m\u001b[38;5;124m'\u001b[39m\u001b[38;5;124mnumpy\u001b[39m\u001b[38;5;124m'\u001b[39m\n\u001b[1;32m      9\u001b[0m )\n",
      "\u001b[0;31mModuleNotFoundError\u001b[0m: No module named 'genki_signals'"
     ]
    }
   ],
   "source": [
    "from genki_signals.data_sources import SineWave\n",
    "\n",
    "source = SineWave(\n",
    "    freq=[1, 3],\n",
    "    amplitude=[5, 1],\n",
    "    phase=[0, 0],\n",
    "    sampling_freq=100,\n",
    ")\n",
    "\n",
    "source.signal_names\n",
    "\n",
    "# ['sine_0', 'sine_1']"
   ]
  },
  {
   "cell_type": "markdown",
   "id": "96c0a0a1",
   "metadata": {},
   "source": [
    "A few comments:\n",
    "\n",
    "* `freq`, `amplitude`, and `phase` all accept a list of two elements. This means the generator is actually generating _two_ independent waves with different frequencies and amplitudes (the phase angles are the same in this case)\n",
    "* `freq` and `sampling_freq` are measured in cycles and samples _per second_ (Hz) - note that time here is not some abstract x-axis but actually real time. Once this data source is put in the right context and started it will generate 100 samples per second of two sine waves with 1 and 3 cycles per second. This data is generated in a separate thread, regardless of wether it is read or used for anything.\n",
    "* `freq`, `amplitude`, and `phase` are all specific to sine wave generation, whereas `sampling_freq` is more general - this argument is present in more data sources\n",
    "* The two sine waves are given __names__ - when we define some signal processing on the waves we will need to refer to them by name \n",
    "\n",
    "While the sine wave data source is useful as an example, data sources that are entirely deterministic are in general not very useful. Usually data sources represent some kind of _input_, e.g. mouse movements or Wave sensor readings:"
   ]
  },
  {
   "cell_type": "code",
   "execution_count": 2,
   "id": "8cce896a",
   "metadata": {
    "collapsed": true
   },
   "outputs": [
    {
     "ename": "ModuleNotFoundError",
     "evalue": "No module named 'genki_signals'",
     "output_type": "error",
     "traceback": [
      "\u001b[0;31m---------------------------------------------------------------------------\u001b[0m",
      "\u001b[0;31mModuleNotFoundError\u001b[0m                       Traceback (most recent call last)",
      "Cell \u001b[0;32mIn[2], line 1\u001b[0m\n\u001b[0;32m----> 1\u001b[0m \u001b[38;5;28;01mfrom\u001b[39;00m \u001b[38;5;21;01mgenki_signals\u001b[39;00m\u001b[38;5;21;01m.\u001b[39;00m\u001b[38;5;21;01mdata_sources\u001b[39;00m \u001b[38;5;28;01mimport\u001b[39;00m MouseDataSources\n",
      "\u001b[0;31mModuleNotFoundError\u001b[0m: No module named 'genki_signals'"
     ]
    }
   ],
   "source": [
    "from genki_signals.data_sources import MouseDataSource, WaveDataSource\n",
    "\n",
    "mouse_source = MouseDataSource(sampling_freq=100)\n",
    "wave_source = WaveDataSource(ble_address)"
   ]
  },
  {
   "cell_type": "markdown",
   "id": "59ca9915",
   "metadata": {},
   "source": [
    "The `MouseDataSource` reads the position of the mouse, and the `WaveDataSource` streams sensor data from a Wave ring. Note that `WaveDataSource` takes no `sampling_freq` argument, this is because Wave operates on it's own clock, and the sampling rate is determined by firmware. \n",
    "\n",
    "Anyways, let's go back to the sine wave example. We currently have a data source and a dataframe buffer, but we haven't connected them. One way to do so is to make the data source populate the buffer in another thread to avoid blocking the main jupyter thread:"
   ]
  },
  {
   "cell_type": "code",
   "execution_count": null,
   "id": "12dd8deb",
   "metadata": {},
   "outputs": [],
   "source": [
    "import time\n",
    "from threading import Thread\n",
    "\n",
    "def run_source():\n",
    "    source.start()\n",
    "    while True:\n",
    "        buffer.append(source.read())\n",
    "        time.sleep(1 / 25)\n",
    "        \n",
    "t = Thread(target=run_source)\n",
    "t.run()"
   ]
  },
  {
   "cell_type": "markdown",
   "id": "29b2a63d",
   "metadata": {},
   "source": [
    "As soon as the `start` method of the data source is called, it starts generating data. Calling `source.read()` returns all data that the source has generated since the last call to `read`. In this case we are calling `read` 25 times a second, but the data source is generating data at 100hz, so we should expect `read` to return 4 data points on average. We have in effect introduced yet another frequency that is relevant which we can call _update frequency_. This is a useful distinction. If we are streaming very high frequency data (e.g. audio) through a websocket, we can lower the update frequency and chunk the data to fewer TCP transmissions. This data is generally meant to be plotted in real time so the other limit of the update frequency is human perception, if graphs appear chunky, the update frequency can be increased.\n",
    "\n",
    "Speaking of graphs, we can now visualise the data as it is generated:"
   ]
  },
  {
   "cell_type": "code",
   "execution_count": 4,
   "id": "8a6a38b4",
   "metadata": {
    "collapsed": true
   },
   "outputs": [
    {
     "ename": "NameError",
     "evalue": "name 'buffer' is not defined",
     "output_type": "error",
     "traceback": [
      "\u001b[0;31m---------------------------------------------------------------------------\u001b[0m",
      "\u001b[0;31mNameError\u001b[0m                                 Traceback (most recent call last)",
      "Cell \u001b[0;32mIn[4], line 1\u001b[0m\n\u001b[0;32m----> 1\u001b[0m \u001b[43mbuffer\u001b[49m\u001b[38;5;241m.\u001b[39mplot() \u001b[38;5;66;03m# This should return a widget with a real-time line chart\u001b[39;00m\n",
      "\u001b[0;31mNameError\u001b[0m: name 'buffer' is not defined"
     ]
    }
   ],
   "source": [
    "buffer.plot() # This should return a widget with a real-time line chart"
   ]
  },
  {
   "cell_type": "markdown",
   "id": "8611c21f",
   "metadata": {},
   "source": [
    "This is neat, but the real power of Genki Signals comes from using derived signals:"
   ]
  },
  {
   "cell_type": "code",
   "execution_count": 3,
   "id": "3787246d",
   "metadata": {
    "collapsed": true
   },
   "outputs": [
    {
     "ename": "ModuleNotFoundError",
     "evalue": "No module named 'genki_signals'",
     "output_type": "error",
     "traceback": [
      "\u001b[0;31m---------------------------------------------------------------------------\u001b[0m",
      "\u001b[0;31mModuleNotFoundError\u001b[0m                       Traceback (most recent call last)",
      "Cell \u001b[0;32mIn[3], line 1\u001b[0m\n\u001b[0;32m----> 1\u001b[0m \u001b[38;5;28;01mimport\u001b[39;00m \u001b[38;5;21;01mgenki_signals\u001b[39;00m\u001b[38;5;21;01m.\u001b[39;00m\u001b[38;5;21;01msignals\u001b[39;00m \u001b[38;5;28;01mas\u001b[39;00m \u001b[38;5;21;01ms\u001b[39;00m\n\u001b[1;32m      3\u001b[0m derived_signals \u001b[38;5;241m=\u001b[39m [\n\u001b[1;32m      4\u001b[0m     s\u001b[38;5;241m.\u001b[39mSum(\u001b[38;5;124m'\u001b[39m\u001b[38;5;124msine_0\u001b[39m\u001b[38;5;124m'\u001b[39m, \u001b[38;5;124m'\u001b[39m\u001b[38;5;124msine_1\u001b[39m\u001b[38;5;124m'\u001b[39m, name\u001b[38;5;241m=\u001b[39m\u001b[38;5;124m'\u001b[39m\u001b[38;5;124mcomposite_sine\u001b[39m\u001b[38;5;124m'\u001b[39m)\n\u001b[1;32m      5\u001b[0m ]\n",
      "\u001b[0;31mModuleNotFoundError\u001b[0m: No module named 'genki_signals'"
     ]
    }
   ],
   "source": [
    "import genki_signals.signals as s\n",
    "\n",
    "derived_signals = [\n",
    "    s.Sum('sine_0', 'sine_1', name='composite_sine')\n",
    "    s.DFT('composite_sine', name='composite_sine_spectrum', window_size=128, window_overlap=32)\n",
    "]"
   ]
  },
  {
   "cell_type": "markdown",
   "id": "87d618de",
   "metadata": {},
   "source": [
    "What are `derived_signals`? It specifies a configuration of derived signals in the context of some data source. Adding `sine_0` and `sine_1` is meaningless without knowing what `sine_0` and `sine_1` are. \n",
    "\n",
    "What do we want from an object like `derived_signals`?\n",
    "\n",
    "* It represents a DAG of time-series operations, each operation can take source signals or results of other operations as input. Names are important!\n",
    "* These should work both offline and online (real time). They are _causal_ in other words.\n",
    "* They should be deterministic - reproducible from the specification only and can only depend on local state.\n",
    "* Determinism means they are serializable to e.g. JSON - this will be passed from frontend to backend in a web app \n",
    "* We can view it as a torch module (and sklearn pipeline?) - which is then serializable as ONNX\n",
    "* This is tensor backend-agnostic. Each signal should be capable of working with numpy arrays, torch tensors, etc.\n",
    "* Each signal in the list is a function that can operate independently given some data.\n",
    "\n",
    "We are still not computing any of the derived signals. If we want to start all of this - a thing which computes two sine waves, adds them together and computes the DFT, we could:\n",
    "\n",
    "* Start the source in a separate thread\n",
    "* Manage all the names and compute all the signals at each step\n",
    "* Keep all the results in a buffer\n",
    "\n",
    "This is quite tedious, but thankfully this is exactly what a `System` does:"
   ]
  },
  {
   "cell_type": "code",
   "execution_count": 5,
   "id": "c592c778",
   "metadata": {
    "collapsed": true
   },
   "outputs": [
    {
     "ename": "ModuleNotFoundError",
     "evalue": "No module named 'genki_signals'",
     "output_type": "error",
     "traceback": [
      "\u001b[0;31m---------------------------------------------------------------------------\u001b[0m",
      "\u001b[0;31mModuleNotFoundError\u001b[0m                       Traceback (most recent call last)",
      "Cell \u001b[0;32mIn[5], line 1\u001b[0m\n\u001b[0;32m----> 1\u001b[0m \u001b[38;5;28;01mfrom\u001b[39;00m \u001b[38;5;21;01mgenki_signals\u001b[39;00m\u001b[38;5;21;01m.\u001b[39;00m\u001b[38;5;21;01msystem\u001b[39;00m \u001b[38;5;28;01mimport\u001b[39;00m System\n\u001b[1;32m      3\u001b[0m system \u001b[38;5;241m=\u001b[39m System(\n\u001b[1;32m      4\u001b[0m     source\u001b[38;5;241m=\u001b[39msource,\n\u001b[1;32m      5\u001b[0m     derived_signals\u001b[38;5;241m=\u001b[39mderived_signals,\n\u001b[1;32m      6\u001b[0m     buffer_len\u001b[38;5;241m=\u001b[39m\u001b[38;5;241m400\u001b[39m,\n\u001b[1;32m      7\u001b[0m     tensor_backend\u001b[38;5;241m=\u001b[39m\u001b[38;5;124m'\u001b[39m\u001b[38;5;124mnumpy\u001b[39m\u001b[38;5;124m'\u001b[39m\n\u001b[1;32m      8\u001b[0m )\n",
      "\u001b[0;31mModuleNotFoundError\u001b[0m: No module named 'genki_signals'"
     ]
    }
   ],
   "source": [
    "from genki_signals.system import System\n",
    "\n",
    "system = System(\n",
    "    source=source,\n",
    "    derived_signals=derived_signals,\n",
    "    buffer_len=400,\n",
    "    tensor_backend='numpy'\n",
    ")"
   ]
  },
  {
   "cell_type": "markdown",
   "id": "3f96b4ac",
   "metadata": {},
   "source": [
    "Most of this is straightforward, but notice the `tensor_backend`. Everything we have defined up to this point is agnostic as to which library is used for vectorised operations. The value of `tensor_backend` can be `'numpy'` for numpy arrays or `'pytorch'` for PyTorch tensors. "
   ]
  },
  {
   "cell_type": "code",
   "execution_count": 6,
   "id": "cb370ef3",
   "metadata": {
    "collapsed": true
   },
   "outputs": [
    {
     "ename": "NameError",
     "evalue": "name 'source' is not defined",
     "output_type": "error",
     "traceback": [
      "\u001b[0;31m---------------------------------------------------------------------------\u001b[0m",
      "\u001b[0;31mNameError\u001b[0m                                 Traceback (most recent call last)",
      "Cell \u001b[0;32mIn[6], line 1\u001b[0m\n\u001b[0;32m----> 1\u001b[0m \u001b[43msource\u001b[49m\u001b[38;5;241m.\u001b[39mstop() \u001b[38;5;66;03m# the source is currently running, we need to stop it to be able to start it again\u001b[39;00m\n\u001b[1;32m      2\u001b[0m system\u001b[38;5;241m.\u001b[39mstart()\n\u001b[1;32m      4\u001b[0m system\u001b[38;5;241m.\u001b[39mbuffer\u001b[38;5;241m.\u001b[39mplot(plot_type\u001b[38;5;241m=\u001b[39m\u001b[38;5;124m'\u001b[39m\u001b[38;5;124mspectrogram\u001b[39m\u001b[38;5;124m'\u001b[39m, signal\u001b[38;5;241m=\u001b[39m\u001b[38;5;124m'\u001b[39m\u001b[38;5;124mcompmosite_sine_spectrum\u001b[39m\u001b[38;5;124m'\u001b[39m)\n",
      "\u001b[0;31mNameError\u001b[0m: name 'source' is not defined"
     ]
    }
   ],
   "source": [
    "source.stop() # the source is currently running, we need to stop it to be able to start it again\n",
    "system.start()\n",
    "\n",
    "system.buffer.plot(plot_type='spectrogram', signal='compmosite_sine_spectrum')"
   ]
  },
  {
   "cell_type": "markdown",
   "id": "06c250bb",
   "metadata": {},
   "source": [
    "Setting `plot_type` changes the type of plot created. Genki signals includes a few widgets for data visualisation. Here are a few examles:"
   ]
  },
  {
   "cell_type": "code",
   "execution_count": 7,
   "id": "bc632e21",
   "metadata": {
    "collapsed": true
   },
   "outputs": [
    {
     "ename": "NameError",
     "evalue": "name 'System' is not defined",
     "output_type": "error",
     "traceback": [
      "\u001b[0;31m---------------------------------------------------------------------------\u001b[0m",
      "\u001b[0;31mNameError\u001b[0m                                 Traceback (most recent call last)",
      "Cell \u001b[0;32mIn[7], line 1\u001b[0m\n\u001b[0;32m----> 1\u001b[0m mouse_system \u001b[38;5;241m=\u001b[39m \u001b[43mSystem\u001b[49m(source\u001b[38;5;241m=\u001b[39mmouse_source)\n\u001b[1;32m      2\u001b[0m mouse_system\u001b[38;5;241m.\u001b[39mstart()\n\u001b[1;32m      3\u001b[0m mouse_system\u001b[38;5;241m.\u001b[39mbuffer\u001b[38;5;241m.\u001b[39mplot(ploy_type\u001b[38;5;241m=\u001b[39m\u001b[38;5;124m'\u001b[39m\u001b[38;5;124mtrace_2d\u001b[39m\u001b[38;5;124m'\u001b[39m)\n",
      "\u001b[0;31mNameError\u001b[0m: name 'System' is not defined"
     ]
    }
   ],
   "source": [
    "mouse_system = System(source=mouse_source)\n",
    "mouse_system.start()\n",
    "mouse_system.buffer.plot(ploy_type='trace_2d')"
   ]
  },
  {
   "cell_type": "code",
   "execution_count": 8,
   "id": "4d0d7252",
   "metadata": {
    "collapsed": true
   },
   "outputs": [
    {
     "ename": "NameError",
     "evalue": "name 'System' is not defined",
     "output_type": "error",
     "traceback": [
      "\u001b[0;31m---------------------------------------------------------------------------\u001b[0m",
      "\u001b[0;31mNameError\u001b[0m                                 Traceback (most recent call last)",
      "Cell \u001b[0;32mIn[8], line 1\u001b[0m\n\u001b[0;32m----> 1\u001b[0m wave_system \u001b[38;5;241m=\u001b[39m \u001b[43mSystem\u001b[49m(\n\u001b[1;32m      2\u001b[0m     source\u001b[38;5;241m=\u001b[39mwave_source,\n\u001b[1;32m      3\u001b[0m     derived_signals\u001b[38;5;241m=\u001b[39m[\n\u001b[1;32m      4\u001b[0m         s\u001b[38;5;241m.\u001b[39mSamplingRate(),\n\u001b[1;32m      5\u001b[0m         s\u001b[38;5;241m.\u001b[39mEulerAngle(\u001b[38;5;124m'\u001b[39m\u001b[38;5;124mcurrent_pose\u001b[39m\u001b[38;5;124m'\u001b[39m, name\u001b[38;5;241m=\u001b[39m\u001b[38;5;124m'\u001b[39m\u001b[38;5;124meuler_pose\u001b[39m\u001b[38;5;124m'\u001b[39m) \u001b[38;5;66;03m# Or whatever is needed for 3D cube to work\u001b[39;00m\n\u001b[1;32m      6\u001b[0m     ]\n\u001b[1;32m      7\u001b[0m )\n",
      "\u001b[0;31mNameError\u001b[0m: name 'System' is not defined"
     ]
    }
   ],
   "source": [
    "wave_system = System(\n",
    "    source=wave_source,\n",
    "    derived_signals=[\n",
    "        s.SamplingRate(),\n",
    "        s.EulerAngle('current_pose', name='euler_pose') # Or whatever is needed for 3D cube to work\n",
    "    ]\n",
    ")\n",
    "\n",
    "wave_system.start()\n",
    "wave_system.buffer.plot(plot_type='format_text', signal='sampling_rate', text='Wave sampling rate: {}')"
   ]
  },
  {
   "cell_type": "code",
   "execution_count": 9,
   "id": "0a650d25",
   "metadata": {
    "collapsed": true
   },
   "outputs": [
    {
     "ename": "NameError",
     "evalue": "name 'wave_system' is not defined",
     "output_type": "error",
     "traceback": [
      "\u001b[0;31m---------------------------------------------------------------------------\u001b[0m",
      "\u001b[0;31mNameError\u001b[0m                                 Traceback (most recent call last)",
      "Cell \u001b[0;32mIn[9], line 1\u001b[0m\n\u001b[0;32m----> 1\u001b[0m \u001b[43mwave_system\u001b[49m\u001b[38;5;241m.\u001b[39mbuffer\u001b[38;5;241m.\u001b[39mplot(plot_type\u001b[38;5;241m=\u001b[39m\u001b[38;5;124m'\u001b[39m\u001b[38;5;124mcube_3d\u001b[39m\u001b[38;5;124m'\u001b[39m, signal\u001b[38;5;241m=\u001b[39m\u001b[38;5;124m'\u001b[39m\u001b[38;5;124meuler_pose\u001b[39m\u001b[38;5;124m'\u001b[39m)\n",
      "\u001b[0;31mNameError\u001b[0m: name 'wave_system' is not defined"
     ]
    }
   ],
   "source": [
    "wave_system.buffer.plot(plot_type='cube_3d', signal='euler_pose')"
   ]
  },
  {
   "cell_type": "markdown",
   "id": "dead7806",
   "metadata": {},
   "source": [
    "Other things to add to demo:\n",
    "\n",
    "* Show model inference with histogram\n",
    "* Demonstrate signal spec serialisation to e.g. ONNX\n",
    "* More signal processing magic - e.g. modulate a signal with noise and delay and demodulate\n"
   ]
  },
  {
   "cell_type": "code",
   "execution_count": null,
   "id": "24b5f824",
   "metadata": {},
   "outputs": [],
   "source": []
  }
 ],
 "metadata": {
  "kernelspec": {
   "display_name": "Python 3 (ipykernel)",
   "language": "python",
   "name": "python3"
  },
  "language_info": {
   "codemirror_mode": {
    "name": "ipython",
    "version": 3
   },
   "file_extension": ".py",
   "mimetype": "text/x-python",
   "name": "python",
   "nbconvert_exporter": "python",
   "pygments_lexer": "ipython3",
   "version": "3.9.12"
  }
 },
 "nbformat": 4,
 "nbformat_minor": 5
}
