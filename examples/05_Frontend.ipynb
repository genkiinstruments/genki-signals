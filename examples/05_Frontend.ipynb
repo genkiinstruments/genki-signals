{
 "cells": [
  {
   "cell_type": "code",
   "execution_count": 2,
   "metadata": {},
   "outputs": [],
   "source": [
    "from genki_signals.sources import MouseSource, Sampler\n",
    "from genki_signals.system import System\n",
    "from genki_signals.frontends import Line\n",
    "\n",
    "mouse_source = MouseSource()\n",
    "mouse_sampler = Sampler({\"mouse_pos\": mouse_source}, 100)\n",
    "mouse_system = System(mouse_sampler)\n",
    "\n",
    "mouse_system.start()"
   ]
  },
  {
   "cell_type": "markdown",
   "metadata": {},
   "source": [
    "To visualize our data we can create a `PlottableWidget` objec that takes a `System` and some data accessors as arguments. \n",
    "\n",
    "Data accessors are ways to access the internal buffers, it can either be a column name in our system or a tuple of a column name and a way to index that column.\n",
    "\n",
    "examples of data accessors:\n",
    "\n",
    "     col_name\n",
    "     (col_name, 0) \n",
    "     (col_name, [0,2])"
   ]
  },
  {
   "cell_type": "code",
   "execution_count": 3,
   "metadata": {},
   "outputs": [
    {
     "data": {
      "application/vnd.jupyter.widget-view+json": {
       "model_id": "fcffeb0d66984a32a7754913c63871c8",
       "version_major": 2,
       "version_minor": 0
      },
      "text/plain": [
       "Figure(axes=[Axis(label='timestamp', scale=LinearScale()), Axis(label='mouse_pos', orientation='vertical', sca…"
      ]
     },
     "metadata": {},
     "output_type": "display_data"
    }
   ],
   "source": [
    "mouse_line = Line(mouse_system, \"timestamp\", \"mouse_pos\")\n",
    "\n",
    "mouse_line"
   ]
  },
  {
   "cell_type": "markdown",
   "metadata": {},
   "source": [
    "We can also wrap one or more `PlottableWidget` in a `WidgetFrontend` which allows us to create a dashboard of many plots"
   ]
  },
  {
   "cell_type": "code",
   "execution_count": 4,
   "metadata": {},
   "outputs": [],
   "source": [
    "from genki_signals.frontends import WidgetDashboard, Bar, Histogram, Scatter\n",
    "\n",
    "mouse_bar = Bar(mouse_system, \"mouse_pos\")\n",
    "mouse_scatter = Scatter(mouse_system, (\"mouse_pos\",0), (\"mouse_pos\",1), flip_y=True)\n",
    "mouse_hist = Histogram(mouse_system, (\"mouse_pos\",0), bin_count=100, lookback_size=200)\n",
    "\n",
    "frontend = WidgetDashboard([mouse_line, mouse_scatter, mouse_bar, mouse_hist])"
   ]
  },
  {
   "cell_type": "code",
   "execution_count": 5,
   "metadata": {},
   "outputs": [
    {
     "data": {
      "application/vnd.jupyter.widget-view+json": {
       "model_id": "cad5de15951547e29bc7c399a603e59d",
       "version_major": 2,
       "version_minor": 0
      },
      "text/plain": [
       "VBox(children=(HBox(children=(Figure(axes=[Axis(label='timestamp', scale=LinearScale(), side='bottom'), Axis(l…"
      ]
     },
     "metadata": {},
     "output_type": "display_data"
    }
   ],
   "source": [
    "frontend"
   ]
  },
  {
   "cell_type": "code",
   "execution_count": 6,
   "metadata": {},
   "outputs": [],
   "source": [
    "mouse_system.stop()"
   ]
  },
  {
   "cell_type": "code",
   "execution_count": null,
   "metadata": {},
   "outputs": [],
   "source": []
  }
 ],
 "metadata": {
  "kernelspec": {
   "display_name": "Python 3 (ipykernel)",
   "language": "python",
   "name": "python3"
  },
  "language_info": {
   "codemirror_mode": {
    "name": "ipython",
    "version": 3
   },
   "file_extension": ".py",
   "mimetype": "text/x-python",
   "name": "python",
   "nbconvert_exporter": "python",
   "pygments_lexer": "ipython3",
   "version": "3.9.12"
  },
  "vscode": {
   "interpreter": {
    "hash": "5d1ca8cbf69155084332556ae3352aa9e7bf4a96dd6bb5cc51f4289812d36157"
   }
  }
 },
 "nbformat": 4,
 "nbformat_minor": 2
}
