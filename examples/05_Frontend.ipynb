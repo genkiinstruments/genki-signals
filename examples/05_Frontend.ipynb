{
 "cells": [
  {
   "cell_type": "markdown",
   "metadata": {
    "deletable": true,
    "editable": true,
    "heading_collapsed": false,
    "hidden": false
   },
   "source": [
    "## Frontends\n",
    "\n",
    "The last topic we cover is frontends. We have used them in the tutorial notebooks so far to create real-time line charts, but there are other types of graphs and other possible types of frontends.\n",
    "\n",
    "As mentioned in the last notebooks, frontends are implemented by using `register_data_feed` on a system. Let's start with a simple mouse position system:"
   ]
  },
  {
   "cell_type": "code",
   "execution_count": null,
   "metadata": {
    "deletable": true,
    "editable": true,
    "heading_collapsed": false,
    "hidden": false
   },
   "outputs": [],
   "source": [
    "from genki_signals.sources import MouseSource, Sampler\n",
    "from genki_signals.system import System\n",
    "\n",
    "mouse_source = MouseSource()\n",
    "mouse_sampler = Sampler({\"mouse_pos\": mouse_source}, 100)\n",
    "mouse_system = System(mouse_sampler)\n",
    "\n",
    "mouse_system.start()"
   ]
  },
  {
   "cell_type": "markdown",
   "metadata": {
    "deletable": true,
    "editable": true,
    "heading_collapsed": false,
    "hidden": false
   },
   "source": [
    "To visualize our data we can create a `PlottableWidget` objec that takes a `System` and some data accessors as arguments. \n",
    "\n",
    "Data accessors are ways to access the internal buffers, it can either be a column name in our system or a tuple of a column name and a way to index that column.\n",
    "\n",
    "examples of data accessors:\n",
    "\n",
    "     col_name\n",
    "     (col_name, 0) \n",
    "     (col_name, [0,2])\n",
    "     \n",
    "In our example, `mouse_pos` is a column name and it contains a signal with shape `(2, t)` where `t` is the time dimension. We can access both the x and y coordinates simultaneously by just using the column name, or access them separately using the indexes 0 and 1."
   ]
  },
  {
   "cell_type": "code",
   "execution_count": null,
   "metadata": {
    "deletable": true,
    "editable": true,
    "heading_collapsed": false,
    "hidden": false,
    "scrolled": false
   },
   "outputs": [],
   "source": [
    "from genki_signals.frontends import Line\n",
    "\n",
    "\n",
    "mouse_line = Line(mouse_system, \"timestamp\", \"mouse_pos\")\n",
    "\n",
    "mouse_line"
   ]
  },
  {
   "cell_type": "markdown",
   "metadata": {
    "deletable": true,
    "editable": true,
    "heading_collapsed": false,
    "hidden": false
   },
   "source": [
    "The `Line` class is an example of a frontend that creates a jupyter widget with a line chart. We can visualize this data in a few different ways, and Genki Signals provides a few more widget classes.\n",
    "\n",
    "We can also wrap the widgets in a `WidgetFrontend`, creating a dashboard with a few plots:"
   ]
  },
  {
   "cell_type": "code",
   "execution_count": null,
   "metadata": {
    "deletable": true,
    "editable": true,
    "heading_collapsed": false,
    "hidden": false
   },
   "outputs": [],
   "source": [
    "from genki_signals.frontends import WidgetDashboard, Bar, Histogram, Scatter\n",
    "\n",
    "mouse_bar = Bar(mouse_system, \"mouse_pos\", y_range=(0, 1500))\n",
    "mouse_scatter = Scatter(mouse_system, (\"mouse_pos\",0), (\"mouse_pos\",1), flip_y=True)\n",
    "mouse_hist = Histogram(mouse_system, (\"mouse_pos\",0), bin_count=100, lookback_size=200, x_range=(0, 1500))\n",
    "\n",
    "frontend = WidgetDashboard([mouse_line, mouse_scatter, mouse_bar, mouse_hist])\n",
    "frontend"
   ]
  },
  {
   "cell_type": "code",
   "execution_count": null,
   "metadata": {
    "deletable": true,
    "editable": true,
    "heading_collapsed": false,
    "hidden": false
   },
   "outputs": [],
   "source": [
    "mouse_system.stop()"
   ]
  },
  {
   "cell_type": "markdown",
   "metadata": {
    "deletable": true,
    "editable": true,
    "heading_collapsed": false,
    "hidden": false
   },
   "source": [
    "Jupyter notebooks are a convenient way to work iteratively with code, and Genki Signals provides widget-based frontends based on [bqplot](https://github.com/bqplot/bqplot) to visualize data in them. \n",
    "\n",
    "However, they are not the only way to develop python code, and apart from the widget frontends, nothing in Genki Signals is inherently designed to work with jupyter notebooks. It's just a library to work with real-time data processing and the frontend abstraction is the way to visualize what's going on in a running system. \n",
    "\n",
    "Although it is not included in the library, it is easy to imagine a web server-based frontend, that streams data through a websocket and displays it in a webapp in the browser. Another possibility is a GUI frontend based on e.g. Qt or tkinter."
   ]
  }
 ],
 "metadata": {
  "kernelspec": {
   "display_name": "Python 3 (ipykernel)",
   "language": "python",
   "name": "python3"
  },
  "language_info": {
   "codemirror_mode": {
    "name": "ipython",
    "version": 3
   },
   "file_extension": ".py",
   "mimetype": "text/x-python",
   "name": "python",
   "nbconvert_exporter": "python",
   "pygments_lexer": "ipython3",
   "version": "3.9.12"
  },
  "vscode": {
   "interpreter": {
    "hash": "5d1ca8cbf69155084332556ae3352aa9e7bf4a96dd6bb5cc51f4289812d36157"
   }
  }
 },
 "nbformat": 4,
 "nbformat_minor": 2
}
