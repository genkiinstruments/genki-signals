{
 "cells": [
  {
   "cell_type": "code",
   "execution_count": 1,
   "metadata": {},
   "outputs": [],
   "source": [
    "import os\n",
    "\n",
    "# NOTE: this isn't required when the library has been installed from PyPI\n",
    "os.chdir('../')"
   ]
  },
  {
   "cell_type": "code",
   "execution_count": 2,
   "metadata": {},
   "outputs": [],
   "source": [
    "from genki_signals.sources import MouseSource, Sampler\n",
    "from genki_signals.system import System\n",
    "from genki_signals.frontends import Line\n",
    "\n",
    "mouse_source = MouseSource()\n",
    "mouse_sampler = Sampler({\"mouse_pos\": mouse_source}, 100)\n",
    "mouse_system = System(mouse_sampler)\n",
    "\n",
    "mouse_system.start()\n",
    "\n",
    "mouse_line = Line(\"timestamp\", \"mouse_pos\")"
   ]
  },
  {
   "attachments": {},
   "cell_type": "markdown",
   "metadata": {},
   "source": [
    "But our line graph object has no way to get data from our `System`. We need to register a data feed to connect them, then everytime our `System` gets new data it sends it onwards to our `Line` object.\n",
    "\n",
    "We can do this directly on our `System` with `System.register_data_feed()` but we can also use `Line.register_on_system()`."
   ]
  },
  {
   "cell_type": "code",
   "execution_count": 3,
   "metadata": {},
   "outputs": [
    {
     "ename": "AttributeError",
     "evalue": "'Line' object has no attribute 'register_on_system'",
     "output_type": "error",
     "traceback": [
      "\u001b[0;31m---------------------------------------------------------------------------\u001b[0m",
      "\u001b[0;31mAttributeError\u001b[0m                            Traceback (most recent call last)",
      "\u001b[1;32m/Users/arnibjarnsteinsson/genki/genki-signals/examples/05_Frontend.ipynb Cell 4\u001b[0m in \u001b[0;36m<cell line: 1>\u001b[0;34m()\u001b[0m\n\u001b[0;32m----> <a href='vscode-notebook-cell:/Users/arnibjarnsteinsson/genki/genki-signals/examples/05_Frontend.ipynb#W3sZmlsZQ%3D%3D?line=0'>1</a>\u001b[0m mouse_line\u001b[39m.\u001b[39;49mregister_on_system(mouse_system)\n\u001b[1;32m      <a href='vscode-notebook-cell:/Users/arnibjarnsteinsson/genki/genki-signals/examples/05_Frontend.ipynb#W3sZmlsZQ%3D%3D?line=2'>3</a>\u001b[0m mouse_line\n",
      "\u001b[0;31mAttributeError\u001b[0m: 'Line' object has no attribute 'register_on_system'"
     ]
    }
   ],
   "source": [
    "mouse_line.register_on_system(mouse_system)\n",
    "\n",
    "mouse_line"
   ]
  },
  {
   "cell_type": "code",
   "execution_count": 4,
   "metadata": {},
   "outputs": [
    {
     "ename": "AttributeError",
     "evalue": "'Line' object has no attribute 'deregister_from_system'",
     "output_type": "error",
     "traceback": [
      "\u001b[0;31m---------------------------------------------------------------------------\u001b[0m",
      "\u001b[0;31mAttributeError\u001b[0m                            Traceback (most recent call last)",
      "\u001b[1;32m/Users/arnibjarnsteinsson/genki/genki-signals/examples/05_Frontend.ipynb Cell 5\u001b[0m in \u001b[0;36m<cell line: 1>\u001b[0;34m()\u001b[0m\n\u001b[0;32m----> <a href='vscode-notebook-cell:/Users/arnibjarnsteinsson/genki/genki-signals/examples/05_Frontend.ipynb#W4sZmlsZQ%3D%3D?line=0'>1</a>\u001b[0m mouse_line\u001b[39m.\u001b[39;49mderegister_from_system(mouse_system)\n",
      "\u001b[0;31mAttributeError\u001b[0m: 'Line' object has no attribute 'deregister_from_system'"
     ]
    }
   ],
   "source": [
    "mouse_line.deregister_from_system(mouse_system)"
   ]
  },
  {
   "attachments": {},
   "cell_type": "markdown",
   "metadata": {},
   "source": [
    "We can also wrap one or more `PlottableWidget` in a `WidgetFrontend` which allows us to create a dashboard of many plots"
   ]
  },
  {
   "cell_type": "code",
   "execution_count": 5,
   "metadata": {},
   "outputs": [],
   "source": [
    "from genki_signals.frontends import WidgetFrontend, Bar, Histogram, Scatter\n",
    "\n",
    "mouse_bar = Bar(\"mouse_pos\")\n",
    "mouse_scatter = Scatter((\"mouse_pos\",0), (\"mouse_pos\",1))\n",
    "mouse_hist = Histogram((\"mouse_pos\",0), bin_count=100, lookback_size=200)\n",
    "\n",
    "# this will register mouse_system on all PlottableWidget\n",
    "frontend = WidgetFrontend(mouse_system, [mouse_line, mouse_scatter, mouse_bar, mouse_hist])"
   ]
  },
  {
   "cell_type": "code",
   "execution_count": 6,
   "metadata": {},
   "outputs": [
    {
     "data": {
      "application/vnd.jupyter.widget-view+json": {
       "model_id": "27b8f5d6351c46b6ace72b2eaaf2dc6b",
       "version_major": 2,
       "version_minor": 0
      },
      "text/plain": [
       "VBox(children=(HBox(children=(Figure(axes=[Axis(label='timestamp', scale=LinearScale(), side='bottom'), Axis(l…"
      ]
     },
     "metadata": {},
     "output_type": "display_data"
    }
   ],
   "source": [
    "frontend"
   ]
  },
  {
   "cell_type": "code",
   "execution_count": 7,
   "metadata": {},
   "outputs": [],
   "source": [
    "mouse_system.stop()"
   ]
  }
 ],
 "metadata": {
  "kernelspec": {
   "display_name": "genki",
   "language": "python",
   "name": "python3"
  },
  "language_info": {
   "codemirror_mode": {
    "name": "ipython",
    "version": 3
   },
   "file_extension": ".py",
   "mimetype": "text/x-python",
   "name": "python",
   "nbconvert_exporter": "python",
   "pygments_lexer": "ipython3",
   "version": "3.9.12 | packaged by conda-forge | (main, Mar 24 2022, 23:25:14) \n[Clang 12.0.1 ]"
  },
  "orig_nbformat": 4,
  "vscode": {
   "interpreter": {
    "hash": "5d1ca8cbf69155084332556ae3352aa9e7bf4a96dd6bb5cc51f4289812d36157"
   }
  }
 },
 "nbformat": 4,
 "nbformat_minor": 2
}
