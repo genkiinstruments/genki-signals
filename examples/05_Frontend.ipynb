{
 "cells": [
  {
   "cell_type": "code",
   "execution_count": 7,
   "metadata": {},
   "outputs": [],
   "source": [
    "import os\n",
    "\n",
    "# NOTE: this isn't required when the library has been installed from PyPI\n",
    "os.chdir('../')"
   ]
  },
  {
   "cell_type": "code",
   "execution_count": 21,
   "metadata": {},
   "outputs": [],
   "source": [
    "from genki_signals.sources import MouseSource, Sampler\n",
    "from genki_signals.system import System\n",
    "from genki_signals.frontends import Line\n",
    "\n",
    "mouse_source = MouseSource()\n",
    "mouse_sampler = Sampler({\"mouse_pos\": mouse_source}, 100)\n",
    "mouse_system = System(mouse_sampler)\n",
    "\n",
    "mouse_system.start()"
   ]
  },
  {
   "attachments": {},
   "cell_type": "markdown",
   "metadata": {},
   "source": [
    "To visualize our data we can create a `PlottableWidget` objec that takes a `System` and some data accessors as arguments. \n",
    "\n",
    "Data accessors are ways to access the internal buffers, it can either be a column name in our system or a tuple of a column name and a way to index that column.\n",
    "\n",
    "examples of data accessors:\n",
    "\n",
    "     col_name\n",
    "     (col_name, 0) \n",
    "     (col_name, [0,2])"
   ]
  },
  {
   "cell_type": "code",
   "execution_count": 23,
   "metadata": {},
   "outputs": [
    {
     "data": {
      "application/vnd.jupyter.widget-view+json": {
       "model_id": "e038acc76e83483aa3e3ed291ead05bd",
       "version_major": 2,
       "version_minor": 0
      },
      "text/plain": [
       "Figure(axes=[Axis(label='timestamp', scale=LinearScale()), Axis(label='mouse_pos', orientation='vertical', sca…"
      ]
     },
     "metadata": {},
     "output_type": "display_data"
    }
   ],
   "source": [
    "mouse_line = Line(mouse_system, \"timestamp\", \"mouse_pos\")\n",
    "\n",
    "mouse_line"
   ]
  },
  {
   "attachments": {},
   "cell_type": "markdown",
   "metadata": {},
   "source": [
    "We can also wrap one or more `PlottableWidget` in a `WidgetFrontend` which allows us to create a dashboard of many plots"
   ]
  },
  {
   "cell_type": "code",
   "execution_count": 24,
   "metadata": {},
   "outputs": [],
   "source": [
    "from genki_signals.frontends import WidgetDashboard, Bar, Histogram, Scatter\n",
    "\n",
    "mouse_bar = Bar(mouse_system, \"mouse_pos\")\n",
    "mouse_scatter = Scatter(mouse_system, (\"mouse_pos\",0), (\"mouse_pos\",1))\n",
    "mouse_hist = Histogram(mouse_system, (\"mouse_pos\",0), bin_count=100, lookback_size=200)\n",
    "\n",
    "# this will register mouse_system on all PlottableWidget\n",
    "frontend = WidgetDashboard([mouse_line, mouse_scatter, mouse_bar, mouse_hist])"
   ]
  },
  {
   "cell_type": "code",
   "execution_count": 25,
   "metadata": {},
   "outputs": [
    {
     "data": {
      "application/vnd.jupyter.widget-view+json": {
       "model_id": "a316f7d187ee4a4d9025ceb9056a2254",
       "version_major": 2,
       "version_minor": 0
      },
      "text/plain": [
       "VBox(children=(HBox(children=(Figure(axes=[Axis(label='timestamp', scale=LinearScale(), side='bottom'), Axis(l…"
      ]
     },
     "metadata": {},
     "output_type": "display_data"
    }
   ],
   "source": [
    "frontend"
   ]
  },
  {
   "cell_type": "code",
   "execution_count": 26,
   "metadata": {},
   "outputs": [],
   "source": [
    "mouse_system.stop()"
   ]
  }
 ],
 "metadata": {
  "kernelspec": {
   "display_name": "genki",
   "language": "python",
   "name": "python3"
  },
  "language_info": {
   "codemirror_mode": {
    "name": "ipython",
    "version": 3
   },
   "file_extension": ".py",
   "mimetype": "text/x-python",
   "name": "python",
   "nbconvert_exporter": "python",
   "pygments_lexer": "ipython3",
   "version": "3.9.12"
  },
  "orig_nbformat": 4,
  "vscode": {
   "interpreter": {
    "hash": "5d1ca8cbf69155084332556ae3352aa9e7bf4a96dd6bb5cc51f4289812d36157"
   }
  }
 },
 "nbformat": 4,
 "nbformat_minor": 2
}
