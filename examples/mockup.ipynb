{
 "cells": [
  {
   "attachments": {},
   "cell_type": "markdown",
   "metadata": {},
   "source": [
    "# Genki Signals Mockup\n",
    "\n",
    "Some rough ideas for how the api will look and feel."
   ]
  },
  {
   "attachments": {},
   "cell_type": "markdown",
   "metadata": {},
   "source": [
    "This library consists of four entities:\n",
    "* `SignalSource`: A class which defines how raw data is read. Referred to as a \"signal\".\n",
    "    * This data can have any dimensionality but the last axis must be the time axis.\n",
    "    * e.g. the MouseDataSource is a 2d signal with dimensions (2, T). It captures the x and y positions of your mouse on the computer screen.\n",
    "* `SignalFunction`: A class which defines operations on real-time data (i.e. signals) which produces new signals, sometimes referred to as \"derived signals\". \n",
    "    * e.g. the Add operation can add together two signals assuming that their dimensionality matches.\n",
    "* `SignalManager`: A class which encapsulates `SignalSources` and `SignalFunctions` units, allowing you to skip most of the boilerplate and record data.\n",
    "* `SignalInspector`: An abstract class which receives data from the `SignalManager` via callback. It has two modes, <i>live</i> and <i>static</i>.\n",
    "    * The <i>static</i> mode, i.e. viewing data you have already recorded, has the following:\n",
    "        * The `Analyzer` class is for visualzing information on entire time series.\n",
    "        * The `Labeller` class has ux so that the user can label their data, written as an annotation file.\n",
    "    * The <i>live</i> mode, e.g. viewing model inference in real time, has the following:\n",
    "        * The `Visualizer` can display real-time data with many different types of plots, e.g. spectrogram, trace, line and barplots.\n"
   ]
  },
  {
   "cell_type": "code",
   "execution_count": 3,
   "metadata": {},
   "outputs": [],
   "source": [
    "import os \n",
    "os.chdir('/Users/bjarnihaukurbjarnason/Documents/genki-signals')\n",
    "\n",
    "from genki_signals.signal_sources import MouseSource, Sampler "
   ]
  },
  {
   "attachments": {},
   "cell_type": "markdown",
   "metadata": {},
   "source": [
    "## SignalSource"
   ]
  },
  {
   "attachments": {},
   "cell_type": "markdown",
   "metadata": {},
   "source": [
    "We have an extra distinction for types of `SignalSources`, one being sources that solely define <i>how</i> data is accessed the other being sources that define <i>when</i> data is accessed. (Some sources can be both)"
   ]
  },
  {
   "attachments": {},
   "cell_type": "markdown",
   "metadata": {},
   "source": [
    "An excellent example for the former type is the `MouseSource` which simply defines how the mouse positions are read.\n",
    "```python\n",
    "class MouseSource(SignalSource):\n",
    "    def __init__(self):\n",
    "        import pynput\n",
    "\n",
    "        self.mouse = pynput.mouse.Controller()\n",
    "\n",
    "    def __call__(self, t):\n",
    "        return np.array(self.mouse.position)\n",
    "```\n",
    "This however does not create real-time data on its own and so we need to wrap it in the latter type of source, e.g. the `Sampler` class.\n",
    "```python\n",
    "class Sampler(SamplerBase):\n",
    "    def __init__(self, sources, sample_rate, sleep_time=1e-6, timestamp_key=\"timestamp\"):\n",
    "        ...\n",
    "\n",
    "source = Sampler([MouseDataSource()], 100)\n",
    "```\n",
    "In this example the `Sampler` \"samples\" from the `MouseSource` 100 times a second. Let's see this done in practice."
   ]
  },
  {
   "cell_type": "code",
   "execution_count": null,
   "metadata": {},
   "outputs": [],
   "source": [
    "import time\n",
    "\n",
    "# Initialize the sampler with a single data source and a sample rate of 100 Hz\n",
    "source = Sampler(sources=[MouseSource()], sample_rate=100)\n",
    "\n",
    "source.start() # Starts collecting data\n",
    "\n",
    "time.sleep(1)\n",
    "\n",
    "data = source.read()\n",
    "print(len(data)) # Since we waited for 1 second, we should around 100 samples\n",
    "print(data.keys()) # The data is stored in a dictionary with the keys being the names of the data sources, should print ['timestamp, 'mouse_position']\n",
    "\n",
    "source.stop() # Stops collecting data"
   ]
  },
  {
   "attachments": {},
   "cell_type": "markdown",
   "metadata": {},
   "source": [
    "## SignalFunctions"
   ]
  },
  {
   "attachments": {},
   "cell_type": "markdown",
   "metadata": {},
   "source": [
    "Next in line are the so called \"derived signals\" which are created deterministically with the `SignalProcessing` classes. Let's see how they work"
   ]
  },
  {
   "cell_type": "code",
   "execution_count": null,
   "metadata": {},
   "outputs": [],
   "source": [
    "from genki_signals import signal_functions as sf\n",
    "\n",
    "input_signal = 'mouse_position'\n",
    "name = 'mouse_position_doubled'\n",
    "mult = sf.Scale(\n",
    "    input_signal=input_signal, # This is used later on with the SignalManager class\n",
    "    scale_factor=2,\n",
    "    name=name, # This is used later on with the SignalManager class\n",
    ") \n",
    "\n",
    "# Let's collect data like before\n",
    "source.start()\n",
    "\n",
    "time.sleep(1)\n",
    "\n",
    "data = source.read()\n",
    "doubled_position = mult(data[input_signal])\n",
    "print(all(data[input_signal] * 2 == doubled_position)) # Should print True\n",
    "\n",
    "source.stop()"
   ]
  },
  {
   "attachments": {},
   "cell_type": "markdown",
   "metadata": {},
   "source": [
    "This however is not nice to work with and so we come to the third entity mentioned, the `SignalManager` class."
   ]
  },
  {
   "attachments": {},
   "cell_type": "markdown",
   "metadata": {},
   "source": [
    "## SignalManager\n",
    "\n",
    "The `SignalManager` class handles all the boilerplate showed previously and more. To put it simply, the manager starts a seperate thread where data is read and derived signals computed at the provided sampling rate."
   ]
  },
  {
   "cell_type": "code",
   "execution_count": null,
   "metadata": {},
   "outputs": [],
   "source": [
    "from genki_signals import SignalManager\n",
    "from genki_signals.signal_sources import MouseSource, Sampler \n",
    "from genki_signals import signal_functions as sf\n",
    "\n",
    "source = Sampler(sources=[MouseSource()], sample_rate=100)\n",
    "derived = [\n",
    "    sf.Scale('mouse_position', scale_factor=2, name='mouse_position_doubled'),\n",
    "    sf.Add('mouse_position', 'mouse_position_doubled', name='mouse_position_tripled'),\n",
    "]\n",
    "\n",
    "manager = SignalManager(source, derived, sample_rate=10) # The sample rate of the SignalManager is independent of the sample rate of the data source\n",
    "\n",
    "manager.start() # Starts collecting data and computing derived signals, each time a new sample is collected it should contain 100/10=10 samples"
   ]
  },
  {
   "attachments": {},
   "cell_type": "markdown",
   "metadata": {},
   "source": [
    "To summarize, the system contains the `SignalSources` and `SignalFunctions`, and when we read new data it sends data corresponding to 'mouse_position' to `Scale` which outputs 'mouse_position_doubled' which is then an input to `Add` along with the original 'mouse_position' producing 'mouse_position_tripled'"
   ]
  },
  {
   "cell_type": "code",
   "execution_count": null,
   "metadata": {},
   "outputs": [],
   "source": [
    "manager.stop()"
   ]
  },
  {
   "cell_type": "code",
   "execution_count": null,
   "metadata": {},
   "outputs": [],
   "source": [
    "from genki_signals import SignalManager\n",
    "from genki_signals.signal_sources import MouseSource, Sampler \n",
    "from genki_signals import signal_functions as sf\n",
    "from genki_signals.gui import BqWidgetGUI\n",
    "\n",
    "source = Sampler(sources=[MouseSource()], sample_rate=100)\n",
    "derived = [\n",
    "    sf.Derivative('mouse_position', name='mouse_velocity'),\n",
    "]\n",
    "\n",
    "gui_frontend = BqWidgetGUI()\n",
    "\n",
    "manager = SignalManager(\n",
    "    signal_source=source,\n",
    "    derived_signals=derived,\n",
    "    sample_rate=10, # The sample rate of the SignalManager is independent of the sample rate of the data source\n",
    "    frontends = [gui_frontend] # can be appended later with .add_frontend()\n",
    ")\n",
    "\n",
    "manager.start() # Starts collecting data and computing derived signals, each time a new sample is collected it should contain 100/10=10 samples"
   ]
  },
  {
   "attachments": {},
   "cell_type": "markdown",
   "metadata": {},
   "source": [
    "We create plots on our real-time data on the frontend object"
   ]
  },
  {
   "cell_type": "code",
   "execution_count": null,
   "metadata": {},
   "outputs": [],
   "source": [
    "# VIP\n",
    "vel_plot = gui_frontend.plot(\n",
    "    x_key='timestamp',\n",
    "    y_key='mouse_velocity',\n",
    "    x_label='Time',\n",
    "    y_label='Velocity',\n",
    "    title='Mouse velocity',\n",
    "    n_visible_points=100\n",
    ")\n",
    "\n",
    "pos_trace = gui_frontend.trace('mouse_position', n_visible_points=100)"
   ]
  },
  {
   "cell_type": "code",
   "execution_count": null,
   "metadata": {},
   "outputs": [],
   "source": [
    "vel_plot"
   ]
  },
  {
   "cell_type": "code",
   "execution_count": null,
   "metadata": {},
   "outputs": [],
   "source": [
    "pos_trace"
   ]
  }
 ],
 "metadata": {
  "kernelspec": {
   "display_name": "genki",
   "language": "python",
   "name": "python3"
  },
  "language_info": {
   "codemirror_mode": {
    "name": "ipython",
    "version": 3
   },
   "file_extension": ".py",
   "mimetype": "text/x-python",
   "name": "python",
   "nbconvert_exporter": "python",
   "pygments_lexer": "ipython3",
   "version": "3.9.12"
  },
  "orig_nbformat": 4
 },
 "nbformat": 4,
 "nbformat_minor": 2
}
