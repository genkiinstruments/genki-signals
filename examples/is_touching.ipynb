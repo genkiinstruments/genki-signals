{
 "cells": [
  {
   "cell_type": "code",
   "execution_count": 3,
   "metadata": {},
   "outputs": [
    {
     "name": "stdout",
     "output_type": "stream",
     "text": [
      "The autoreload extension is already loaded. To reload it, use:\n",
      "  %reload_ext autoreload\n"
     ]
    }
   ],
   "source": [
    "%load_ext autoreload\n",
    "%autoreload 2"
   ]
  },
  {
   "cell_type": "code",
   "execution_count": 4,
   "metadata": {},
   "outputs": [],
   "source": [
    "import os\n",
    "os.chdir(\"/Users/bjarnihaukurbjarnason/Documents/genki-signals\")\n",
    "\n",
    "import numpy as np"
   ]
  },
  {
   "cell_type": "code",
   "execution_count": 5,
   "metadata": {},
   "outputs": [],
   "source": [
    "from genki_signals.signal_system import SignalSystem\n",
    "from genki_signals.signal_sources import WaveSignalSource\n",
    "import genki_signals.signal_functions as sf\n",
    "\n",
    "wave_source = WaveSignalSource(\n",
    "    ble_address = \"D6FC2BBF-EADE-F52E-DEEA-080D63FC2AF7\",\n",
    "    spectrogram = True\n",
    ")\n",
    "\n",
    "derived = [\n",
    "    sf.Stack(\"acc_x\", \"acc_y\", \"acc_z\", \"gyro_x\", \"gyro_y\", \"gyro_z\", name=\"model_input\"),\n",
    "    sf.Inference(\n",
    "        \"model_input\",\n",
    "        name=\"model_output\",\n",
    "        model_filename=\"genki_signals/models/is_touching_model/model.onnx\",\n",
    "        stateful=True,\n",
    "        init_state=np.ones((1, 512), dtype=np.float32)\n",
    "    )\n",
    "]\n",
    "\n",
    "system = SignalSystem(wave_source, derived)"
   ]
  },
  {
   "cell_type": "code",
   "execution_count": 6,
   "metadata": {},
   "outputs": [
    {
     "name": "stdout",
     "output_type": "stream",
     "text": [
      "Connecting to wave at address D6FC2BBF-EADE-F52E-DEEA-080D63FC2AF7\n",
      "Connected to Wave\n"
     ]
    }
   ],
   "source": [
    "system.start()"
   ]
  },
  {
   "cell_type": "code",
   "execution_count": 7,
   "metadata": {},
   "outputs": [],
   "source": [
    "from genki_signals.buffers import DataBuffer\n",
    "\n",
    "buffer = DataBuffer(maxlen=400)\n",
    "\n",
    "system.register_data_feed(id(buffer), lambda d: buffer.extend(d))"
   ]
  },
  {
   "cell_type": "code",
   "execution_count": 8,
   "metadata": {},
   "outputs": [
    {
     "data": {
      "text/plain": [
       "DataBuffer(max_size=400, data=acc_x: (16, 39)\n",
       "acc_y: (16, 39)\n",
       "acc_z: (16, 39)\n",
       "gyro_x: (16, 39)\n",
       "gyro_y: (16, 39)\n",
       "gyro_z: (16, 39)\n",
       "timestamp_us: (39,)\n",
       "model_input: (6, 16, 39)\n",
       "model_output: (4, 28))"
      ]
     },
     "execution_count": 8,
     "metadata": {},
     "output_type": "execute_result"
    }
   ],
   "source": [
    "buffer"
   ]
  },
  {
   "cell_type": "code",
   "execution_count": 9,
   "metadata": {},
   "outputs": [],
   "source": [
    "from genki_signals.signal_frontends import WidgetFrontend, Line, Bar\n",
    "\n",
    "bar = Bar(\n",
    "    \"model_output\",\n",
    "    y_range=(0,1),\n",
    "    x_names=[\"touching_static\", \"touching_moving\", \"air_static\", \"air_moving\"]\n",
    ")\n",
    "\n",
    "frontend = WidgetFrontend(system, [bar])"
   ]
  },
  {
   "cell_type": "code",
   "execution_count": 10,
   "metadata": {},
   "outputs": [
    {
     "data": {
      "application/vnd.jupyter.widget-view+json": {
       "model_id": "f34ef32af1e947fbbd9b48112d8a89bc",
       "version_major": 2,
       "version_minor": 0
      },
      "text/plain": [
       "Figure(axes=[Axis(label='indices', scale=OrdinalScale(domain=['touching_static', 'touching_moving', 'air_stati…"
      ]
     },
     "metadata": {},
     "output_type": "display_data"
    }
   ],
   "source": [
    "bar.widget"
   ]
  },
  {
   "cell_type": "code",
   "execution_count": 11,
   "metadata": {},
   "outputs": [],
   "source": [
    "from genki_widgets import Spectrogram\n",
    "\n",
    "spectrogram = Spectrogram(\n",
    "    (\"acc_y\", -1),\n",
    "    window_size=32,\n",
    "    sample_rate=2000,\n",
    "    n_visible_windows=500,\n",
    "    colormap_max = 0.0005\n",
    ")\n",
    "\n",
    "frontend.register_update_callback(id(spectrogram), lambda d: spectrogram.update(d.as_dict()))"
   ]
  },
  {
   "cell_type": "code",
   "execution_count": 12,
   "metadata": {},
   "outputs": [
    {
     "data": {
      "application/vnd.jupyter.widget-view+json": {
       "model_id": "6442158631f74e389ad96b476245cfea",
       "version_major": 2,
       "version_minor": 0
      },
      "text/plain": [
       "Spectrogram(colormap_max=0.0005, data={'acc_x': [[7.459411335730692e-06, 0.00010834930435521528], [3.217010453…"
      ]
     },
     "metadata": {},
     "output_type": "display_data"
    }
   ],
   "source": [
    "spectrogram"
   ]
  },
  {
   "cell_type": "code",
   "execution_count": 16,
   "metadata": {},
   "outputs": [],
   "source": [
    "frontend.deregister_update_callback(id(spectrogram))"
   ]
  },
  {
   "cell_type": "code",
   "execution_count": null,
   "metadata": {},
   "outputs": [],
   "source": []
  }
 ],
 "metadata": {
  "kernelspec": {
   "display_name": "Python 3 (ipykernel)",
   "language": "python",
   "name": "python3"
  },
  "language_info": {
   "codemirror_mode": {
    "name": "ipython",
    "version": 3
   },
   "file_extension": ".py",
   "mimetype": "text/x-python",
   "name": "python",
   "nbconvert_exporter": "python",
   "pygments_lexer": "ipython3",
   "version": "3.9.12"
  }
 },
 "nbformat": 4,
 "nbformat_minor": 2
}
