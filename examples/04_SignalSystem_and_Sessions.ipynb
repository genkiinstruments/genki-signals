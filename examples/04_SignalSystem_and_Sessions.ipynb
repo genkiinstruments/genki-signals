{
 "cells": [
  {
   "cell_type": "markdown",
   "id": "0b83cbb5",
   "metadata": {},
   "source": [
    "# The SignalSystem and recorded Sessions in depth"
   ]
  },
  {
   "cell_type": "markdown",
   "id": "9feae47f",
   "metadata": {},
   "source": [
    "* System thread and update_rate\n",
    "* Adding functions to live system\n",
    "* data feeds\n",
    "* recorders, file types\n",
    "* metadata, sessions\n",
    "* creating a PyTorch dataset / pandas dataframe etc. from sessions (with computed signal functions)?"
   ]
  },
  {
   "cell_type": "code",
   "execution_count": null,
   "id": "0d96d36e",
   "metadata": {},
   "outputs": [],
   "source": []
  }
 ],
 "metadata": {
  "kernelspec": {
   "display_name": "Python 3 (ipykernel)",
   "language": "python",
   "name": "python3"
  },
  "language_info": {
   "codemirror_mode": {
    "name": "ipython",
    "version": 3
   },
   "file_extension": ".py",
   "mimetype": "text/x-python",
   "name": "python",
   "nbconvert_exporter": "python",
   "pygments_lexer": "ipython3",
   "version": "3.9.12"
  }
 },
 "nbformat": 4,
 "nbformat_minor": 5
}
