{
 "cells": [
  {
   "cell_type": "code",
   "execution_count": 1,
   "id": "e65a9bf9",
   "metadata": {},
   "outputs": [],
   "source": [
    "%load_ext autoreload\n",
    "%autoreload 2"
   ]
  },
  {
   "cell_type": "code",
   "execution_count": 2,
   "id": "a559c396",
   "metadata": {},
   "outputs": [],
   "source": [
    "#!pip install genki_widgets"
   ]
  },
  {
   "cell_type": "code",
   "execution_count": 3,
   "id": "2316acda",
   "metadata": {},
   "outputs": [],
   "source": [
    "import os\n",
    "\n",
    "os.chdir('../')"
   ]
  },
  {
   "cell_type": "code",
   "execution_count": 4,
   "id": "e7304ab2",
   "metadata": {},
   "outputs": [],
   "source": [
    "from genki_signals.signal_sources import MouseSignalSource, CameraSignalSource, Sampler\n",
    "\n",
    "source = Sampler({'image': CameraSignalSource()}, sample_rate=100)"
   ]
  },
  {
   "cell_type": "code",
   "execution_count": 5,
   "id": "c5877598",
   "metadata": {},
   "outputs": [],
   "source": [
    "from genki_signals.signal_system import SignalSystem\n",
    "from genki_signals.signal_frontends.visualization import WidgetFrontend, Line, Video, Scatter, Bar, Histogram\n",
    "\n",
    "system = SignalSystem(source, [], update_rate=30)\n",
    "\n",
    "system.start()"
   ]
  },
  {
   "cell_type": "code",
   "execution_count": 6,
   "id": "442f8aa0",
   "metadata": {},
   "outputs": [],
   "source": [
    "video = Video(\"image\")\n",
    "\n",
    "frontend = WidgetFrontend(system, widgets=[video])"
   ]
  },
  {
   "cell_type": "code",
   "execution_count": 7,
   "id": "d6b73066",
   "metadata": {},
   "outputs": [
    {
     "data": {
      "application/vnd.jupyter.widget-view+json": {
       "model_id": "295d7616c2e64f1ea72fc509e9f3260f",
       "version_major": 2,
       "version_minor": 0
      },
      "text/plain": [
       "Image(value=b'\\xff\\xd8\\xff\\xe0\\x00\\x10JFIF\\x00\\x01\\x01\\x00\\x00\\x01\\x00\\x01\\x00\\x00\\xff\\xdb\\x00C\\x00\\x02\\x01\\x0…"
      ]
     },
     "metadata": {},
     "output_type": "display_data"
    }
   ],
   "source": [
    "video.widget"
   ]
  },
  {
   "cell_type": "code",
   "execution_count": 8,
   "id": "19d0cd81",
   "metadata": {},
   "outputs": [],
   "source": [
    "source2 = Sampler({'mouse': MouseSignalSource()}, sample_rate=100)\n",
    "system2 = SignalSystem(source2, [])\n",
    "system2.start()"
   ]
  },
  {
   "cell_type": "code",
   "execution_count": 9,
   "id": "145825c5",
   "metadata": {},
   "outputs": [],
   "source": [
    "l = Line(\"timestamp\", \"mouse\")\n",
    "s = Scatter((\"mouse\", 0), (\"mouse\", 1), x_range=(0,2560), y_range=(0,1440))\n",
    "b = Bar(\"mouse\", y_range=(0,2560), x_names=[\"x\", \"y\"])\n",
    "h = Histogram((\"mouse\", 0), lookback_size=1000)\n",
    "\n",
    "frontend2 = WidgetFrontend(system2, widgets=[l, s, b, h])"
   ]
  },
  {
   "cell_type": "code",
   "execution_count": 10,
   "id": "8420b457",
   "metadata": {},
   "outputs": [
    {
     "data": {
      "application/vnd.jupyter.widget-view+json": {
       "model_id": "f27f2cda873f4b48968fe7e5b15cde28",
       "version_major": 2,
       "version_minor": 0
      },
      "text/plain": [
       "Figure(axes=[Axis(label='mouse_0', scale=LinearScale(max=2560.0, min=0.0), side='bottom'), Axis(label='mouse_1…"
      ]
     },
     "metadata": {},
     "output_type": "display_data"
    }
   ],
   "source": [
    "s.widget"
   ]
  },
  {
   "cell_type": "code",
   "execution_count": 11,
   "id": "cf8102da",
   "metadata": {},
   "outputs": [
    {
     "data": {
      "application/vnd.jupyter.widget-view+json": {
       "model_id": "0fa1486bbc1449b5af4824789bc41941",
       "version_major": 2,
       "version_minor": 0
      },
      "text/plain": [
       "Figure(axes=[Axis(label='timestamp', scale=LinearScale(), side='bottom'), Axis(label='mouse', orientation='ver…"
      ]
     },
     "metadata": {},
     "output_type": "display_data"
    }
   ],
   "source": [
    "l.widget"
   ]
  },
  {
   "cell_type": "code",
   "execution_count": 12,
   "id": "5e040e01",
   "metadata": {},
   "outputs": [
    {
     "data": {
      "application/vnd.jupyter.widget-view+json": {
       "model_id": "4ae9053e155a4ec4bf935985de7a3a75",
       "version_major": 2,
       "version_minor": 0
      },
      "text/plain": [
       "Figure(axes=[Axis(label='indices', scale=OrdinalScale(domain=['x', 'y']), side='bottom'), Axis(label='mouse', …"
      ]
     },
     "metadata": {},
     "output_type": "display_data"
    }
   ],
   "source": [
    "b.widget"
   ]
  },
  {
   "cell_type": "code",
   "execution_count": 13,
   "id": "4ed2b59c",
   "metadata": {},
   "outputs": [
    {
     "data": {
      "application/vnd.jupyter.widget-view+json": {
       "model_id": "81418a42b51c465f9a3bf2b045ebf034",
       "version_major": 2,
       "version_minor": 0
      },
      "text/plain": [
       "Figure(axes=[Axis(scale=LinearScale(), side='bottom', tick_format='0.2f'), Axis(label='mouse', orientation='ve…"
      ]
     },
     "metadata": {},
     "output_type": "display_data"
    }
   ],
   "source": [
    "h.widget"
   ]
  }
 ],
 "metadata": {
  "kernelspec": {
   "display_name": "Python 3 (ipykernel)",
   "language": "python",
   "name": "python3"
  },
  "language_info": {
   "codemirror_mode": {
    "name": "ipython",
    "version": 3
   },
   "file_extension": ".py",
   "mimetype": "text/x-python",
   "name": "python",
   "nbconvert_exporter": "python",
   "pygments_lexer": "ipython3",
   "version": "3.9.12"
  }
 },
 "nbformat": 4,
 "nbformat_minor": 5
}
