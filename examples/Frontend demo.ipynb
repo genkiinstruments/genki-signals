{
 "cells": [
  {
   "cell_type": "code",
   "execution_count": 11,
   "id": "e65a9bf9",
   "metadata": {},
   "outputs": [
    {
     "name": "stdout",
     "output_type": "stream",
     "text": [
      "The autoreload extension is already loaded. To reload it, use:\n",
      "  %reload_ext autoreload\n"
     ]
    }
   ],
   "source": [
    "%load_ext autoreload\n",
    "%autoreload 2"
   ]
  },
  {
   "cell_type": "code",
   "execution_count": 12,
   "id": "a559c396",
   "metadata": {},
   "outputs": [],
   "source": [
    "#!pip install genki_widgets"
   ]
  },
  {
   "cell_type": "code",
   "execution_count": 13,
   "id": "2316acda",
   "metadata": {},
   "outputs": [],
   "source": [
    "import os\n",
    "\n",
    "os.chdir('../')"
   ]
  },
  {
   "cell_type": "code",
   "execution_count": 14,
   "id": "e7304ab2",
   "metadata": {},
   "outputs": [],
   "source": [
    "from genki_signals.signal_sources import MouseSignalSource, CameraSignalSource, Sampler\n",
    "\n",
    "source = Sampler(\n",
    "    {\n",
    "        'mouse_position': MouseSignalSource(),\n",
    "        'image': CameraSignalSource()\n",
    "    },\n",
    "    sample_rate=100\n",
    ")"
   ]
  },
  {
   "cell_type": "code",
   "execution_count": 15,
   "id": "c5877598",
   "metadata": {},
   "outputs": [],
   "source": [
    "from genki_signals.signal_system import SignalSystem\n",
    "from genki_signals.signal_frontends.visualization import WidgetFrontend, Line, Video\n",
    "\n",
    "system = SignalSystem(source, [], update_rate=60)\n",
    "\n",
    "system.start()"
   ]
  },
  {
   "cell_type": "code",
   "execution_count": 16,
   "id": "442f8aa0",
   "metadata": {},
   "outputs": [],
   "source": [
    "video = Video(\"image\")\n",
    "\n",
    "\n",
    "frontend = WidgetFrontend(system, widgets=[video])"
   ]
  },
  {
   "cell_type": "code",
   "execution_count": 17,
   "id": "d6b73066",
   "metadata": {},
   "outputs": [
    {
     "data": {
      "application/vnd.jupyter.widget-view+json": {
       "model_id": "48a5aad06810407982d1d38de9010dec",
       "version_major": 2,
       "version_minor": 0
      },
      "text/plain": [
       "Image(value=b'\\xff\\xd8\\xff\\xe0\\x00\\x10JFIF\\x00\\x01\\x01\\x00\\x00\\x01\\x00\\x01\\x00\\x00\\xff\\xdb\\x00C\\x00\\x02\\x01\\x0…"
      ]
     },
     "metadata": {},
     "output_type": "display_data"
    }
   ],
   "source": [
    "video.widget"
   ]
  },
  {
   "cell_type": "code",
   "execution_count": null,
   "id": "19d0cd81",
   "metadata": {},
   "outputs": [],
   "source": []
  }
 ],
 "metadata": {
  "kernelspec": {
   "display_name": "Python 3 (ipykernel)",
   "language": "python",
   "name": "python3"
  },
  "language_info": {
   "codemirror_mode": {
    "name": "ipython",
    "version": 3
   },
   "file_extension": ".py",
   "mimetype": "text/x-python",
   "name": "python",
   "nbconvert_exporter": "python",
   "pygments_lexer": "ipython3",
   "version": "3.9.12"
  }
 },
 "nbformat": 4,
 "nbformat_minor": 5
}
