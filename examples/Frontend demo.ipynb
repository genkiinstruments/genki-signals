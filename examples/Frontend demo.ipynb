{
 "cells": [
  {
   "cell_type": "code",
   "execution_count": null,
   "id": "e65a9bf9",
   "metadata": {},
   "outputs": [],
   "source": [
    "%load_ext autoreload\n",
    "%autoreload 2"
   ]
  },
  {
   "cell_type": "code",
   "execution_count": null,
   "id": "2316acda",
   "metadata": {},
   "outputs": [],
   "source": [
    "import os\n",
    "os.chdir(\"/Users/bjarnihaukurbjarnason/Documents/genki-signals\")"
   ]
  },
  {
   "cell_type": "markdown",
   "id": "48645827",
   "metadata": {},
   "source": [
    "Start recording video"
   ]
  },
  {
   "cell_type": "code",
   "execution_count": null,
   "id": "e7304ab2",
   "metadata": {},
   "outputs": [],
   "source": [
    "from genki_signals.signal_system import SignalSystem\n",
    "from genki_signals.signal_sources import CameraSignalSource, MouseSignalSource, Sampler\n",
    "\n",
    "source = Sampler(\n",
    "    {'image': CameraSignalSource(resolution=(720, 480))},\n",
    "    sample_rate=100\n",
    ")\n",
    "system = SignalSystem(source, [], update_rate=60)\n",
    "system.start()"
   ]
  },
  {
   "cell_type": "markdown",
   "id": "37602b0f",
   "metadata": {},
   "source": [
    "Display the video"
   ]
  },
  {
   "cell_type": "code",
   "execution_count": null,
   "id": "442f8aa0",
   "metadata": {},
   "outputs": [],
   "source": [
    "from genki_signals.signal_frontends import WidgetFrontend, Video\n",
    "\n",
    "video = Video(\"image\")\n",
    "\n",
    "frontend = WidgetFrontend(system, widgets=[video])\n",
    "\n",
    "video.widget"
   ]
  },
  {
   "cell_type": "code",
   "execution_count": null,
   "id": "882852cf",
   "metadata": {},
   "outputs": [],
   "source": [
    "source2 = Sampler({'mouse': MouseSignalSource()}, sample_rate=100)\n",
    "system2 = SignalSystem(source2, [])\n",
    "system2.start()"
   ]
  },
  {
   "cell_type": "code",
   "execution_count": null,
   "id": "b5777e2b",
   "metadata": {},
   "outputs": [],
   "source": [
    "from genki_signals.signal_frontends.visualization import Line, Scatter, Bar, Histogram\n",
    "\n",
    "l = Line(\"timestamp\", \"mouse\")\n",
    "s = Scatter((\"mouse\", 0), (\"mouse\", 1), x_range=(0,2560), y_range=(0,1440))\n",
    "b = Bar(\"mouse\", y_range=(0,2560), x_names=[\"x\", \"y\"])\n",
    "h = Histogram((\"mouse\", 0), lookback_size=1000)\n",
    "\n",
    "frontend2 = WidgetFrontend(system2, widgets=[l, s, b, h])"
   ]
  },
  {
   "cell_type": "code",
   "execution_count": null,
   "id": "b53d583d",
   "metadata": {},
   "outputs": [],
   "source": [
    "l.widget"
   ]
  },
  {
   "cell_type": "code",
   "execution_count": null,
   "id": "7d010a22",
   "metadata": {},
   "outputs": [],
   "source": [
    "s.widget"
   ]
  },
  {
   "cell_type": "code",
   "execution_count": null,
   "id": "98e5f1a7",
   "metadata": {},
   "outputs": [],
   "source": [
    "b.widget"
   ]
  },
  {
   "cell_type": "code",
   "execution_count": null,
   "id": "01596e3d",
   "metadata": {},
   "outputs": [],
   "source": [
    "h.widget"
   ]
  },
  {
   "cell_type": "markdown",
   "id": "83e65d97",
   "metadata": {},
   "source": [
    "Read audio data from the mic and compute the fourier transform"
   ]
  },
  {
   "cell_type": "code",
   "execution_count": null,
   "id": "3b5b19b0",
   "metadata": {},
   "outputs": [],
   "source": [
    "from genki_signals.signal_sources import MicSignalSource\n",
    "import genki_signals.signal_functions as sf\n",
    "\n",
    "mic_source = MicSignalSource()\n",
    "derived = [\n",
    "    sf.FourierTransform('audio', name='spectro', window_size=2048, window_overlap=1024)\n",
    "]\n",
    "\n",
    "system3 = SignalSystem(\n",
    "    mic_source,\n",
    "    derived\n",
    ")\n",
    "system3.start()"
   ]
  },
  {
   "cell_type": "markdown",
   "id": "280a16b8",
   "metadata": {},
   "source": [
    "Plot the spectrogram"
   ]
  },
  {
   "cell_type": "code",
   "execution_count": null,
   "id": "0800e698",
   "metadata": {},
   "outputs": [],
   "source": [
    "#!pip install genki_widgets"
   ]
  },
  {
   "cell_type": "code",
   "execution_count": null,
   "id": "7363a662",
   "metadata": {
    "scrolled": false
   },
   "outputs": [],
   "source": [
    "import genki_widgets as gw\n",
    "\n",
    "spectro = gw.Spectrogram(\n",
    "    (\"spectro\", 0),\n",
    "    window_size = 2048,\n",
    "    sample_rate = mic_source.sample_rate,\n",
    "    n_visible_windows = 500,\n",
    "    colormap_max = 3,\n",
    ")\n",
    "\n",
    "frontend3 = WidgetFrontend(system3)\n",
    "# should be able to do widgets=[spectro] but there is some strange bug which requires changing\n",
    "# the databuffer to a dictionary first, something about repr of databuffer failing because the internal\n",
    "# values are lists and therefore have no property shape\n",
    "frontend3.register_update_callback(id(spectro), lambda d: spectro.update(d.as_dict()))"
   ]
  },
  {
   "cell_type": "code",
   "execution_count": null,
   "id": "ec7923d5",
   "metadata": {},
   "outputs": [],
   "source": [
    "spectro"
   ]
  },
  {
   "cell_type": "code",
   "execution_count": null,
   "id": "9ee05b73",
   "metadata": {},
   "outputs": [],
   "source": []
  }
 ],
 "metadata": {
  "kernelspec": {
   "display_name": "Python 3 (ipykernel)",
   "language": "python",
   "name": "python3"
  },
  "language_info": {
   "codemirror_mode": {
    "name": "ipython",
    "version": 3
   },
   "file_extension": ".py",
   "mimetype": "text/x-python",
   "name": "python",
   "nbconvert_exporter": "python",
   "pygments_lexer": "ipython3",
   "version": "3.9.12"
  }
 },
 "nbformat": 4,
 "nbformat_minor": 5
}
