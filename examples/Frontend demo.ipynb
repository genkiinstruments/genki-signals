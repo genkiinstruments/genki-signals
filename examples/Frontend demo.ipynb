{
 "cells": [
  {
   "cell_type": "code",
   "execution_count": null,
   "id": "e65a9bf9",
   "metadata": {},
   "outputs": [],
   "source": [
    "%load_ext autoreload\n",
    "%autoreload 2"
   ]
  },
  {
   "cell_type": "code",
   "execution_count": null,
   "id": "a559c396",
   "metadata": {},
   "outputs": [],
   "source": [
    "#!pip install genki_widgets"
   ]
  },
  {
   "cell_type": "code",
   "execution_count": null,
   "id": "2316acda",
   "metadata": {},
   "outputs": [],
   "source": [
    "import os\n",
    "\n",
    "os.chdir('../')"
   ]
  },
  {
   "cell_type": "code",
   "execution_count": null,
   "id": "e7304ab2",
   "metadata": {},
   "outputs": [],
   "source": [
    "from genki_signals.signal_sources import MouseSignalSource, Sampler\n",
    "\n",
    "mouse_source = Sampler({'mouse_position': MouseSignalSource()}, sample_rate=100)"
   ]
  },
  {
   "cell_type": "code",
   "execution_count": null,
   "id": "c5877598",
   "metadata": {},
   "outputs": [],
   "source": [
    "from genki_signals.signal_system import SignalSystem\n",
    "from genki_signals.signal_frontends.visualization import WidgetFrontend, Line\n",
    "\n",
    "system = SignalSystem(mouse_source, [])\n",
    "\n",
    "system.start()"
   ]
  },
  {
   "cell_type": "code",
   "execution_count": null,
   "id": "442f8aa0",
   "metadata": {},
   "outputs": [],
   "source": [
    "line = Line(\"timestamp\", \"mouse_position\", n_visible_points = 500)\n",
    "\n",
    "frontend = WidgetFrontend(system, widgets=[line])"
   ]
  },
  {
   "cell_type": "code",
   "execution_count": null,
   "id": "d6b73066",
   "metadata": {},
   "outputs": [],
   "source": [
    "line.widget"
   ]
  },
  {
   "cell_type": "code",
   "execution_count": null,
   "id": "c78d8c0f",
   "metadata": {},
   "outputs": [],
   "source": [
    "import genki_widgets as gw\n",
    "\n",
    "sci_line = gw.Line((\"timestamp\", 0), [(\"mouse_position\", 0), (\"mouse_position\", 1)])"
   ]
  },
  {
   "cell_type": "code",
   "execution_count": null,
   "id": "3935c74f",
   "metadata": {},
   "outputs": [],
   "source": [
    "sci_line"
   ]
  },
  {
   "cell_type": "code",
   "execution_count": null,
   "id": "8d70ee05",
   "metadata": {},
   "outputs": [],
   "source": [
    "frontend.register_update_callback(id(sci_line), lambda d: sci_line.update(d.as_dict()))"
   ]
  },
  {
   "cell_type": "code",
   "execution_count": null,
   "id": "00f0e81f",
   "metadata": {},
   "outputs": [],
   "source": [
    "sci_line.n_visible_points = 500"
   ]
  },
  {
   "cell_type": "code",
   "execution_count": null,
   "id": "88a482d8",
   "metadata": {},
   "outputs": [],
   "source": []
  }
 ],
 "metadata": {
  "kernelspec": {
   "display_name": "Python 3 (ipykernel)",
   "language": "python",
   "name": "python3"
  },
  "language_info": {
   "codemirror_mode": {
    "name": "ipython",
    "version": 3
   },
   "file_extension": ".py",
   "mimetype": "text/x-python",
   "name": "python",
   "nbconvert_exporter": "python",
   "pygments_lexer": "ipython3",
   "version": "3.9.12"
  }
 },
 "nbformat": 4,
 "nbformat_minor": 5
}
