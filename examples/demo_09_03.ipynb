{
 "cells": [
  {
   "cell_type": "code",
   "execution_count": 1,
   "id": "ab5fd103-2aa1-4133-a637-9a0c62351003",
   "metadata": {
    "tags": []
   },
   "outputs": [],
   "source": [
    "import os \n",
    "os.chdir('/Users/egill/dev/genki/genki-signals')"
   ]
  },
  {
   "cell_type": "code",
   "execution_count": 10,
   "id": "a714ade4-2b3e-4e7e-bde2-d52425116631",
   "metadata": {
    "tags": []
   },
   "outputs": [],
   "source": [
    "from genki_signals.buffers import DataBuffer\n",
    "\n",
    "buf = DataBuffer(max_size=100)"
   ]
  },
  {
   "cell_type": "code",
   "execution_count": 11,
   "id": "d621484d-8fa2-47ca-b819-ed736f0de259",
   "metadata": {
    "tags": []
   },
   "outputs": [],
   "source": [
    "for i in range(1000):\n",
    "    if i % 2 == 0:\n",
    "        buf.append({'a': i, 'b': i})\n",
    "    else:\n",
    "        buf.append({'a': i})"
   ]
  },
  {
   "cell_type": "code",
   "execution_count": 12,
   "id": "5f5786f0-b077-4ce2-be20-7648b8a627cb",
   "metadata": {
    "tags": []
   },
   "outputs": [
    {
     "data": {
      "text/plain": [
       "array([800., 802., 804., 806., 808., 810., 812., 814., 816., 818., 820.,\n",
       "       822., 824., 826., 828., 830., 832., 834., 836., 838., 840., 842.,\n",
       "       844., 846., 848., 850., 852., 854., 856., 858., 860., 862., 864.,\n",
       "       866., 868., 870., 872., 874., 876., 878., 880., 882., 884., 886.,\n",
       "       888., 890., 892., 894., 896., 898., 900., 902., 904., 906., 908.,\n",
       "       910., 912., 914., 916., 918., 920., 922., 924., 926., 928., 930.,\n",
       "       932., 934., 936., 938., 940., 942., 944., 946., 948., 950., 952.,\n",
       "       954., 956., 958., 960., 962., 964., 966., 968., 970., 972., 974.,\n",
       "       976., 978., 980., 982., 984., 986., 988., 990., 992., 994., 996.,\n",
       "       998.])"
      ]
     },
     "execution_count": 12,
     "metadata": {},
     "output_type": "execute_result"
    }
   ],
   "source": [
    "buf['b']"
   ]
  },
  {
   "cell_type": "code",
   "execution_count": 13,
   "id": "2c881aa3-431b-4a7d-a6c4-58ee674e2bf0",
   "metadata": {
    "tags": []
   },
   "outputs": [],
   "source": [
    "from genki_signals.data_sources import Sampler\n",
    "from genki_signals.data_sources import SineWave\n",
    "\n",
    "sine = SineWave(amplitude=3, frequency=2, phase=0)\n",
    "\n",
    "sampler = Sampler({'sine': sine}, sample_rate=100)"
   ]
  },
  {
   "cell_type": "code",
   "execution_count": 14,
   "id": "d28f8ea8-20d5-4e73-a9e5-9bed6837332f",
   "metadata": {
    "tags": []
   },
   "outputs": [],
   "source": [
    "import time\n",
    "from threading import Thread\n",
    "\n",
    "buf = DataBuffer(max_size=400)\n",
    "\n",
    "def run_source(source, buffer):\n",
    "    source.start()\n",
    "    while True:\n",
    "        buffer.extend(source.read())\n",
    "        time.sleep(1 / 25)\n",
    "        if not source.is_active:\n",
    "            return\n",
    "        \n",
    "\n",
    "t = Thread(target=run_source, args=(sampler, buf))\n",
    "t.start()"
   ]
  },
  {
   "cell_type": "code",
   "execution_count": 15,
   "id": "f726bbb5-950c-42cd-bb98-fc1ecf87c444",
   "metadata": {
    "tags": []
   },
   "outputs": [
    {
     "data": {
      "application/vnd.jupyter.widget-view+json": {
       "model_id": "c5aefa236f2b446d9ebd9d2933b811c4",
       "version_major": 2,
       "version_minor": 0
      },
      "text/plain": [
       "Figure(axes=[Axis(label='t', scale=LinearScale()), Axis(label='sine', orientation='vertical', scale=LinearScal…"
      ]
     },
     "metadata": {},
     "output_type": "display_data"
    }
   ],
   "source": [
    "buf.plot('sine')"
   ]
  },
  {
   "cell_type": "code",
   "execution_count": 16,
   "id": "420fc240-10cf-4b8e-af79-dc35454cd04d",
   "metadata": {
    "tags": []
   },
   "outputs": [
    {
     "data": {
      "application/vnd.jupyter.widget-view+json": {
       "model_id": "339d70efe1054d3baeb581adb4026b87",
       "version_major": 2,
       "version_minor": 0
      },
      "text/plain": [
       "interactive(children=(FloatSlider(value=5.0, description='amplitude', max=5.0, min=1.0, step=0.5), IntSlider(v…"
      ]
     },
     "metadata": {},
     "output_type": "display_data"
    }
   ],
   "source": [
    "from ipywidgets import interact, IntSlider, FloatSlider\n",
    "\n",
    "@interact(amplitude=FloatSlider(min=1, max=5, step=0.5, value=5), frequency=IntSlider(min=1, max=7, value=3))\n",
    "def set_wave_params(amplitude, frequency):\n",
    "    sine.amplitude = amplitude\n",
    "    sine.frequency = frequency"
   ]
  },
  {
   "cell_type": "code",
   "execution_count": 17,
   "id": "5ed6aba4-e62f-44a7-8bf1-84cc486b8107",
   "metadata": {
    "tags": []
   },
   "outputs": [],
   "source": [
    "sampler.stop(); t.join()"
   ]
  },
  {
   "cell_type": "code",
   "execution_count": 18,
   "id": "10061376-d2d1-43ec-835f-2ef31d5313ed",
   "metadata": {
    "tags": []
   },
   "outputs": [
    {
     "name": "stdout",
     "output_type": "stream",
     "text": [
      "Connecting to wave at address 5C72E785-DAF5-1E32-599D-EBF56B8ECD5B\n"
     ]
    }
   ],
   "source": [
    "from genki_signals.data_sources import MicDataSource, WaveDataSource, MouseDataSource, KeyboardDataSource\n",
    "\n",
    "wave_source = WaveDataSource(ble_address='5C72E785-DAF5-1E32-599D-EBF56B8ECD5B')\n",
    "\n",
    "buf = DataBuffer(max_size=400)\n",
    "\n",
    "t = Thread(target=run_source, args=(wave_source, buf))\n",
    "t.start()"
   ]
  },
  {
   "cell_type": "code",
   "execution_count": 20,
   "id": "f56cf3db-2b24-4785-80b7-359e63c99e44",
   "metadata": {
    "tags": []
   },
   "outputs": [],
   "source": [
    "from genki_signals.data_sources import RandomNoise\n",
    "\n",
    "noise_source = RandomNoise()\n",
    "\n",
    "source = Sampler({\n",
    "    'sine_1': SineWave(amplitude=5, frequency=3, phase=0),\n",
    "    'sine_2': SineWave(amplitude=3, frequency=7, phase=0.2),\n",
    "    'noise': noise_source\n",
    "}, sample_rate=100)"
   ]
  },
  {
   "cell_type": "code",
   "execution_count": 21,
   "id": "5d7f1d75-0a28-4b8e-947b-8c9d89693850",
   "metadata": {
    "tags": []
   },
   "outputs": [],
   "source": [
    "import genki_signals.signals as s\n",
    "\n",
    "derived_signals = [\n",
    "    s.Sum('sine_1', 'sine_2', name='composite_sine'),\n",
    "    s.Sum('composite_sine', 'noise', name='wave_with_noise'),\n",
    "    s.FourierTransform('wave_with_noise', window_size=256, window_overlap=64, name='wave_spectrum'),\n",
    "]"
   ]
  },
  {
   "cell_type": "code",
   "execution_count": 22,
   "id": "67f4ec4b-b53e-4fd0-b068-775ba3d1a6bb",
   "metadata": {
    "tags": []
   },
   "outputs": [],
   "source": [
    "from genki_signals.system import System\n",
    "\n",
    "system = System(source, derived_signals)"
   ]
  },
  {
   "cell_type": "code",
   "execution_count": 23,
   "id": "f8c7897a-5f63-44fa-b72d-574bd7b3fbc8",
   "metadata": {
    "tags": []
   },
   "outputs": [],
   "source": [
    "buf = DataBuffer(max_size=400)\n",
    "\n",
    "t = Thread(target=run_source, args=(system, buf))\n",
    "t.start()"
   ]
  },
  {
   "cell_type": "code",
   "execution_count": 25,
   "id": "09825ad5-2b14-462a-827d-a3be933e395e",
   "metadata": {
    "tags": []
   },
   "outputs": [
    {
     "data": {
      "application/vnd.jupyter.widget-view+json": {
       "model_id": "24b2004e79054ffb88e924771a712a50",
       "version_major": 2,
       "version_minor": 0
      },
      "text/plain": [
       "Figure(axes=[Axis(label='t', scale=LinearScale()), Axis(label='wave_with_noise', orientation='vertical', scale…"
      ]
     },
     "metadata": {},
     "output_type": "display_data"
    }
   ],
   "source": [
    "buf.plot('wave_with_noise')"
   ]
  },
  {
   "cell_type": "code",
   "execution_count": 26,
   "id": "21b93a38-c867-4b2b-a063-f64f2db40670",
   "metadata": {
    "tags": []
   },
   "outputs": [
    {
     "data": {
      "application/vnd.jupyter.widget-view+json": {
       "model_id": "03221420a83b4209b6767e1d5f7c4844",
       "version_major": 2,
       "version_minor": 0
      },
      "text/plain": [
       "interactive(children=(FloatSlider(value=1.0, description='noise', max=3.0, min=0.1), Output()), _dom_classes=(…"
      ]
     },
     "metadata": {},
     "output_type": "display_data"
    }
   ],
   "source": [
    "from ipywidgets import interact, FloatSlider\n",
    "\n",
    "@interact(noise=FloatSlider(min=0.1, max=3.0, step=0.1, value=1))\n",
    "def set_noise(noise):\n",
    "    noise_source.amplitude = noise"
   ]
  },
  {
   "cell_type": "code",
   "execution_count": 28,
   "id": "ce4756ec-6bea-42a1-9960-18386e788cc5",
   "metadata": {
    "tags": []
   },
   "outputs": [
    {
     "data": {
      "application/vnd.jupyter.widget-view+json": {
       "model_id": "7a236fd0217148709f27bed4861181fe",
       "version_major": 2,
       "version_minor": 0
      },
      "text/plain": [
       "Figure(axes=[Axis(label='Hz', scale=LinearScale()), Axis(label='db', orientation='vertical', scale=LinearScale…"
      ]
     },
     "metadata": {},
     "output_type": "display_data"
    }
   ],
   "source": [
    "buf.plot('wave_spectrum', plot_type='spectrogram', sample_rate=100, window_size=256)"
   ]
  },
  {
   "cell_type": "code",
   "execution_count": 31,
   "id": "c41c4846-6c39-4593-9227-18878951530b",
   "metadata": {
    "tags": []
   },
   "outputs": [],
   "source": [
    "source.stop()"
   ]
  },
  {
   "cell_type": "code",
   "execution_count": 34,
   "id": "93ad963a-ef14-427e-8808-4ec04d9a0568",
   "metadata": {
    "tags": []
   },
   "outputs": [],
   "source": [
    "mic_source = MicDataSource()\n",
    "\n",
    "buf = DataBuffer(max_size=400)\n",
    "\n",
    "sys_2 = System(mic_source, derived_signals=[])\n",
    "\n",
    "t = Thread(target=run_source, args=(sys_2, buf))\n",
    "t.start()"
   ]
  },
  {
   "cell_type": "code",
   "execution_count": 35,
   "id": "e3fa3a69-59c6-4713-bf50-7d93e1f10815",
   "metadata": {
    "tags": []
   },
   "outputs": [
    {
     "data": {
      "text/plain": [
       "dict_keys(['audio'])"
      ]
     },
     "execution_count": 35,
     "metadata": {},
     "output_type": "execute_result"
    }
   ],
   "source": [
    "buf.keys()"
   ]
  },
  {
   "cell_type": "code",
   "execution_count": 37,
   "id": "0f04adea-2cff-4167-83c2-f92e2be967dd",
   "metadata": {
    "tags": []
   },
   "outputs": [],
   "source": [
    "sys_2.add_derived_signal(s.FourierTransform('audio', name='audio_spectrum', window_size=1024, window_overlap=0))"
   ]
  },
  {
   "cell_type": "code",
   "execution_count": 38,
   "id": "8940c711-f811-4dd7-8b2d-4053bd9c14d3",
   "metadata": {
    "tags": []
   },
   "outputs": [
    {
     "data": {
      "text/plain": [
       "dict_keys(['audio', 'audio_spectrum'])"
      ]
     },
     "execution_count": 38,
     "metadata": {},
     "output_type": "execute_result"
    }
   ],
   "source": [
    "buf.keys()"
   ]
  },
  {
   "cell_type": "code",
   "execution_count": 40,
   "id": "ad6f5545-7a4b-43d8-ab40-f477a8838632",
   "metadata": {
    "tags": []
   },
   "outputs": [
    {
     "data": {
      "application/vnd.jupyter.widget-view+json": {
       "model_id": "39e79e9bd51a4041a858ca55908ec012",
       "version_major": 2,
       "version_minor": 0
      },
      "text/plain": [
       "Figure(axes=[Axis(label='Hz', scale=LinearScale()), Axis(label='db', orientation='vertical', scale=LinearScale…"
      ]
     },
     "metadata": {},
     "output_type": "display_data"
    }
   ],
   "source": [
    "buf.plot(key='audio_spectrum', plot_type='spectrogram', window_size=1024, sample_rate=mic_source.sample_rate)"
   ]
  },
  {
   "cell_type": "code",
   "execution_count": 41,
   "id": "62375ebf-f149-468b-8810-8d47ea9ebdd3",
   "metadata": {
    "tags": []
   },
   "outputs": [],
   "source": [
    "fft = sys_2.derived_signals[0]"
   ]
  },
  {
   "cell_type": "code",
   "execution_count": 43,
   "id": "255f692a-ee1a-40de-bade-da7c62ef32c9",
   "metadata": {
    "tags": []
   },
   "outputs": [],
   "source": [
    "sys_2.stop()"
   ]
  },
  {
   "cell_type": "code",
   "execution_count": 46,
   "id": "b6ef7ac2-0e27-4f19-a31b-a527d0da2401",
   "metadata": {
    "tags": []
   },
   "outputs": [],
   "source": [
    "mouse_source = Sampler({'mouse_position': MouseDataSource()}, sample_rate=100)\n",
    "\n",
    "buf = DataBuffer(max_size=400)\n",
    "\n",
    "sys_3 = System(mouse_source, derived_signals=[])\n",
    "\n",
    "t = Thread(target=run_source, args=(sys_3, buf))\n",
    "t.start()"
   ]
  },
  {
   "cell_type": "code",
   "execution_count": 49,
   "id": "de3ade9d-4eb3-4f48-b22c-90583c22f481",
   "metadata": {
    "collapsed": true,
    "jupyter": {
     "outputs_hidden": true
    },
    "tags": []
   },
   "outputs": [
    {
     "data": {
      "application/vnd.jupyter.widget-view+json": {
       "model_id": "bdfcfe5b665a497eba64537bc67e1fa7",
       "version_major": 2,
       "version_minor": 0
      },
      "text/plain": [
       "Figure(axes=[Axis(label='x', scale=LinearScale()), Axis(label='y', orientation='vertical', scale=LinearScale()…"
      ]
     },
     "metadata": {},
     "output_type": "display_data"
    }
   ],
   "source": [
    "buf.plot('mouse_position', plot_type='trace2D')"
   ]
  },
  {
   "cell_type": "code",
   "execution_count": 51,
   "id": "55073335-95aa-4cbc-b31f-530694ca4365",
   "metadata": {
    "tags": []
   },
   "outputs": [],
   "source": [
    "sys_3.add_derived_signal(s.Differentiate('mouse_position', name='mouse_velocity'))"
   ]
  },
  {
   "cell_type": "code",
   "execution_count": 52,
   "id": "d7bc4beb-b341-45f0-9bb1-a69a8e0595a2",
   "metadata": {
    "tags": []
   },
   "outputs": [
    {
     "data": {
      "text/plain": [
       "DataBuffer(max_size=400, data=timestamp: (400,)\n",
       "mouse_position: (2, 400)\n",
       "mouse_velocity: (2, 400))"
      ]
     },
     "execution_count": 52,
     "metadata": {},
     "output_type": "execute_result"
    }
   ],
   "source": [
    "buf"
   ]
  },
  {
   "cell_type": "code",
   "execution_count": 53,
   "id": "fab4395c-a396-42ec-904f-78f6335314c8",
   "metadata": {
    "tags": []
   },
   "outputs": [],
   "source": [
    "from genki_signals.models.letter_detection_model import SimpleGruModel\n",
    "\n",
    "example_rnn_model = SimpleGruModel.load_from_checkpoint(\"genki_signals/models/stc_detector_final-epoch=15-val_loss=0.53.ckpt\")"
   ]
  },
  {
   "cell_type": "code",
   "execution_count": 54,
   "id": "a1adfdf2-c270-4065-82af-23ea2df9a9ee",
   "metadata": {
    "tags": []
   },
   "outputs": [],
   "source": [
    "sys_3.add_derived_signal(s.Inference(example_rnn_model, input_signals=['mouse_velocity'], \n",
    "                                     stateful=True, name='model_inference'))"
   ]
  },
  {
   "cell_type": "code",
   "execution_count": 61,
   "id": "c40d86d4-7e3f-4e6f-8d5c-e26ea050677d",
   "metadata": {
    "tags": []
   },
   "outputs": [
    {
     "data": {
      "application/vnd.jupyter.widget-view+json": {
       "model_id": "04998c8659b44ca0b968974e71b20794",
       "version_major": 2,
       "version_minor": 0
      },
      "text/plain": [
       "Figure(axes=[Axis(scale=OrdinalScale()), Axis(label='Probability', orientation='vertical', scale=LinearScale()…"
      ]
     },
     "metadata": {},
     "output_type": "display_data"
    }
   ],
   "source": [
    "class_names=['background', 'square', 'triangle', 'circle']\n",
    "\n",
    "buf.plot('model_inference', plot_type='histogram', class_names=class_names)"
   ]
  },
  {
   "cell_type": "code",
   "execution_count": 62,
   "id": "f7f2c17a-0a4e-4316-9d41-61abb087b39c",
   "metadata": {
    "tags": []
   },
   "outputs": [],
   "source": [
    "sys_3.stop()"
   ]
  },
  {
   "cell_type": "code",
   "execution_count": null,
   "id": "28269d26-1093-4beb-817c-615083b2cc50",
   "metadata": {},
   "outputs": [],
   "source": []
  }
 ],
 "metadata": {
  "kernelspec": {
   "display_name": "Python 3 (ipykernel)",
   "language": "python",
   "name": "python3"
  },
  "language_info": {
   "codemirror_mode": {
    "name": "ipython",
    "version": 3
   },
   "file_extension": ".py",
   "mimetype": "text/x-python",
   "name": "python",
   "nbconvert_exporter": "python",
   "pygments_lexer": "ipython3",
   "version": "3.9.12"
  }
 },
 "nbformat": 4,
 "nbformat_minor": 5
}
