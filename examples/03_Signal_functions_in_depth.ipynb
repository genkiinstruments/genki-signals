{
 "cells": [
  {
   "cell_type": "markdown",
   "id": "337c43a4",
   "metadata": {},
   "source": [
    "# Signal functions in depth"
   ]
  },
  {
   "cell_type": "markdown",
   "id": "8ff7ec09",
   "metadata": {},
   "source": [
    "* Geometry example, raw acc/gyro data from Wave and compute pose, 3D cube? Gravity? Linear acceleration?\n",
    "* Filtering / spectrogram example with mic data / wave forms\n",
    "* ML inference example\n",
    "* Windowed signal functions: delay? FFT?\n",
    "* Creating custom signal functions, serialization quirks"
   ]
  },
  {
   "cell_type": "markdown",
   "id": "9e373fab",
   "metadata": {},
   "source": [
    "Genki Signals offers a wide range of `SignalFunction`s and this notebook is mostly meant to demonstrate some of them."
   ]
  },
  {
   "cell_type": "code",
   "execution_count": null,
   "id": "d926c717",
   "metadata": {},
   "outputs": [],
   "source": []
  }
 ],
 "metadata": {
  "kernelspec": {
   "display_name": "Python 3 (ipykernel)",
   "language": "python",
   "name": "python3"
  },
  "language_info": {
   "codemirror_mode": {
    "name": "ipython",
    "version": 3
   },
   "file_extension": ".py",
   "mimetype": "text/x-python",
   "name": "python",
   "nbconvert_exporter": "python",
   "pygments_lexer": "ipython3",
   "version": "3.9.12"
  }
 },
 "nbformat": 4,
 "nbformat_minor": 5
}
