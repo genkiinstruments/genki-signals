{
 "cells": [
  {
   "cell_type": "code",
   "execution_count": null,
   "id": "eba941f9",
   "metadata": {},
   "outputs": [],
   "source": [
    "%load_ext autoreload\n",
    "%autoreload 2"
   ]
  },
  {
   "cell_type": "code",
   "execution_count": null,
   "id": "8da7abaf-5594-4324-86bf-748b47c95426",
   "metadata": {
    "tags": []
   },
   "outputs": [],
   "source": [
    "import os \n",
    "os.chdir('/Users/bjarnihaukurbjarnason/Documents/genki-signals')\n",
    "\n",
    "from genki_signals.buffers import DataBuffer"
   ]
  },
  {
   "cell_type": "code",
   "execution_count": null,
   "id": "f9a73aeb-13f5-42ea-85bd-14676c0a65bb",
   "metadata": {
    "tags": []
   },
   "outputs": [],
   "source": [
    "import time\n",
    "from threading import Thread\n",
    "\n",
    "def run_source(source, buffer):\n",
    "    source.start()\n",
    "    while source.is_active:\n",
    "        buffer.extend(source.read())\n",
    "        time.sleep(1 / 25)"
   ]
  },
  {
   "cell_type": "code",
   "execution_count": null,
   "id": "e84b6c73",
   "metadata": {},
   "outputs": [],
   "source": [
    "from genki_signals.data_sources import CameraDataSource, Sampler\n",
    "\n",
    "buffer = DataBuffer(maxlen=1)\n",
    "\n",
    "resolution = (480, 360)\n",
    "\n",
    "camera = CameraDataSource(resolution=resolution)\n",
    "source = Sampler({\"camera\": camera}, sample_rate=29)\n",
    "\n",
    "t = Thread(target=run_source, args=(source, buffer))\n",
    "t.start()"
   ]
  },
  {
   "cell_type": "code",
   "execution_count": null,
   "id": "c37a8653",
   "metadata": {},
   "outputs": [],
   "source": [
    "buffer.keys()"
   ]
  },
  {
   "cell_type": "code",
   "execution_count": null,
   "id": "8abef655",
   "metadata": {},
   "outputs": [],
   "source": [
    "buffer[\"image\"].shape"
   ]
  },
  {
   "cell_type": "code",
   "execution_count": null,
   "id": "f6c1e368",
   "metadata": {
    "scrolled": false
   },
   "outputs": [],
   "source": [
    "buffer.plot(\"image\", plot_type=\"video\")"
   ]
  },
  {
   "cell_type": "code",
   "execution_count": null,
   "id": "e5591027-1d70-4406-9ab5-4a55f70c1c94",
   "metadata": {
    "tags": []
   },
   "outputs": [],
   "source": [
    "source.stop(); t.join()"
   ]
  },
  {
   "cell_type": "code",
   "execution_count": null,
   "id": "efff186b",
   "metadata": {},
   "outputs": [],
   "source": [
    "import genki_signals.signals as s\n",
    "from genki_signals.system import System\n",
    "\n",
    "derived = [\n",
    "    s.Scale(\"image\", 1/2, \"image_halfed\"),\n",
    "    s.Scale(\"image\", 2, \"image_doubled\"),\n",
    "    s.Concatenate([\"image_halfed\", \"image\", \"image_doubled\"], \"image_concat\", axis=1),\n",
    "]\n",
    "\n",
    "buffer = DataBuffer(maxlen=1)\n",
    "system = System(source, derived)"
   ]
  },
  {
   "cell_type": "code",
   "execution_count": null,
   "id": "63dd03bb",
   "metadata": {},
   "outputs": [],
   "source": [
    "t = Thread(target=run_source, args=(system, buffer))\n",
    "t.start()"
   ]
  },
  {
   "cell_type": "code",
   "execution_count": null,
   "id": "0a83cd3b",
   "metadata": {},
   "outputs": [],
   "source": [
    "buffer.keys()"
   ]
  },
  {
   "cell_type": "code",
   "execution_count": null,
   "id": "64a15402",
   "metadata": {},
   "outputs": [],
   "source": [
    "buffer.plot(\"image_halfed\", plot_type=\"video\")"
   ]
  },
  {
   "cell_type": "code",
   "execution_count": null,
   "id": "7d9a4304",
   "metadata": {},
   "outputs": [],
   "source": [
    "buffer.plot(\"image_doubled\", plot_type=\"video\")"
   ]
  },
  {
   "cell_type": "code",
   "execution_count": null,
   "id": "8091b060",
   "metadata": {},
   "outputs": [],
   "source": [
    "buffer.plot(\"image_concat\", plot_type=\"video\")"
   ]
  },
  {
   "cell_type": "code",
   "execution_count": null,
   "id": "01d92834",
   "metadata": {},
   "outputs": [],
   "source": [
    "system.stop(); t.join()"
   ]
  }
 ],
 "metadata": {
  "kernelspec": {
   "display_name": "Python 3 (ipykernel)",
   "language": "python",
   "name": "python3"
  },
  "language_info": {
   "codemirror_mode": {
    "name": "ipython",
    "version": 3
   },
   "file_extension": ".py",
   "mimetype": "text/x-python",
   "name": "python",
   "nbconvert_exporter": "python",
   "pygments_lexer": "ipython3",
   "version": "3.9.12"
  }
 },
 "nbformat": 4,
 "nbformat_minor": 5
}
