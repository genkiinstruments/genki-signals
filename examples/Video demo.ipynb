{
 "cells": [
  {
   "cell_type": "code",
   "execution_count": 1,
   "id": "eba941f9",
   "metadata": {},
   "outputs": [],
   "source": [
    "%load_ext autoreload\n",
    "%autoreload 2"
   ]
  },
  {
   "cell_type": "code",
   "execution_count": 2,
   "id": "8da7abaf-5594-4324-86bf-748b47c95426",
   "metadata": {
    "tags": []
   },
   "outputs": [],
   "source": [
    "import os \n",
    "os.chdir('/Users/bjarnihaukurbjarnason/Documents/genki-signals')\n",
    "\n",
    "from genki_signals.buffers import DataBuffer"
   ]
  },
  {
   "cell_type": "code",
   "execution_count": 3,
   "id": "f9a73aeb-13f5-42ea-85bd-14676c0a65bb",
   "metadata": {
    "tags": []
   },
   "outputs": [],
   "source": [
    "import time\n",
    "from threading import Thread\n",
    "\n",
    "def run_source(source, buffer):\n",
    "    source.start()\n",
    "    while source.is_active:\n",
    "        buffer.extend(source.read())\n",
    "        time.sleep(1 / 25)"
   ]
  },
  {
   "cell_type": "code",
   "execution_count": 4,
   "id": "e84b6c73",
   "metadata": {},
   "outputs": [],
   "source": [
    "from genki_signals.data_sources import CameraDataSource, Sampler\n",
    "\n",
    "buffer = DataBuffer(maxlen=1)\n",
    "\n",
    "resolution = (480, 360)\n",
    "\n",
    "camera = CameraDataSource(resolution=resolution)\n",
    "source = Sampler({\"camera\": camera}, sample_rate=29)\n",
    "\n",
    "t = Thread(target=run_source, args=(source, buffer))\n",
    "t.start()"
   ]
  },
  {
   "cell_type": "code",
   "execution_count": 5,
   "id": "c37a8653",
   "metadata": {},
   "outputs": [
    {
     "data": {
      "text/plain": [
       "dict_keys(['timestamp', 'image'])"
      ]
     },
     "execution_count": 5,
     "metadata": {},
     "output_type": "execute_result"
    }
   ],
   "source": [
    "buffer.keys()"
   ]
  },
  {
   "cell_type": "code",
   "execution_count": 6,
   "id": "8abef655",
   "metadata": {},
   "outputs": [
    {
     "data": {
      "text/plain": [
       "(3, 480, 360, 1)"
      ]
     },
     "execution_count": 6,
     "metadata": {},
     "output_type": "execute_result"
    }
   ],
   "source": [
    "buffer[\"image\"].shape"
   ]
  },
  {
   "cell_type": "code",
   "execution_count": 7,
   "id": "f6c1e368",
   "metadata": {
    "scrolled": false
   },
   "outputs": [
    {
     "data": {
      "application/vnd.jupyter.widget-view+json": {
       "model_id": "31b23f1ccc3447c1a8920753d8a8d71f",
       "version_major": 2,
       "version_minor": 0
      },
      "text/plain": [
       "Image(value=b'\\xff\\xd8\\xff\\xe0\\x00\\x10JFIF\\x00\\x01\\x01\\x00\\x00\\x01\\x00\\x01\\x00\\x00\\xff\\xdb\\x00C\\x00\\x02\\x01\\x0…"
      ]
     },
     "metadata": {},
     "output_type": "display_data"
    }
   ],
   "source": [
    "buffer.plot(\"image\", plot_type=\"video\")"
   ]
  },
  {
   "cell_type": "code",
   "execution_count": 8,
   "id": "e5591027-1d70-4406-9ab5-4a55f70c1c94",
   "metadata": {
    "tags": []
   },
   "outputs": [],
   "source": [
    "source.stop(); t.join()"
   ]
  },
  {
   "cell_type": "code",
   "execution_count": 9,
   "id": "efff186b",
   "metadata": {},
   "outputs": [],
   "source": [
    "import genki_signals.signals as s\n",
    "from genki_signals.system import System\n",
    "\n",
    "derived = [\n",
    "    s.Scale(\"image\", 2, \"image_scaled\"),\n",
    "]\n",
    "\n",
    "buffer = DataBuffer(maxlen=1)\n",
    "system = System(source, derived)"
   ]
  },
  {
   "cell_type": "code",
   "execution_count": 10,
   "id": "63dd03bb",
   "metadata": {},
   "outputs": [],
   "source": [
    "t = Thread(target=run_source, args=(system, buffer))\n",
    "t.start()"
   ]
  },
  {
   "cell_type": "code",
   "execution_count": 11,
   "id": "0a83cd3b",
   "metadata": {},
   "outputs": [
    {
     "data": {
      "text/plain": [
       "dict_keys(['timestamp', 'image', 'image_scaled', 'image_reshaped'])"
      ]
     },
     "execution_count": 11,
     "metadata": {},
     "output_type": "execute_result"
    }
   ],
   "source": [
    "buffer.keys()"
   ]
  },
  {
   "cell_type": "code",
   "execution_count": 12,
   "id": "64a15402",
   "metadata": {},
   "outputs": [
    {
     "data": {
      "application/vnd.jupyter.widget-view+json": {
       "model_id": "072ba8acc5d84720a66331b6baf50c51",
       "version_major": 2,
       "version_minor": 0
      },
      "text/plain": [
       "Image(value=b'\\xff\\xd8\\xff\\xe0\\x00\\x10JFIF\\x00\\x01\\x01\\x00\\x00\\x01\\x00\\x01\\x00\\x00\\xff\\xdb\\x00C\\x00\\x02\\x01\\x0…"
      ]
     },
     "metadata": {},
     "output_type": "display_data"
    }
   ],
   "source": [
    "buffer.plot(\"image\", plot_type=\"video\")"
   ]
  },
  {
   "cell_type": "code",
   "execution_count": 13,
   "id": "7d9a4304",
   "metadata": {},
   "outputs": [
    {
     "data": {
      "application/vnd.jupyter.widget-view+json": {
       "model_id": "5b817d1399b846108b9a7069164c0ed1",
       "version_major": 2,
       "version_minor": 0
      },
      "text/plain": [
       "Image(value=b'\\xff\\xd8\\xff\\xe0\\x00\\x10JFIF\\x00\\x01\\x01\\x00\\x00\\x01\\x00\\x01\\x00\\x00\\xff\\xdb\\x00C\\x00\\x02\\x01\\x0…"
      ]
     },
     "metadata": {},
     "output_type": "display_data"
    }
   ],
   "source": [
    "buffer.plot(\"image_scaled\", plot_type=\"video\")"
   ]
  },
  {
   "cell_type": "code",
   "execution_count": 14,
   "id": "8091b060",
   "metadata": {},
   "outputs": [
    {
     "data": {
      "application/vnd.jupyter.widget-view+json": {
       "model_id": "3757db1adc414170b2d155ce62468ffa",
       "version_major": 2,
       "version_minor": 0
      },
      "text/plain": [
       "Image(value=b'\\xff\\xd8\\xff\\xe0\\x00\\x10JFIF\\x00\\x01\\x01\\x00\\x00\\x01\\x00\\x01\\x00\\x00\\xff\\xdb\\x00C\\x00\\x02\\x01\\x0…"
      ]
     },
     "metadata": {},
     "output_type": "display_data"
    }
   ],
   "source": [
    "buffer.plot(\"image_reshaped\", plot_type=\"video\")"
   ]
  },
  {
   "cell_type": "code",
   "execution_count": 15,
   "id": "01d92834",
   "metadata": {},
   "outputs": [
    {
     "ename": "",
     "evalue": "",
     "output_type": "error",
     "traceback": [
      "\u001b[1;31mCanceled future for execute_request message before replies were done"
     ]
    },
    {
     "ename": "",
     "evalue": "",
     "output_type": "error",
     "traceback": [
      "\u001b[1;31mThe Kernel crashed while executing code in the the current cell or a previous cell. Please review the code in the cell(s) to identify a possible cause of the failure. Click <a href='https://aka.ms/vscodeJupyterKernelCrash'>here</a> for more info. View Jupyter <a href='command:jupyter.viewOutput'>log</a> for further details."
     ]
    }
   ],
   "source": [
    "system.stop(); t.join()"
   ]
  },
  {
   "cell_type": "code",
   "execution_count": null,
   "id": "d8a249a0",
   "metadata": {},
   "outputs": [],
   "source": []
  }
 ],
 "metadata": {
  "kernelspec": {
   "display_name": "Python 3 (ipykernel)",
   "language": "python",
   "name": "python3"
  },
  "language_info": {
   "codemirror_mode": {
    "name": "ipython",
    "version": 3
   },
   "file_extension": ".py",
   "mimetype": "text/x-python",
   "name": "python",
   "nbconvert_exporter": "python",
   "pygments_lexer": "ipython3",
   "version": "3.9.12"
  }
 },
 "nbformat": 4,
 "nbformat_minor": 5
}
