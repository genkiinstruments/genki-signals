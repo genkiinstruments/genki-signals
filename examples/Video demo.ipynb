{
 "cells": [
  {
   "cell_type": "code",
   "execution_count": 1,
   "id": "eba941f9",
   "metadata": {},
   "outputs": [],
   "source": [
    "%load_ext autoreload\n",
    "%autoreload 2"
   ]
  },
  {
   "cell_type": "code",
   "execution_count": 2,
   "id": "8da7abaf-5594-4324-86bf-748b47c95426",
   "metadata": {
    "tags": []
   },
   "outputs": [],
   "source": [
    "import os \n",
    "os.chdir('/Users/bjarnihaukurbjarnason/Documents/genki-signals')\n",
    "\n",
    "from genki_signals.buffers import DataBuffer"
   ]
  },
  {
   "cell_type": "code",
   "execution_count": 3,
   "id": "f9a73aeb-13f5-42ea-85bd-14676c0a65bb",
   "metadata": {
    "tags": []
   },
   "outputs": [],
   "source": [
    "import time\n",
    "from threading import Thread\n",
    "\n",
    "def run_source(source, buffer):\n",
    "    source.start()\n",
    "    while source.is_active:\n",
    "        buffer.extend(source.read())\n",
    "        time.sleep(1 / 25)"
   ]
  },
  {
   "cell_type": "code",
   "execution_count": 11,
   "id": "e84b6c73",
   "metadata": {},
   "outputs": [],
   "source": [
    "from genki_signals.data_sources import CameraDataSource, Sampler\n",
    "\n",
    "buffer = DataBuffer(maxlen=1)\n",
    "\n",
    "resolution = (480, 360)\n",
    "\n",
    "camera = CameraDataSource(resolution=resolution)\n",
    "source = Sampler({\"camera\": camera}, sample_rate=29)\n",
    "\n",
    "t = Thread(target=run_source, args=(source, buffer))\n",
    "t.start()"
   ]
  },
  {
   "cell_type": "code",
   "execution_count": 12,
   "id": "c37a8653",
   "metadata": {},
   "outputs": [
    {
     "data": {
      "text/plain": [
       "dict_keys(['timestamp', 'image'])"
      ]
     },
     "execution_count": 12,
     "metadata": {},
     "output_type": "execute_result"
    }
   ],
   "source": [
    "buffer.keys()"
   ]
  },
  {
   "cell_type": "code",
   "execution_count": 13,
   "id": "8abef655",
   "metadata": {},
   "outputs": [
    {
     "data": {
      "text/plain": [
       "(3, 480, 360, 1)"
      ]
     },
     "execution_count": 13,
     "metadata": {},
     "output_type": "execute_result"
    }
   ],
   "source": [
    "buffer[\"image\"].shape"
   ]
  },
  {
   "cell_type": "code",
   "execution_count": 14,
   "id": "f6c1e368",
   "metadata": {
    "scrolled": false
   },
   "outputs": [
    {
     "data": {
      "application/vnd.jupyter.widget-view+json": {
       "model_id": "6fbd3443b8ee4a19a727246a04a22fbf",
       "version_major": 2,
       "version_minor": 0
      },
      "text/plain": [
       "Image(value=b'\\xff\\xd8\\xff\\xe0\\x00\\x10JFIF\\x00\\x01\\x01\\x00\\x00\\x01\\x00\\x01\\x00\\x00\\xff\\xdb\\x00C\\x00\\x02\\x01\\x0…"
      ]
     },
     "metadata": {},
     "output_type": "display_data"
    }
   ],
   "source": [
    "buffer.plot(\"image\", plot_type=\"video\")"
   ]
  },
  {
   "cell_type": "code",
   "execution_count": 15,
   "id": "e5591027-1d70-4406-9ab5-4a55f70c1c94",
   "metadata": {
    "tags": []
   },
   "outputs": [],
   "source": [
    "source.stop(); t.join()"
   ]
  }
 ],
 "metadata": {
  "kernelspec": {
   "display_name": "Python 3 (ipykernel)",
   "language": "python",
   "name": "python3"
  },
  "language_info": {
   "codemirror_mode": {
    "name": "ipython",
    "version": 3
   },
   "file_extension": ".py",
   "mimetype": "text/x-python",
   "name": "python",
   "nbconvert_exporter": "python",
   "pygments_lexer": "ipython3",
   "version": "3.9.12"
  }
 },
 "nbformat": 4,
 "nbformat_minor": 5
}
